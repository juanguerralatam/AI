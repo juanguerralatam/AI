{
 "cells": [
  {
   "cell_type": "code",
   "execution_count": 1,
   "metadata": {},
   "outputs": [],
   "source": [
    "import getpass\n",
    "import os\n",
    "\n",
    "def _set_if_undefined(var: str):\n",
    "    if not os.environ.get(var):\n",
    "        os.environ[var] = getpass.getpass(f\"Please provide your {var}\")\n",
    "\n",
    "_set_if_undefined(\"DEEPSEEK_API_KEY\")\n",
    "_set_if_undefined(\"TAVILY_API_KEY\")\n",
    "\n",
    "from langchain_core.tools import tool\n",
    "from langchain_deepseek import ChatDeepSeek\n",
    "\n",
    "llm = ChatDeepSeek(\n",
    "    model=\"deepseek-chat\",\n",
    "    temperature=0,\n",
    "    max_tokens=None,\n",
    "    timeout=None,\n",
    "    max_retries=10, \n",
    ")"
   ]
  },
  {
   "cell_type": "code",
   "execution_count": 4,
   "metadata": {},
   "outputs": [],
   "source": [
    "from typing import Annotated\n",
    "\n",
    "from langchain_community.tools.tavily_search import TavilySearchResults\n",
    "from langchain_core.tools import tool\n",
    "from langchain_experimental.utilities import PythonREPL\n",
    "\n",
    "tavily_tool = TavilySearchResults(max_results=5)\n",
    "\n",
    "# This executes code locally, which can be unsafe\n",
    "repl = PythonREPL()\n",
    "\n",
    "\n",
    "@tool\n",
    "def python_repl_tool(\n",
    "    code: Annotated[str, \"The python code to execute to generate your chart.\"],\n",
    "):\n",
    "    \"\"\"Use this to execute python code and do math. If you want to see the output of a value,\n",
    "    you should print it out with `print(...)`. This is visible to the user.\"\"\"\n",
    "    try:\n",
    "        result = repl.run(code)\n",
    "    except BaseException as e:\n",
    "        return f\"Failed to execute. Error: {repr(e)}\"\n",
    "    result_str = f\"Successfully executed:\\n\\`\\`\\`python\\n{code}\\n\\`\\`\\`\\nStdout: {result}\"\n",
    "    return result_str"
   ]
  },
  {
   "cell_type": "code",
   "execution_count": 2,
   "metadata": {},
   "outputs": [],
   "source": [
    "from typing import Literal\n",
    "from typing_extensions import TypedDict\n",
    "\n",
    "from langchain_anthropic import ChatAnthropic\n",
    "from langgraph.graph import MessagesState, END\n",
    "from langgraph.types import Command\n",
    "\n",
    "\n",
    "members = [\"researcher\", \"coder\"]\n",
    "# Our team supervisor is an LLM node. It just picks the next agent to process\n",
    "# and decides when the work is completed\n",
    "options = members + [\"FINISH\"]\n",
    "\n",
    "system_prompt = (\n",
    "    \"You are a supervisor tasked with managing a conversation between the\"\n",
    "    f\" following workers: {members}. Given the following user request,\"\n",
    "    \" respond with the worker to act next. Each worker will perform a\"\n",
    "    \" task and respond with their results and status. When finished,\"\n",
    "    \" respond with FINISH.\"\n",
    ")\n",
    "\n",
    "\n",
    "class Router(TypedDict):\n",
    "    \"\"\"Worker to route to next. If no workers needed, route to FINISH.\"\"\"\n",
    "\n",
    "    next: Literal[*options]\n",
    "\n",
    "\n",
    "\n",
    "class State(MessagesState):\n",
    "    next: str\n",
    "\n",
    "\n",
    "def supervisor_node(state: State) -> Command[Literal[*members, \"__end__\"]]:\n",
    "    messages = [\n",
    "        {\"role\": \"system\", \"content\": system_prompt},\n",
    "    ] + state[\"messages\"]\n",
    "    response = llm.with_structured_output(Router).invoke(messages)\n",
    "    goto = response[\"next\"]\n",
    "    if goto == \"FINISH\":\n",
    "        goto = END\n",
    "\n",
    "    return Command(goto=goto, update={\"next\": goto})"
   ]
  },
  {
   "cell_type": "code",
   "execution_count": 5,
   "metadata": {},
   "outputs": [],
   "source": [
    "from langchain_core.messages import HumanMessage\n",
    "from langgraph.graph import StateGraph, START, END\n",
    "from langgraph.prebuilt import create_react_agent\n",
    "\n",
    "\n",
    "research_agent = create_react_agent(\n",
    "    llm, tools=[tavily_tool], prompt=\"You are a researcher. DO NOT do any math.\"\n",
    ")\n",
    "\n",
    "\n",
    "def research_node(state: State) -> Command[Literal[\"supervisor\"]]:\n",
    "    result = research_agent.invoke(state)\n",
    "    return Command(\n",
    "        update={\n",
    "            \"messages\": [\n",
    "                HumanMessage(content=result[\"messages\"][-1].content, name=\"researcher\")\n",
    "            ]\n",
    "        },\n",
    "        goto=\"supervisor\",\n",
    "    )\n",
    "\n",
    "\n",
    "# NOTE: THIS PERFORMS ARBITRARY CODE EXECUTION, WHICH CAN BE UNSAFE WHEN NOT SANDBOXED\n",
    "code_agent = create_react_agent(llm, tools=[python_repl_tool])\n",
    "\n",
    "\n",
    "def code_node(state: State) -> Command[Literal[\"supervisor\"]]:\n",
    "    result = code_agent.invoke(state)\n",
    "    return Command(\n",
    "        update={\n",
    "            \"messages\": [\n",
    "                HumanMessage(content=result[\"messages\"][-1].content, name=\"coder\")\n",
    "            ]\n",
    "        },\n",
    "        goto=\"supervisor\",\n",
    "    )\n",
    "\n",
    "\n",
    "builder = StateGraph(State)\n",
    "builder.add_edge(START, \"supervisor\")\n",
    "builder.add_node(\"supervisor\", supervisor_node)\n",
    "builder.add_node(\"researcher\", research_node)\n",
    "builder.add_node(\"coder\", code_node)\n",
    "graph = builder.compile()"
   ]
  },
  {
   "cell_type": "code",
   "execution_count": 6,
   "metadata": {},
   "outputs": [
    {
     "name": "stdout",
     "output_type": "stream",
     "text": [
      "((), {'supervisor': {'next': 'coder'}})\n",
      "----\n"
     ]
    },
    {
     "name": "stderr",
     "output_type": "stream",
     "text": [
      "Python REPL can execute arbitrary code. Use with caution.\n"
     ]
    },
    {
     "name": "stdout",
     "output_type": "stream",
     "text": [
      "(('coder:13e10aed-ece5-ca25-cba7-e7e893682043',), {'agent': {'messages': [AIMessage(content='', additional_kwargs={'tool_calls': [{'id': 'call_0_2c486611-1630-4ae3-9c23-8d02d4761a04', 'function': {'arguments': '{\"code\":\"import math\\\\nprint(math.sqrt(42))\"}', 'name': 'python_repl_tool'}, 'type': 'function', 'index': 0}], 'refusal': None}, response_metadata={'token_usage': {'completion_tokens': 29, 'prompt_tokens': 164, 'total_tokens': 193, 'completion_tokens_details': None, 'prompt_tokens_details': {'audio_tokens': None, 'cached_tokens': 0}, 'prompt_cache_hit_tokens': 0, 'prompt_cache_miss_tokens': 164}, 'model_name': 'deepseek-chat', 'system_fingerprint': 'fp_3d5141a69a_prod0225', 'id': 'eddd3b80-b995-4e53-a3a4-61b18c4b5786', 'finish_reason': 'tool_calls', 'logprobs': None}, id='run-450e2cda-a88a-42c1-a7bf-215db593ae0e-0', tool_calls=[{'name': 'python_repl_tool', 'args': {'code': 'import math\\nprint(math.sqrt(42))'}, 'id': 'call_0_2c486611-1630-4ae3-9c23-8d02d4761a04', 'type': 'tool_call'}], usage_metadata={'input_tokens': 164, 'output_tokens': 29, 'total_tokens': 193, 'input_token_details': {'cache_read': 0}, 'output_token_details': {}})]}})\n",
      "----\n",
      "(('coder:13e10aed-ece5-ca25-cba7-e7e893682043',), {'tools': {'messages': [ToolMessage(content='Successfully executed:\\n\\\\`\\\\`\\\\`python\\nimport math\\nprint(math.sqrt(42))\\n\\\\`\\\\`\\\\`\\nStdout: 6.48074069840786\\n', name='python_repl_tool', id='ee8d772e-2e70-4641-8336-b86c83b63746', tool_call_id='call_0_2c486611-1630-4ae3-9c23-8d02d4761a04')]}})\n",
      "----\n",
      "(('coder:13e10aed-ece5-ca25-cba7-e7e893682043',), {'agent': {'messages': [AIMessage(content='The square root of 42 is approximately 6.4807.', additional_kwargs={'refusal': None}, response_metadata={'token_usage': {'completion_tokens': 14, 'prompt_tokens': 238, 'total_tokens': 252, 'completion_tokens_details': None, 'prompt_tokens_details': {'audio_tokens': None, 'cached_tokens': 128}, 'prompt_cache_hit_tokens': 128, 'prompt_cache_miss_tokens': 110}, 'model_name': 'deepseek-chat', 'system_fingerprint': 'fp_3d5141a69a_prod0225', 'id': 'af589f64-a031-47ae-9a11-dc4e59e69cb6', 'finish_reason': 'stop', 'logprobs': None}, id='run-8013fa75-113f-46bb-a01f-c3d2e5e46d85-0', usage_metadata={'input_tokens': 238, 'output_tokens': 14, 'total_tokens': 252, 'input_token_details': {'cache_read': 128}, 'output_token_details': {}})]}})\n",
      "----\n",
      "((), {'coder': {'messages': [HumanMessage(content='The square root of 42 is approximately 6.4807.', additional_kwargs={}, response_metadata={}, name='coder')]}})\n",
      "----\n",
      "((), {'supervisor': {'next': '__end__'}})\n",
      "----\n"
     ]
    }
   ],
   "source": [
    "for s in graph.stream(\n",
    "    {\"messages\": [(\"user\", \"What's the square root of 42?\")]}, subgraphs=True\n",
    "):\n",
    "    print(s)\n",
    "    print(\"----\")"
   ]
  },
  {
   "cell_type": "code",
   "execution_count": 7,
   "metadata": {},
   "outputs": [
    {
     "name": "stdout",
     "output_type": "stream",
     "text": [
      "((), {'supervisor': {'next': 'researcher'}})\n",
      "----\n",
      "(('researcher:5169b7da-436c-4153-9eb3-a173c2655f7f',), {'agent': {'messages': [AIMessage(content='', additional_kwargs={'tool_calls': [{'id': 'call_0_7c59b678-719e-4f39-9cfe-b0a7468d500a', 'function': {'arguments': '{\"query\": \"latest GDP of New York 2023\"}', 'name': 'tavily_search_results_json'}, 'type': 'function', 'index': 0}, {'id': 'call_1_aa676545-e080-481f-83d5-d547188a8a00', 'function': {'arguments': '{\"query\": \"latest GDP of California 2023\"}', 'name': 'tavily_search_results_json'}, 'type': 'function', 'index': 1}], 'refusal': None}, response_metadata={'token_usage': {'completion_tokens': 58, 'prompt_tokens': 163, 'total_tokens': 221, 'completion_tokens_details': None, 'prompt_tokens_details': {'audio_tokens': None, 'cached_tokens': 0}, 'prompt_cache_hit_tokens': 0, 'prompt_cache_miss_tokens': 163}, 'model_name': 'deepseek-chat', 'system_fingerprint': 'fp_3d5141a69a_prod0225', 'id': '84e6854f-9790-4af6-842e-c34f168f8abc', 'finish_reason': 'tool_calls', 'logprobs': None}, id='run-2ea6c950-c15d-42d5-94bb-e69884dad341-0', tool_calls=[{'name': 'tavily_search_results_json', 'args': {'query': 'latest GDP of New York 2023'}, 'id': 'call_0_7c59b678-719e-4f39-9cfe-b0a7468d500a', 'type': 'tool_call'}, {'name': 'tavily_search_results_json', 'args': {'query': 'latest GDP of California 2023'}, 'id': 'call_1_aa676545-e080-481f-83d5-d547188a8a00', 'type': 'tool_call'}], usage_metadata={'input_tokens': 163, 'output_tokens': 58, 'total_tokens': 221, 'input_token_details': {'cache_read': 0}, 'output_token_details': {}})]}})\n",
      "----\n",
      "(('researcher:5169b7da-436c-4153-9eb3-a173c2655f7f',), {'tools': {'messages': [ToolMessage(content='[{\"title\": \"Real GDP New York U.S. 2023 | Statista\", \"url\": \"https://www.statista.com/statistics/188087/gdp-of-the-us-federal-state-of-new-york-since-1997/\", \"content\": \"U.S. real GDP of New York 2000-2023\\\\nPublished by Statista Research Department, Jul 5, 2024\\\\nIn 2023, the real gross domestic product (GDP) of New York was about 1.78 trillion U.S. dollars. This is a slight increase from the previous year, when the state\\'s GDP stood at 1.76 trillion U.S. dollars.\\\\nRead more\\\\nReal gross domestic product of New York in the United States from 2000 to 2023 (in billion U.S. dollars)\\\\ntable column chart\\\\n| Characteristic | Real GDP in billion U.S. dollars |\\\\n| --- | --- | [...] | 2023 | 17,757.14 |\\\\n| 2022 | 17,635.25 |\\\\n| 2021 | 17,244.72 |\\\\n| 2020 | 16,505.67 |\\\\n| 2019 | 17,097.51 |\\\\n| 2018 | 16,651.87 |\\\\n| 2017 | 16,248.01 |\\\\n| 2016 | 1,403.23 |\\\\n| 2015 | 1,373.64 |\\\\n| 2014 | 1,353.41 |\\\\n| 2013 | 1,329.38 |\\\\n| 2012 | 1,328.23 |\\\\n| 2011 | 1,279.53 |\\\\n| 2010 | 1,277.47 |\\\\n| 2009 | 1,230.67 |\\\\n| 2008 | 1,190.08 |\\\\n| 2007 | 1,208.56 |\\\\n| 2006 | 1,199.28 |\\\\n| 2005 | 1,168.89 |\\\\n| 2004 | 1,144.13 |\\\\n| 2003 | 1,110.61 |\\\\n| 2002 | 1,106.15 |\\\\n| 2001 | 1,112.79 |\\\\n| 2000 | 1,092.19 | [...] BEA. (March 29, 2024). Real gross domestic product of New York in the United States from 2000 to 2023 (in billion U.S. dollars) [Graph]. In Statista. Retrieved February 08, 2025, from https://www.statista.com/statistics/188087/gdp-of-the-us-federal-state-of-new-york-since-1997/\", \"score\": 0.86632514}, {\"title\": \"Economy of New York City - Wikipedia\", \"url\": \"https://en.wikipedia.org/wiki/Economy_of_New_York_City\", \"content\": \"GDP[edit]\\\\nIn 2023, the GDP of New York City was around $1.286 trillion of which $939 billion or 73% was Manhattan.[17]\\\\nCounty  GDP\\\\nNew York    $938.995 billion\\\\nKings   $135.980 billion\\\\nQueens  $133.874 billion\\\\nBronx   $54.591 billion\\\\nRichmond    $22.298 billion\\\\nNew York City   $1,285.738 billion\\\\nCity economic overview[edit]\\\\nTop publicly traded companies\\\\nin New York City\\\\n(ranked by 2015 revenues)\\\\nwith City and U.S. ranks\\\\nNYC     corporation     US\\\\n1       Verizon Communications      13 [...] The economy of New York City encompasses the largest municipal and regional economy in the United States. In 2023, the New York City Metropolitan Area generated a GMP of US$2.299 trillion.[5] Anchored by Wall Street in Lower Manhattan, New York City has been characterized as the world\\'s premier financial center.[6][7][8][9] The city is home to the New York Stock Exchange (NYSE, on Wall Street) and Nasdaq (headquartered in Times Square), the world\\'s two largest stock exchanges by both market\", \"score\": 0.8585411}, {\"title\": \"Gross Domestic Product: All Industry Total in New York (NYNGSP)\", \"url\": \"https://fred.stlouisfed.org/series/NYNGSP\", \"content\": \"Categories > U.S. Regional Data > States > New York\\\\nGross Domestic Product: All Industry Total in New York (NYNGSP)\\\\nObservations\\\\n2023: 2,172,009.6 | Millions of Dollars | Annual\\\\nUpdated: Sep 27, 2024 9:08 AM CDT\\\\nNext Release Date: Mar 28, 2025\\\\nObservations\\\\n2023: 2,172,009.6\\\\nUpdated: Sep 27, 2024 9:08 AM CDT\\\\nNext Release Date: Mar 28, 2025\\\\n2023:\\xa02,172,009.6\\xa02022:\\xa02,052,758.8\\xa02021:\\xa01,923,413.3\\xa02020:\\xa01,773,369.8\\xa02019:\\xa01,787,470.9\\xa0View All\\\\nUnits:\\\\nMillions of Dollars,\\\\nNot Seasonally Adjusted\", \"score\": 0.82048416}, {\"title\": \"GDP by industry New York U.S. 2023 | Statista\", \"url\": \"https://www.statista.com/statistics/304883/new-york-real-gdp-by-industry/\", \"content\": \"U.S. real value added to GDP in New York 2023, by industry\\\\nPublished by Statista Research Department, Oct 14, 2024\\\\nIn 2023, the mining, quarrying, and oil and gas extraction industry added about 730 million chained 2017 U.S. dollars of value to New York\\'s GDP. Total real GDP amounted to about 1.79 trillion chained 2017 U.S. dollars. In 2023, the per capita personal income in New York was 82,323 current U.S. dollars.\\\\nRead more [...] | Educational services, health care, and social assistance | 173.21 |\\\\n| Retail trade | 77.7 |\\\\n| Arts, entertainment, recreation, accommodation, and food services | 73.12 |\\\\n| Manufacturing | 69.69 |\\\\n| Wholesale trade | 63.48 |\\\\n| Construction | 43.18 |\\\\n| Transportation and warehousing | 39.68 |\\\\n| Utilities | 22.4 |\\\\n| Agriculture, forestry, fishing, and hunting | 2.8 |\\\\n| Mining, quarrying, and oil and gas extraction | 0.73 |\\\\nLoading statistic...\\\\nExpand statistic\\\\nAdditional Information [...] BEA. (September 27, 2024). Real value added to the gross domestic product of New York in the United States in 2023, by industry (in billion chained 2017 U.S. dollars) [Graph]. In Statista. Retrieved February 08, 2025, from https://www.statista.com/statistics/304883/new-york-real-gdp-by-industry/\", \"score\": 0.8047902}, {\"title\": \"Economy of New York (state) - Wikipedia\", \"url\": \"https://en.wikipedia.org/wiki/Economy_of_New_York_(state)\", \"content\": \"Jump to content\\\\nMain menu\\\\nSearch\\\\nDonate\\\\nCreate account\\\\nLog in\\\\nPersonal tools\\\\nToggle the table of contents\\\\nEconomy of New York (state)\\\\n1 language\\\\nArticle\\\\nTalk\\\\nRead\\\\nEdit\\\\nView history\\\\nTools\\\\nFrom Wikipedia, the free encyclopedia\\\\nThis article is about the overall economy of New York State. For the economy of New York City, see Economy of New York City.\\\\nEconomy of New York\\\\nNew York City, the economic capital of New York (state)\\\\nStatistics\\\\nGDP $2.3 trillion (2024)[1]\\\\nGDP per capita  $117,332 (2024)[2] [...] Population below poverty line   13.6%[3]\\\\nGini coefficient    0.5157 ± 0.0029 (2023)[4]\\\\nLabour force    9,645,984 (2023)[5]\\\\nUnemployment    4.4% (August 2024)[6]\\\\nPublic finances\\\\nRevenues    $63.5 billion[7]\\\\nExpenses    $54.6 billion[8]\", \"score\": 0.7040996}]', name='tavily_search_results_json', id='608255b7-729f-4775-afb9-9cbfe8f0b9ef', tool_call_id='call_0_7c59b678-719e-4f39-9cfe-b0a7468d500a', artifact={'query': 'latest GDP of New York 2023', 'follow_up_questions': None, 'answer': None, 'images': [], 'results': [{'url': 'https://www.statista.com/statistics/188087/gdp-of-the-us-federal-state-of-new-york-since-1997/', 'title': 'Real GDP New York U.S. 2023 | Statista', 'content': \"U.S. real GDP of New York 2000-2023\\nPublished by Statista Research Department, Jul 5, 2024\\nIn 2023, the real gross domestic product (GDP) of New York was about 1.78 trillion U.S. dollars. This is a slight increase from the previous year, when the state's GDP stood at 1.76 trillion U.S. dollars.\\nRead more\\nReal gross domestic product of New York in the United States from 2000 to 2023 (in billion U.S. dollars)\\ntable column chart\\n| Characteristic | Real GDP in billion U.S. dollars |\\n| --- | --- | [...] | 2023 | 17,757.14 |\\n| 2022 | 17,635.25 |\\n| 2021 | 17,244.72 |\\n| 2020 | 16,505.67 |\\n| 2019 | 17,097.51 |\\n| 2018 | 16,651.87 |\\n| 2017 | 16,248.01 |\\n| 2016 | 1,403.23 |\\n| 2015 | 1,373.64 |\\n| 2014 | 1,353.41 |\\n| 2013 | 1,329.38 |\\n| 2012 | 1,328.23 |\\n| 2011 | 1,279.53 |\\n| 2010 | 1,277.47 |\\n| 2009 | 1,230.67 |\\n| 2008 | 1,190.08 |\\n| 2007 | 1,208.56 |\\n| 2006 | 1,199.28 |\\n| 2005 | 1,168.89 |\\n| 2004 | 1,144.13 |\\n| 2003 | 1,110.61 |\\n| 2002 | 1,106.15 |\\n| 2001 | 1,112.79 |\\n| 2000 | 1,092.19 | [...] BEA. (March 29, 2024). Real gross domestic product of New York in the United States from 2000 to 2023 (in billion U.S. dollars) [Graph]. In Statista. Retrieved February 08, 2025, from https://www.statista.com/statistics/188087/gdp-of-the-us-federal-state-of-new-york-since-1997/\", 'score': 0.86632514, 'raw_content': None}, {'url': 'https://en.wikipedia.org/wiki/Economy_of_New_York_City', 'title': 'Economy of New York City - Wikipedia', 'content': \"GDP[edit]\\nIn 2023, the GDP of New York City was around $1.286 trillion of which $939 billion or 73% was Manhattan.[17]\\nCounty  GDP\\nNew York    $938.995 billion\\nKings   $135.980 billion\\nQueens  $133.874 billion\\nBronx   $54.591 billion\\nRichmond    $22.298 billion\\nNew York City   $1,285.738 billion\\nCity economic overview[edit]\\nTop publicly traded companies\\nin New York City\\n(ranked by 2015 revenues)\\nwith City and U.S. ranks\\nNYC     corporation     US\\n1       Verizon Communications      13 [...] The economy of New York City encompasses the largest municipal and regional economy in the United States. In 2023, the New York City Metropolitan Area generated a GMP of US$2.299 trillion.[5] Anchored by Wall Street in Lower Manhattan, New York City has been characterized as the world's premier financial center.[6][7][8][9] The city is home to the New York Stock Exchange (NYSE, on Wall Street) and Nasdaq (headquartered in Times Square), the world's two largest stock exchanges by both market\", 'score': 0.8585411, 'raw_content': None}, {'url': 'https://fred.stlouisfed.org/series/NYNGSP', 'title': 'Gross Domestic Product: All Industry Total in New York (NYNGSP)', 'content': 'Categories > U.S. Regional Data > States > New York\\nGross Domestic Product: All Industry Total in New York (NYNGSP)\\nObservations\\n2023: 2,172,009.6 | Millions of Dollars | Annual\\nUpdated: Sep 27, 2024 9:08 AM CDT\\nNext Release Date: Mar 28, 2025\\nObservations\\n2023: 2,172,009.6\\nUpdated: Sep 27, 2024 9:08 AM CDT\\nNext Release Date: Mar 28, 2025\\n2023:\\xa02,172,009.6\\xa02022:\\xa02,052,758.8\\xa02021:\\xa01,923,413.3\\xa02020:\\xa01,773,369.8\\xa02019:\\xa01,787,470.9\\xa0View All\\nUnits:\\nMillions of Dollars,\\nNot Seasonally Adjusted', 'score': 0.82048416, 'raw_content': None}, {'url': 'https://www.statista.com/statistics/304883/new-york-real-gdp-by-industry/', 'title': 'GDP by industry New York U.S. 2023 | Statista', 'content': \"U.S. real value added to GDP in New York 2023, by industry\\nPublished by Statista Research Department, Oct 14, 2024\\nIn 2023, the mining, quarrying, and oil and gas extraction industry added about 730 million chained 2017 U.S. dollars of value to New York's GDP. Total real GDP amounted to about 1.79 trillion chained 2017 U.S. dollars. In 2023, the per capita personal income in New York was 82,323 current U.S. dollars.\\nRead more [...] | Educational services, health care, and social assistance | 173.21 |\\n| Retail trade | 77.7 |\\n| Arts, entertainment, recreation, accommodation, and food services | 73.12 |\\n| Manufacturing | 69.69 |\\n| Wholesale trade | 63.48 |\\n| Construction | 43.18 |\\n| Transportation and warehousing | 39.68 |\\n| Utilities | 22.4 |\\n| Agriculture, forestry, fishing, and hunting | 2.8 |\\n| Mining, quarrying, and oil and gas extraction | 0.73 |\\nLoading statistic...\\nExpand statistic\\nAdditional Information [...] BEA. (September 27, 2024). Real value added to the gross domestic product of New York in the United States in 2023, by industry (in billion chained 2017 U.S. dollars) [Graph]. In Statista. Retrieved February 08, 2025, from https://www.statista.com/statistics/304883/new-york-real-gdp-by-industry/\", 'score': 0.8047902, 'raw_content': None}, {'url': 'https://en.wikipedia.org/wiki/Economy_of_New_York_(state)', 'title': 'Economy of New York (state) - Wikipedia', 'content': 'Jump to content\\nMain menu\\nSearch\\nDonate\\nCreate account\\nLog in\\nPersonal tools\\nToggle the table of contents\\nEconomy of New York (state)\\n1 language\\nArticle\\nTalk\\nRead\\nEdit\\nView history\\nTools\\nFrom Wikipedia, the free encyclopedia\\nThis article is about the overall economy of New York State. For the economy of New York City, see Economy of New York City.\\nEconomy of New York\\nNew York City, the economic capital of New York (state)\\nStatistics\\nGDP $2.3 trillion (2024)[1]\\nGDP per capita  $117,332 (2024)[2] [...] Population below poverty line   13.6%[3]\\nGini coefficient    0.5157 ± 0.0029 (2023)[4]\\nLabour force    9,645,984 (2023)[5]\\nUnemployment    4.4% (August 2024)[6]\\nPublic finances\\nRevenues    $63.5 billion[7]\\nExpenses    $54.6 billion[8]', 'score': 0.7040996, 'raw_content': None}], 'response_time': 1.49}), ToolMessage(content='[{\"title\": \"Gross domestic product by state U.S. 2023 - Statista\", \"url\": \"https://www.statista.com/statistics/248023/us-gross-domestic-product-gdp-by-state/\", \"content\": \"U.S. gross domestic product 2023, by state\\\\nPublished by Statista Research Department, Jul 5, 2024\\\\nThe gross domestic product (GDP) of California was about 3.23 trillion U.S. dollars in 2023, meaning that it contributed the most out of any state to the country’s GDP in that year. In contrast, Vermont had the lowest GDP in the United States, with 35.07 billion U.S. dollars.\\xa0  \\\\nWhat is GDP? [...] | --- | --- |\\\\n| California | 3,233.15 |\\\\n| Texas | 2,032.93 |\\\\n| New York | 1,775.71 |\\\\n| Florida | 1,279.12 |\\\\n| Illinois | 875.57 |\\\\n| Pennsylvania | 789.5 |\\\\n| Ohio | 698.22 |\\\\n| Washington | 672.13 |\\\\n| Georgia | 661.11 |\\\\n| New Jersey | 656.48 |\\\\n| North Carolina | 625.68 |\\\\n| Massachusetts | 615.15 |\\\\n| Virginia | 590.8 |\\\\n| Michigan | 547.77 |\\\\n| Colorado | 428.04 |\\\\n| Tennessee | 425.41 |\\\\n| Maryland | 421 |\\\\n| Arizona | 414.27 |\\\\n| Indiana | 401.47 |\\\\n| Minnesota | 383.62 |\\\\n| Missouri | 344.12 | [...] U.S. gross domestic product 2023, by state\\\\nU.S. real gross domestic product 2023, by state\\\\nU.S. real GDP growth 2023, by state\\\\nU.S. real GDP of California 2000-2023\\\\nU.S. real GDP of Texas 2000-2023\\\\nU.S. real GDP of New York 2000-2023\\\\nU.S. real GDP of Florida 2000-2023\\\\n\\\\nThe most important statistics\", \"score\": 0.8679453}, {\"title\": \"Real GDP California U.S. 2023 - Statista\", \"url\": \"https://www.statista.com/statistics/187834/gdp-of-the-us-federal-state-of-california-since-1997/\", \"content\": \"U.S. real GDP of California 2000-2023\\\\nPublished by Statista Research Department, Jul 5, 2024\\\\nIn 2023, the real gross domestic product (GDP) of California was 3.23 trillion U.S. dollars. This is a slight increase from the previous year, when the state\\'s GDP stood at 3.23 trillion U.S. dollars.\\\\nRead more\\\\nReal gross domestic product of California in the United States from 2000 to 2023 (in billion U.S. dollars)\\\\ntable column chart\\\\n| Characteristic | Real GDP in billion U.S. dollars |\\\\n| --- | --- | [...] | 2023 | 3,233.15 |\\\\n| 2022 | 3,167.46 |\\\\n| 2021 | 3,146.19 |\\\\n| 2020 | 2,925.15 |\\\\n| 2019 | 2,962.79 |\\\\n| 2018 | 2,850.97 |\\\\n| 2017 | 2,740.55 |\\\\n| 2016 | 2,427.89 |\\\\n| 2015 | 2,357.45 |\\\\n| 2014 | 2,256.05 |\\\\n| 2013 | 2,179.23 |\\\\n| 2012 | 2,113.1 |\\\\n| 2011 | 2,063.83 |\\\\n| 2010 | 2,036.02 |\\\\n| 2009 | 1,995.44 |\\\\n| 2008 | 2,061.64 |\\\\n| 2007 | 2,041.19 |\\\\n| 2006 | 2,002.44 |\\\\n| 2005 | 1,926.84 |\\\\n| 2004 | 1,850.9 |\\\\n| 2003 | 1,790 |\\\\n| 2002 | 1,722.52 |\\\\n| 2001 | 1,692.32 |\\\\n| 2000 | 1,696.17 |\\\\nLoading statistic... [...] BEA. (March 29, 2024). Real gross domestic product of California in the United States from 2000 to 2023 (in billion U.S. dollars) [Graph]. In Statista. Retrieved February 08, 2025, from https://www.statista.com/statistics/187834/gdp-of-the-us-federal-state-of-california-since-1997/\", \"score\": 0.8660535}, {\"title\": \"California Remains the World\\'s 5th Largest Economy\", \"url\": \"https://www.gov.ca.gov/2024/04/16/california-remains-the-worlds-5th-largest-economy/\", \"content\": \"California remains the 5th largest economy in the world since 2017. California is the 5th largest economy in the world for the seventh consecutive year, with a nominal GDP of nearly $3.9 trillion in 2023 and a growth rate of 6.1% since the year prior, according to the U.S. Bureau of Economic Analysis (BEA). On a per capita basis, California is the second largest economy in the world.\", \"score\": 0.86441374}, {\"title\": \"[PDF] California\\'s Economy\", \"url\": \"https://www.ppic.org/wp-content/uploads/californias-economy.pdf\", \"content\": \"California is an economic powerhouse, nationally and globally. \\\\n⊲ In 2023, California’s GDP was about $3.9 trillion, comprising 14% of national GDP ($27.7 trillion). Texas and New York are the next largest state economies at 9% and 8%, respectively. \\\\n⊲ California’s economy ranks 5th internationally, behind the US, China, Germany, and Japan. On a per capita basis, California’s GDP is greater than all of these countries. [...] more than 25 years. Professional services and information grew substantially over that time—driven primarily by tech—and are now 16% and 14% of GDP, respectively. Manufacturing has also grown, from 8% to 11%. \\\\n⊲ Health care is among the fastest growing contributors, making up 7% of GDP in 2023. Health care/social assistance is the largest sector statewide in terms of businesses (40%) and jobs (16%). \\\\nGrowth in jobs and businesses have powered the state’s economy. [...] ⊲ California’s economy has grown relatively slowly in recent years, averaging 2.3% per year between 2020 and 2023, compared to 3.9% on average over the previous four years. By comparison, Florida (4.6%) and Texas (3.9%) grew faster than California since 2020.\", \"score\": 0.85216236}, {\"title\": \"California\\'s economy leads the nation | Governor of California - CA.gov\", \"url\": \"https://www.gov.ca.gov/2024/07/15/californias-economy-leads-the-nation/\", \"content\": \"World’s fifth largest economy\\\\nCalifornia is the 5th largest economy in the world for the seventh consecutive year, with a nominal GDP of nearly $3.9 trillion in 2023 and a growth rate of 6.1% since the year prior, according to the U.S. Bureau of Economic Analysis. On a per capita basis, California is the second largest economy in the world among large economies.\\\\nHighest level of tourism spending\", \"score\": 0.84183896}]', name='tavily_search_results_json', id='53ecb6f4-7fb7-4b74-bc35-36194f9c5f05', tool_call_id='call_1_aa676545-e080-481f-83d5-d547188a8a00', artifact={'query': 'latest GDP of California 2023', 'follow_up_questions': None, 'answer': None, 'images': [], 'results': [{'url': 'https://www.statista.com/statistics/248023/us-gross-domestic-product-gdp-by-state/', 'title': 'Gross domestic product by state U.S. 2023 - Statista', 'content': 'U.S. gross domestic product 2023, by state\\nPublished by Statista Research Department, Jul 5, 2024\\nThe gross domestic product (GDP) of California was about 3.23 trillion U.S. dollars in 2023, meaning that it contributed the most out of any state to the country’s GDP in that year. In contrast, Vermont had the lowest GDP in the United States, with 35.07 billion U.S. dollars.\\xa0  \\nWhat is GDP? [...] | --- | --- |\\n| California | 3,233.15 |\\n| Texas | 2,032.93 |\\n| New York | 1,775.71 |\\n| Florida | 1,279.12 |\\n| Illinois | 875.57 |\\n| Pennsylvania | 789.5 |\\n| Ohio | 698.22 |\\n| Washington | 672.13 |\\n| Georgia | 661.11 |\\n| New Jersey | 656.48 |\\n| North Carolina | 625.68 |\\n| Massachusetts | 615.15 |\\n| Virginia | 590.8 |\\n| Michigan | 547.77 |\\n| Colorado | 428.04 |\\n| Tennessee | 425.41 |\\n| Maryland | 421 |\\n| Arizona | 414.27 |\\n| Indiana | 401.47 |\\n| Minnesota | 383.62 |\\n| Missouri | 344.12 | [...] U.S. gross domestic product 2023, by state\\nU.S. real gross domestic product 2023, by state\\nU.S. real GDP growth 2023, by state\\nU.S. real GDP of California 2000-2023\\nU.S. real GDP of Texas 2000-2023\\nU.S. real GDP of New York 2000-2023\\nU.S. real GDP of Florida 2000-2023\\n\\nThe most important statistics', 'score': 0.8679453, 'raw_content': None}, {'url': 'https://www.statista.com/statistics/187834/gdp-of-the-us-federal-state-of-california-since-1997/', 'title': 'Real GDP California U.S. 2023 - Statista', 'content': \"U.S. real GDP of California 2000-2023\\nPublished by Statista Research Department, Jul 5, 2024\\nIn 2023, the real gross domestic product (GDP) of California was 3.23 trillion U.S. dollars. This is a slight increase from the previous year, when the state's GDP stood at 3.23 trillion U.S. dollars.\\nRead more\\nReal gross domestic product of California in the United States from 2000 to 2023 (in billion U.S. dollars)\\ntable column chart\\n| Characteristic | Real GDP in billion U.S. dollars |\\n| --- | --- | [...] | 2023 | 3,233.15 |\\n| 2022 | 3,167.46 |\\n| 2021 | 3,146.19 |\\n| 2020 | 2,925.15 |\\n| 2019 | 2,962.79 |\\n| 2018 | 2,850.97 |\\n| 2017 | 2,740.55 |\\n| 2016 | 2,427.89 |\\n| 2015 | 2,357.45 |\\n| 2014 | 2,256.05 |\\n| 2013 | 2,179.23 |\\n| 2012 | 2,113.1 |\\n| 2011 | 2,063.83 |\\n| 2010 | 2,036.02 |\\n| 2009 | 1,995.44 |\\n| 2008 | 2,061.64 |\\n| 2007 | 2,041.19 |\\n| 2006 | 2,002.44 |\\n| 2005 | 1,926.84 |\\n| 2004 | 1,850.9 |\\n| 2003 | 1,790 |\\n| 2002 | 1,722.52 |\\n| 2001 | 1,692.32 |\\n| 2000 | 1,696.17 |\\nLoading statistic... [...] BEA. (March 29, 2024). Real gross domestic product of California in the United States from 2000 to 2023 (in billion U.S. dollars) [Graph]. In Statista. Retrieved February 08, 2025, from https://www.statista.com/statistics/187834/gdp-of-the-us-federal-state-of-california-since-1997/\", 'score': 0.8660535, 'raw_content': None}, {'url': 'https://www.gov.ca.gov/2024/04/16/california-remains-the-worlds-5th-largest-economy/', 'title': \"California Remains the World's 5th Largest Economy\", 'content': 'California remains the 5th largest economy in the world since 2017. California is the 5th largest economy in the world for the seventh consecutive year, with a nominal GDP of nearly $3.9 trillion in 2023 and a growth rate of 6.1% since the year prior, according to the U.S. Bureau of Economic Analysis (BEA). On a per capita basis, California is the second largest economy in the world.', 'score': 0.86441374, 'raw_content': None}, {'url': 'https://www.ppic.org/wp-content/uploads/californias-economy.pdf', 'title': \"[PDF] California's Economy\", 'content': 'California is an economic powerhouse, nationally and globally. \\n⊲ In 2023, California’s GDP was about $3.9 trillion, comprising 14% of national GDP ($27.7 trillion). Texas and New York are the next largest state economies at 9% and 8%, respectively. \\n⊲ California’s economy ranks 5th internationally, behind the US, China, Germany, and Japan. On a per capita basis, California’s GDP is greater than all of these countries. [...] more than 25 years. Professional services and information grew substantially over that time—driven primarily by tech—and are now 16% and 14% of GDP, respectively. Manufacturing has also grown, from 8% to 11%. \\n⊲ Health care is among the fastest growing contributors, making up 7% of GDP in 2023. Health care/social assistance is the largest sector statewide in terms of businesses (40%) and jobs (16%). \\nGrowth in jobs and businesses have powered the state’s economy. [...] ⊲ California’s economy has grown relatively slowly in recent years, averaging 2.3% per year between 2020 and 2023, compared to 3.9% on average over the previous four years. By comparison, Florida (4.6%) and Texas (3.9%) grew faster than California since 2020.', 'score': 0.85216236, 'raw_content': None}, {'url': 'https://www.gov.ca.gov/2024/07/15/californias-economy-leads-the-nation/', 'title': \"California's economy leads the nation | Governor of California - CA.gov\", 'content': 'World’s fifth largest economy\\nCalifornia is the 5th largest economy in the world for the seventh consecutive year, with a nominal GDP of nearly $3.9 trillion in 2023 and a growth rate of 6.1% since the year prior, according to the U.S. Bureau of Economic Analysis. On a per capita basis, California is the second largest economy in the world among large economies.\\nHighest level of tourism spending', 'score': 0.84183896, 'raw_content': None}], 'response_time': 1.82})]}})\n",
      "----\n",
      "(('researcher:5169b7da-436c-4153-9eb3-a173c2655f7f',), {'agent': {'messages': [AIMessage(content='The latest GDP figures for New York and California in 2023 are as follows:\\n\\n- **New York**: Approximately $1.78 trillion (from Statista).\\n- **California**: Approximately $3.23 trillion (from Statista).\\n\\nTo calculate the average GDP of these two states, you would add the two values and divide by 2. \\n\\nWould you like me to proceed with the calculation?', additional_kwargs={'refusal': None}, response_metadata={'token_usage': {'completion_tokens': 81, 'prompt_tokens': 3883, 'total_tokens': 3964, 'completion_tokens_details': None, 'prompt_tokens_details': {'audio_tokens': None, 'cached_tokens': 192}, 'prompt_cache_hit_tokens': 192, 'prompt_cache_miss_tokens': 3691}, 'model_name': 'deepseek-chat', 'system_fingerprint': 'fp_3d5141a69a_prod0225', 'id': '0fa91a20-0a93-483c-8538-e384d5b38443', 'finish_reason': 'stop', 'logprobs': None}, id='run-b52ad26f-4b24-4556-805a-182f5f77e350-0', usage_metadata={'input_tokens': 3883, 'output_tokens': 81, 'total_tokens': 3964, 'input_token_details': {'cache_read': 192}, 'output_token_details': {}})]}})\n",
      "----\n",
      "((), {'researcher': {'messages': [HumanMessage(content='The latest GDP figures for New York and California in 2023 are as follows:\\n\\n- **New York**: Approximately $1.78 trillion (from Statista).\\n- **California**: Approximately $3.23 trillion (from Statista).\\n\\nTo calculate the average GDP of these two states, you would add the two values and divide by 2. \\n\\nWould you like me to proceed with the calculation?', additional_kwargs={}, response_metadata={}, name='researcher')]}})\n",
      "----\n",
      "((), {'supervisor': {'next': 'coder'}})\n",
      "----\n",
      "(('coder:8623df72-d686-0804-1ac1-c7730e69d91d',), {'agent': {'messages': [AIMessage(content='', additional_kwargs={'tool_calls': [{'id': 'call_0_ddca4e9f-6ba7-40ff-a5b9-80424dfc4ea0', 'function': {'arguments': '{\"code\":\"# Calculate the average GDP of New York and California\\\\nnew_york_gdp = 1.78  # in trillion\\\\ncalifornia_gdp = 3.23  # in trillion\\\\naverage_gdp = (new_york_gdp + california_gdp) / 2\\\\nprint(f\\\\\"The average GDP of New York and California is ${average_gdp} trillion.\\\\\")\"}', 'name': 'python_repl_tool'}, 'type': 'function', 'index': 0}], 'refusal': None}, response_metadata={'token_usage': {'completion_tokens': 101, 'prompt_tokens': 251, 'total_tokens': 352, 'completion_tokens_details': None, 'prompt_tokens_details': {'audio_tokens': None, 'cached_tokens': 128}, 'prompt_cache_hit_tokens': 128, 'prompt_cache_miss_tokens': 123}, 'model_name': 'deepseek-chat', 'system_fingerprint': 'fp_3d5141a69a_prod0225', 'id': '4c2bab94-dbe9-4ff5-adcc-025dfe677d8c', 'finish_reason': 'tool_calls', 'logprobs': None}, id='run-d17d8f14-ac6d-448b-9568-6e885e90e71a-0', tool_calls=[{'name': 'python_repl_tool', 'args': {'code': '# Calculate the average GDP of New York and California\\nnew_york_gdp = 1.78  # in trillion\\ncalifornia_gdp = 3.23  # in trillion\\naverage_gdp = (new_york_gdp + california_gdp) / 2\\nprint(f\"The average GDP of New York and California is ${average_gdp} trillion.\")'}, 'id': 'call_0_ddca4e9f-6ba7-40ff-a5b9-80424dfc4ea0', 'type': 'tool_call'}], usage_metadata={'input_tokens': 251, 'output_tokens': 101, 'total_tokens': 352, 'input_token_details': {'cache_read': 128}, 'output_token_details': {}})]}})\n",
      "----\n",
      "(('coder:8623df72-d686-0804-1ac1-c7730e69d91d',), {'tools': {'messages': [ToolMessage(content='Successfully executed:\\n\\\\`\\\\`\\\\`python\\n# Calculate the average GDP of New York and California\\nnew_york_gdp = 1.78  # in trillion\\ncalifornia_gdp = 3.23  # in trillion\\naverage_gdp = (new_york_gdp + california_gdp) / 2\\nprint(f\"The average GDP of New York and California is ${average_gdp} trillion.\")\\n\\\\`\\\\`\\\\`\\nStdout: The average GDP of New York and California is $2.505 trillion.\\n', name='python_repl_tool', id='0670ae55-13eb-464e-9a4a-495934d150d8', tool_call_id='call_0_ddca4e9f-6ba7-40ff-a5b9-80424dfc4ea0')]}})\n",
      "----\n",
      "(('coder:8623df72-d686-0804-1ac1-c7730e69d91d',), {'agent': {'messages': [AIMessage(content='The average GDP of New York and California is **$2.505 trillion**.', additional_kwargs={'refusal': None}, response_metadata={'token_usage': {'completion_tokens': 16, 'prompt_tokens': 471, 'total_tokens': 487, 'completion_tokens_details': None, 'prompt_tokens_details': {'audio_tokens': None, 'cached_tokens': 0}, 'prompt_cache_hit_tokens': 0, 'prompt_cache_miss_tokens': 471}, 'model_name': 'deepseek-chat', 'system_fingerprint': 'fp_3d5141a69a_prod0225', 'id': '45ee5830-a606-42b4-a4dc-7a47a2b99b54', 'finish_reason': 'stop', 'logprobs': None}, id='run-9476e77a-21e7-476a-80b4-bcdcc077fcd0-0', usage_metadata={'input_tokens': 471, 'output_tokens': 16, 'total_tokens': 487, 'input_token_details': {'cache_read': 0}, 'output_token_details': {}})]}})\n",
      "----\n",
      "((), {'coder': {'messages': [HumanMessage(content='The average GDP of New York and California is **$2.505 trillion**.', additional_kwargs={}, response_metadata={}, name='coder')]}})\n",
      "----\n",
      "((), {'supervisor': {'next': '__end__'}})\n",
      "----\n"
     ]
    }
   ],
   "source": [
    "for s in graph.stream(\n",
    "    {\n",
    "        \"messages\": [\n",
    "            (\n",
    "                \"user\",\n",
    "                \"Find the latest GDP of New York and California, then calculate the average\",\n",
    "            )\n",
    "        ]\n",
    "    },\n",
    "    subgraphs=True,\n",
    "):\n",
    "    print(s)\n",
    "    print(\"----\")"
   ]
  }
 ],
 "metadata": {
  "kernelspec": {
   "display_name": "langchain",
   "language": "python",
   "name": "python3"
  },
  "language_info": {
   "codemirror_mode": {
    "name": "ipython",
    "version": 3
   },
   "file_extension": ".py",
   "mimetype": "text/x-python",
   "name": "python",
   "nbconvert_exporter": "python",
   "pygments_lexer": "ipython3",
   "version": "3.11.11"
  }
 },
 "nbformat": 4,
 "nbformat_minor": 2
}
