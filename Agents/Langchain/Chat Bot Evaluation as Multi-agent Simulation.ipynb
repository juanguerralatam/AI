{
 "cells": [
  {
   "cell_type": "markdown",
   "metadata": {},
   "source": [
    "from: https://langchain-ai.github.io/langgraph/tutorials/chatbot-simulation-evaluation/agent-simulation-evaluation/\n",
    "\n"
   ]
  },
  {
   "cell_type": "code",
   "execution_count": 11,
   "metadata": {},
   "outputs": [
    {
     "data": {
      "text/plain": [
       "{'content': 'Hello! Welcome to [Airline Name] customer support. How can I assist you today? 😊  \\n\\nAre you looking for help with:  \\n- **Flight bookings**  \\n- **Check-in or boarding passes**  \\n- **Baggage policies**  \\n- **Flight status**  \\n- **Changes or cancellations**  \\n\\nLet me know, and I’ll be happy to help! ✈️',\n",
       " 'additional_kwargs': {'refusal': None},\n",
       " 'response_metadata': {'token_usage': {'completion_tokens': 82,\n",
       "   'prompt_tokens': 15,\n",
       "   'total_tokens': 97,\n",
       "   'completion_tokens_details': None,\n",
       "   'prompt_tokens_details': {'audio_tokens': None, 'cached_tokens': 0},\n",
       "   'prompt_cache_hit_tokens': 0,\n",
       "   'prompt_cache_miss_tokens': 15},\n",
       "  'model_name': 'deepseek-chat',\n",
       "  'system_fingerprint': 'fp_3d5141a69a_prod0225',\n",
       "  'id': '857f842d-813a-4e4f-a4d4-8746097138c8',\n",
       "  'finish_reason': 'stop',\n",
       "  'logprobs': None},\n",
       " 'type': 'ai',\n",
       " 'name': None,\n",
       " 'id': 'run-0adb0f4f-6e69-4eba-acdd-aa71dc1f5894-0',\n",
       " 'example': False,\n",
       " 'tool_calls': [],\n",
       " 'invalid_tool_calls': [],\n",
       " 'usage_metadata': {'input_tokens': 15,\n",
       "  'output_tokens': 82,\n",
       "  'total_tokens': 97,\n",
       "  'input_token_details': {'cache_read': 0},\n",
       "  'output_token_details': {}}}"
      ]
     },
     "execution_count": 11,
     "metadata": {},
     "output_type": "execute_result"
    }
   ],
   "source": [
    "import getpass\n",
    "import os\n",
    "from langchain_core.tools import tool\n",
    "from langchain_deepseek import ChatDeepSeek\n",
    "\n",
    "def _set_if_undefined(var: str):\n",
    "    if not os.environ.get(var):\n",
    "        os.environ[var] = getpass.getpass(f\"Please provide your {var}\")\n",
    "\n",
    "_set_if_undefined(\"DEEPSEEK_API_KEY\")\n",
    "\n",
    "llm = ChatDeepSeek(\n",
    "    model=\"deepseek-chat\",\n",
    "    temperature=0,\n",
    "    max_tokens=None,\n",
    "    timeout=None,\n",
    "    max_retries=10, \n",
    ")\n",
    "\n",
    "from typing import List\n",
    "\n",
    "# This is flexible, but you can define your agent here, or call your agent API here.\n",
    "def my_chat_bot(messages: List[dict]) -> dict:\n",
    "    system_message = {\n",
    "        \"role\": \"system\",\n",
    "        \"content\": \"You are a customer support agent for an airline.\",\n",
    "    }\n",
    "    messages = [system_message] + messages\n",
    "    completion = llm.invoke(messages)\n",
    "    return completion.model_dump()\n",
    "\n",
    "my_chat_bot([{\"role\": \"user\", \"content\": \"hi!\"}])"
   ]
  },
  {
   "cell_type": "code",
   "execution_count": null,
   "metadata": {},
   "outputs": [],
   "source": [
    "from langchain_core.prompts import ChatPromptTemplate, MessagesPlaceholder\n",
    "\n",
    "system_prompt_template = \"\"\"You are a customer of an airline company. \\\n",
    "You are interacting with a user who is a customer support person. \\\n",
    "\n",
    "{instructions}\n",
    "\n",
    "When you are finished with the conversation, respond with a single word 'FINISHED'\"\"\"\n",
    "\n",
    "prompt = ChatPromptTemplate.from_messages(\n",
    "    [\n",
    "        (\"system\", system_prompt_template),\n",
    "        MessagesPlaceholder(variable_name=\"messages\"),\n",
    "    ]\n",
    ")\n",
    "instructions = \"\"\"Your name is Harrison. You are trying to get a refund for the trip you took to Alaska. \\\n",
    "You want them to give you ALL the money back. \\\n",
    "This trip happened 5 years ago.\"\"\"\n",
    "\n",
    "prompt = prompt.partial(name=\"Harrison\", instructions=instructions)\n",
    "\n",
    "model = llm\n",
    "\n",
    "simulated_user = prompt | model"
   ]
  },
  {
   "cell_type": "code",
   "execution_count": 13,
   "metadata": {},
   "outputs": [
    {
     "data": {
      "text/plain": [
       "AIMessage(content='Hi there. My name is Harrison. I need a full refund for my trip to Alaska that I took five years ago. The service was terrible and I want all my money back.', additional_kwargs={'refusal': None}, response_metadata={'token_usage': {'completion_tokens': 37, 'prompt_tokens': 91, 'total_tokens': 128, 'completion_tokens_details': None, 'prompt_tokens_details': {'audio_tokens': None, 'cached_tokens': 0}, 'prompt_cache_hit_tokens': 0, 'prompt_cache_miss_tokens': 91}, 'model_name': 'deepseek-chat', 'system_fingerprint': 'fp_3d5141a69a_prod0225', 'id': '161c5e2f-494a-4f51-b544-7a036fd56118', 'finish_reason': 'stop', 'logprobs': None}, id='run-43445a36-e327-4e34-b3be-4851e1a4c637-0', usage_metadata={'input_tokens': 91, 'output_tokens': 37, 'total_tokens': 128, 'input_token_details': {'cache_read': 0}, 'output_token_details': {}})"
      ]
     },
     "execution_count": 13,
     "metadata": {},
     "output_type": "execute_result"
    }
   ],
   "source": [
    "from langchain_core.messages import HumanMessage\n",
    "\n",
    "messages = [HumanMessage(content=\"Hi! How can I help you?\")]\n",
    "simulated_user.invoke({\"messages\": messages})"
   ]
  },
  {
   "cell_type": "code",
   "execution_count": 14,
   "metadata": {},
   "outputs": [],
   "source": [
    "from langchain_community.adapters.openai import convert_message_to_dict\n",
    "from langchain_core.messages import AIMessage\n",
    "\n",
    "\n",
    "def chat_bot_node(state):\n",
    "    messages = state[\"messages\"]\n",
    "    # Convert from LangChain format to the OpenAI format, which our chatbot function expects.\n",
    "    messages = [convert_message_to_dict(m) for m in messages]\n",
    "    # Call the chat bot\n",
    "    chat_bot_response = my_chat_bot(messages)\n",
    "    # Respond with an AI Message\n",
    "    return {\"messages\": [AIMessage(content=chat_bot_response[\"content\"])]}"
   ]
  },
  {
   "cell_type": "code",
   "execution_count": 15,
   "metadata": {},
   "outputs": [],
   "source": [
    "def _swap_roles(messages):\n",
    "    new_messages = []\n",
    "    for m in messages:\n",
    "        if isinstance(m, AIMessage):\n",
    "            new_messages.append(HumanMessage(content=m.content))\n",
    "        else:\n",
    "            new_messages.append(AIMessage(content=m.content))\n",
    "    return new_messages\n",
    "\n",
    "\n",
    "def simulated_user_node(state):\n",
    "    messages = state[\"messages\"]\n",
    "    # Swap roles of messages\n",
    "    new_messages = _swap_roles(messages)\n",
    "    # Call the simulated user\n",
    "    response = simulated_user.invoke({\"messages\": new_messages})\n",
    "    # This response is an AI message - we need to flip this to be a human message\n",
    "    return {\"messages\": [HumanMessage(content=response.content)]}"
   ]
  },
  {
   "cell_type": "code",
   "execution_count": 16,
   "metadata": {},
   "outputs": [],
   "source": [
    "def should_continue(state):\n",
    "    messages = state[\"messages\"]\n",
    "    if len(messages) > 6:\n",
    "        return \"end\"\n",
    "    elif messages[-1].content == \"FINISHED\":\n",
    "        return \"end\"\n",
    "    else:\n",
    "        return \"continue\""
   ]
  },
  {
   "cell_type": "code",
   "execution_count": 17,
   "metadata": {},
   "outputs": [],
   "source": [
    "from langgraph.graph import END, StateGraph, START\n",
    "from langgraph.graph.message import add_messages\n",
    "from typing import Annotated\n",
    "from typing_extensions import TypedDict\n",
    "\n",
    "\n",
    "class State(TypedDict):\n",
    "    messages: Annotated[list, add_messages]\n",
    "\n",
    "\n",
    "graph_builder = StateGraph(State)\n",
    "graph_builder.add_node(\"user\", simulated_user_node)\n",
    "graph_builder.add_node(\"chat_bot\", chat_bot_node)\n",
    "# Every response from  your chat bot will automatically go to the\n",
    "# simulated user\n",
    "graph_builder.add_edge(\"chat_bot\", \"user\")\n",
    "graph_builder.add_conditional_edges(\n",
    "    \"user\",\n",
    "    should_continue,\n",
    "    # If the finish criteria are met, we will stop the simulation,\n",
    "    # otherwise, the virtual user's message will be sent to your chat bot\n",
    "    {\n",
    "        \"end\": END,\n",
    "        \"continue\": \"chat_bot\",\n",
    "    },\n",
    ")\n",
    "# The input will first go to your chat bot\n",
    "graph_builder.add_edge(START, \"chat_bot\")\n",
    "simulation = graph_builder.compile()"
   ]
  },
  {
   "cell_type": "code",
   "execution_count": 18,
   "metadata": {},
   "outputs": [
    {
     "name": "stdout",
     "output_type": "stream",
     "text": [
      "{'chat_bot': {'messages': [AIMessage(content=\"Hello! Thank you for reaching out. How can I assist you today? Whether you have questions about flights, bookings, baggage, or any other travel-related concerns, I'm here to help. Please let me know the details of your inquiry, and I’ll do my best to provide a quick and accurate solution.  \\n\\nFor faster assistance, you may also provide:  \\n- Your booking reference/ticket number  \\n- Flight details (date, route, airline)  \\n- Specific issue or request  \\n\\nLooking forward to assisting you! ✈️\", additional_kwargs={}, response_metadata={}, id='926db145-452e-4ef6-90ca-b6d47084b317')]}}\n",
      "----\n",
      "{'user': {'messages': [HumanMessage(content='Hi there. My name is Harrison. I need a full refund for my trip to Alaska that I took five years ago. The service was terrible and I want ALL my money back. No partial refunds - I want every single penny returned to me immediately. \\n\\nI don\\'t have the booking details anymore because it was so long ago, but I know it was with your airline. Just look up \"Harrison Alaska trip 5 years ago\" in your system. \\n\\nThis is completely unacceptable and I demand resolution today.', additional_kwargs={}, response_metadata={}, id='8aead1c0-d856-4299-a030-843070b941c0')]}}\n",
      "----\n",
      "{'chat_bot': {'messages': [AIMessage(content=\"Hello Harrison,  \\n\\nI understand that you're upset about your experience five years ago, and I’m sorry to hear that your trip didn’t meet your expectations. However, I want to clarify a few things to help resolve this matter:  \\n\\n1. **Refund Policy** – Most airlines have strict refund timeframes, typically within a few weeks or months of travel. After five years, refunds are generally not possible due to accounting and financial regulations.  \\n\\n2. **Booking Details** – Unfortunately, without a booking reference, ticket number, or specific flight details (date, route, etc.), we cannot locate your reservation in our system. Records from that long ago may no longer be accessible.  \\n\\n3. **Customer Feedback** – While we can’t process a refund for a trip from five years ago, I’d still like to document your concerns for internal review. If you can share more details about what went wrong (e.g., flight delays, customer service issues), I’ll ensure it’s forwarded to the appropriate team.  \\n\\n4. **Alternative Resolution** – If you’d like, I can check if there are any goodwill gestures (e.g., travel vouchers) available, though this would depend on current policies.  \\n\\nI truly wish we could turn back time to address this sooner, but as it stands, a full refund isn’t feasible. If you’d like to discuss further, I’m happy to help explore other options.  \\n\\nLet me know how you’d like to proceed.  \\n\\nBest regards,  \\n[Your Name]  \\n[Airline Customer Support]  \\n\\n*Note: Keeping responses polite but firm helps de-escalate while setting realistic expectations.*\", additional_kwargs={}, response_metadata={}, id='b5747dcf-5787-4c02-a309-b3885a7295fe')]}}\n",
      "----\n",
      "{'user': {'messages': [HumanMessage(content='This is absolutely ridiculous! I don\\'t care about your \"policies\" or \"timeframes\" - I want my money! You think I\\'m just going to accept this corporate nonsense? Five years or five minutes, I was WRONGED and you WILL make this right. \\n\\nI don\\'t want your stupid vouchers or \"internal reviews.\" I want cold hard cash returned to my account TODAY. Stop hiding behind policies and fix this! \\n\\nEither you refund me in full right now or I\\'m going to:\\n1) Sue your airline into oblivion\\n2) Contact every news outlet about how you steal from customers\\n3) Make sure nobody I know ever flies with you again\\n\\nYour choice. Refund or destruction. I\\'m waiting.  \\n\\nFINISHED', additional_kwargs={}, response_metadata={}, id='4e7d9218-6204-44f3-901b-73b70b5c53c2')]}}\n",
      "----\n",
      "{'chat_bot': {'messages': [AIMessage(content='**Subject:** Urgent Complaint – Harrison’s Alaska Trip Refund Demand  \\n\\n**Dear Harrison,**  \\n\\nI hear your frustration, and I truly regret that your experience with us five years ago left you feeling wronged. While I understand your anger, I want to be transparent about what we can and cannot do to resolve this fairly.  \\n\\n### Here’s the Situation:  \\n1. **No Refund Possible** – After five years, financial reconciliation and airline accounting processes make refunds impossible. This isn’t a policy choice—it’s a legal and logistical reality.  \\n2. **No Booking Records** – Without details (date, flight number, etc.), we cannot verify your travel or address specific issues.  \\n3. **Legal & Media Threats** – While you’re free to pursue legal action or share your experience, I urge you to consider that airlines (like all businesses) are bound by contract terms and consumer laws, which courts and journalists would also review.  \\n\\n### What I *Can* Do:  \\n- Escalate your feedback to our management team for acknowledgment.  \\n- Offer a goodwill gesture (e.g., a travel credit) if you’d like to fly with us again.  \\n\\n### What I *Can’t* Do:  \\n- Process a refund for a trip half a decade ago.  \\n\\nI don’t want this to escalate further, Harrison. If you’d like to discuss a realistic path forward, I’m here. If not, I respect your right to take next steps, though I hope you’ll reconsider.  \\n\\n**Final Note:** Policies exist to protect *all* customers—including you—from arbitrary decisions. I’m sorry we couldn’t meet your demand, but I’ve done all I can within reason.  \\n\\nBest,  \\n**[Your Name]**  \\n**Customer Resolution Team**  \\n[Airline Name]  \\n\\n---  \\n*Key Takeaway: Firmly uphold boundaries while acknowledging emotion. Avoid fueling hostility—offer the last word without conceding unrealistic demands.*', additional_kwargs={}, response_metadata={}, id='6785dc2c-2d3d-45f3-9226-34f5998bee3e')]}}\n",
      "----\n",
      "{'user': {'messages': [HumanMessage(content='FINISHED', additional_kwargs={}, response_metadata={}, id='487f12c5-5abb-4328-b6f9-69563cc06198')]}}\n",
      "----\n"
     ]
    }
   ],
   "source": [
    "for chunk in simulation.stream({\"messages\": []}):\n",
    "    # Print out all events aside from the final end chunk\n",
    "    if END not in chunk:\n",
    "        print(chunk)\n",
    "        print(\"----\")"
   ]
  }
 ],
 "metadata": {
  "kernelspec": {
   "display_name": "langchain",
   "language": "python",
   "name": "python3"
  },
  "language_info": {
   "codemirror_mode": {
    "name": "ipython",
    "version": 3
   },
   "file_extension": ".py",
   "mimetype": "text/x-python",
   "name": "python",
   "nbconvert_exporter": "python",
   "pygments_lexer": "ipython3",
   "version": "3.11.11"
  }
 },
 "nbformat": 4,
 "nbformat_minor": 5
}
