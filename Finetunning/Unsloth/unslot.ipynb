{
 "cells": [
  {
   "cell_type": "code",
   "execution_count": null,
   "metadata": {},
   "outputs": [
    {
     "name": "stdout",
     "output_type": "stream",
     "text": [
      "🦥 Unsloth: Will patch your computer to enable 2x faster free finetuning.\n",
      "🦥 Unsloth Zoo will now patch everything to make training faster!\n",
      "Downloading Model to directory: /home/juan/modelscope/Qwen/QwQ-32B-GGUF\n"
     ]
    },
    {
     "name": "stderr",
     "output_type": "stream",
     "text": [
      "2025-03-07 12:52:26,565 - modelscope - INFO - Got 76 files, start to download ...\n"
     ]
    },
    {
     "data": {
      "application/vnd.jupyter.widget-view+json": {
       "model_id": "2515b584e9d0475f9242fe3baef0865c",
       "version_major": 2,
       "version_minor": 0
      },
      "text/plain": [
       "Processing 76 items:   0%|          | 0.00/76.0 [00:00<?, ?it/s]"
      ]
     },
     "metadata": {},
     "output_type": "display_data"
    },
    {
     "data": {
      "application/vnd.jupyter.widget-view+json": {
       "model_id": "5d10c3afdd1f4af49cf77ba6bae31171",
       "version_major": 2,
       "version_minor": 0
      },
      "text/plain": [
       "Downloading [LICENSE]:   0%|          | 0.00/11.1k [00:00<?, ?B/s]"
      ]
     },
     "metadata": {},
     "output_type": "display_data"
    },
    {
     "data": {
      "application/vnd.jupyter.widget-view+json": {
       "model_id": "be70c2a18a354f7b8fd9dd60862ddb93",
       "version_major": 2,
       "version_minor": 0
      },
      "text/plain": [
       "Downloading [qwq-32b-fp16-00003-of-00017.gguf]:   0%|          | 0.00/3.63G [00:00<?, ?B/s]"
      ]
     },
     "metadata": {},
     "output_type": "display_data"
    },
    {
     "data": {
      "application/vnd.jupyter.widget-view+json": {
       "model_id": "5c0b484f746c438a98324bbb0b02ab17",
       "version_major": 2,
       "version_minor": 0
      },
      "text/plain": [
       "Downloading [qwq-32b-fp16-00001-of-00017.gguf]:   0%|          | 0.00/3.65G [00:00<?, ?B/s]"
      ]
     },
     "metadata": {},
     "output_type": "display_data"
    },
    {
     "data": {
      "application/vnd.jupyter.widget-view+json": {
       "model_id": "29b25fc73384444281365646b618c6f5",
       "version_major": 2,
       "version_minor": 0
      },
      "text/plain": [
       "Downloading [qwq-32b-fp16-00004-of-00017.gguf]:   0%|          | 0.00/3.63G [00:00<?, ?B/s]"
      ]
     },
     "metadata": {},
     "output_type": "display_data"
    },
    {
     "data": {
      "application/vnd.jupyter.widget-view+json": {
       "model_id": "406fe0ce363a4c18975563a270ace871",
       "version_major": 2,
       "version_minor": 0
      },
      "text/plain": [
       "Downloading [qwq-32b-fp16-00002-of-00017.gguf]:   0%|          | 0.00/3.63G [00:00<?, ?B/s]"
      ]
     },
     "metadata": {},
     "output_type": "display_data"
    },
    {
     "data": {
      "application/vnd.jupyter.widget-view+json": {
       "model_id": "0c051c756e764689ac6d0eeee925bd72",
       "version_major": 2,
       "version_minor": 0
      },
      "text/plain": [
       "Downloading [configuration.json]:   0%|          | 0.00/73.0 [00:00<?, ?B/s]"
      ]
     },
     "metadata": {},
     "output_type": "display_data"
    },
    {
     "data": {
      "application/vnd.jupyter.widget-view+json": {
       "model_id": "1e947a646fdd4804b4cfa3b2a29b6b0c",
       "version_major": 2,
       "version_minor": 0
      },
      "text/plain": [
       "Downloading [figures/benchmark.jpg]:   0%|          | 0.00/313k [00:00<?, ?B/s]"
      ]
     },
     "metadata": {},
     "output_type": "display_data"
    },
    {
     "data": {
      "application/vnd.jupyter.widget-view+json": {
       "model_id": "55d375c5b5954d5c9a1ecdd89aabfcb3",
       "version_major": 2,
       "version_minor": 0
      },
      "text/plain": [
       "Downloading [qwq-32b-fp16-00005-of-00017.gguf]:   0%|          | 0.00/3.63G [00:00<?, ?B/s]"
      ]
     },
     "metadata": {},
     "output_type": "display_data"
    },
    {
     "data": {
      "application/vnd.jupyter.widget-view+json": {
       "model_id": "7663ff928a064d99a6bbd6ff84145b2d",
       "version_major": 2,
       "version_minor": 0
      },
      "text/plain": [
       "Downloading [qwq-32b-fp16-00006-of-00017.gguf]:   0%|          | 0.00/3.63G [00:00<?, ?B/s]"
      ]
     },
     "metadata": {},
     "output_type": "display_data"
    },
    {
     "data": {
      "application/vnd.jupyter.widget-view+json": {
       "model_id": "de5577bba7074cd3aa1d27e303588d1e",
       "version_major": 2,
       "version_minor": 0
      },
      "text/plain": [
       "Downloading [qwq-32b-fp16-00007-of-00017.gguf]:   0%|          | 0.00/3.63G [00:00<?, ?B/s]"
      ]
     },
     "metadata": {},
     "output_type": "display_data"
    },
    {
     "data": {
      "application/vnd.jupyter.widget-view+json": {
       "model_id": "9fddf350084242fd8521ae894847519a",
       "version_major": 2,
       "version_minor": 0
      },
      "text/plain": [
       "Downloading [qwq-32b-fp16-00008-of-00017.gguf]:   0%|          | 0.00/3.63G [00:00<?, ?B/s]"
      ]
     },
     "metadata": {},
     "output_type": "display_data"
    },
    {
     "data": {
      "application/vnd.jupyter.widget-view+json": {
       "model_id": "fc3cb39f8f7b49b68be8331fad81bb30",
       "version_major": 2,
       "version_minor": 0
      },
      "text/plain": [
       "Downloading [qwq-32b-fp16-00009-of-00017.gguf]:   0%|          | 0.00/3.63G [00:00<?, ?B/s]"
      ]
     },
     "metadata": {},
     "output_type": "display_data"
    },
    {
     "data": {
      "application/vnd.jupyter.widget-view+json": {
       "model_id": "80d745ea132741a5a91c90fc9b05c662",
       "version_major": 2,
       "version_minor": 0
      },
      "text/plain": [
       "Downloading [qwq-32b-fp16-00010-of-00017.gguf]:   0%|          | 0.00/3.63G [00:00<?, ?B/s]"
      ]
     },
     "metadata": {},
     "output_type": "display_data"
    },
    {
     "data": {
      "application/vnd.jupyter.widget-view+json": {
       "model_id": "01dfabe1ddfd45ad8e2adb0faed03295",
       "version_major": 2,
       "version_minor": 0
      },
      "text/plain": [
       "Downloading [qwq-32b-fp16-00011-of-00017.gguf]:   0%|          | 0.00/3.63G [00:00<?, ?B/s]"
      ]
     },
     "metadata": {},
     "output_type": "display_data"
    },
    {
     "data": {
      "application/vnd.jupyter.widget-view+json": {
       "model_id": "3169b033c9724a959ef468f802e20511",
       "version_major": 2,
       "version_minor": 0
      },
      "text/plain": [
       "Downloading [qwq-32b-fp16-00012-of-00017.gguf]:   0%|          | 0.00/3.63G [00:00<?, ?B/s]"
      ]
     },
     "metadata": {},
     "output_type": "display_data"
    },
    {
     "data": {
      "application/vnd.jupyter.widget-view+json": {
       "model_id": "44e12e14a95d4af79725f9b39e6ebebe",
       "version_major": 2,
       "version_minor": 0
      },
      "text/plain": [
       "Downloading [qwq-32b-fp16-00013-of-00017.gguf]:   0%|          | 0.00/3.63G [00:00<?, ?B/s]"
      ]
     },
     "metadata": {},
     "output_type": "display_data"
    },
    {
     "data": {
      "application/vnd.jupyter.widget-view+json": {
       "model_id": "e5e795a94c0f44b9b8c9f3619519ca09",
       "version_major": 2,
       "version_minor": 0
      },
      "text/plain": [
       "Downloading [qwq-32b-fp16-00014-of-00017.gguf]:   0%|          | 0.00/3.63G [00:00<?, ?B/s]"
      ]
     },
     "metadata": {},
     "output_type": "display_data"
    },
    {
     "data": {
      "application/vnd.jupyter.widget-view+json": {
       "model_id": "c24726f5299a4911a4df46e3269a6800",
       "version_major": 2,
       "version_minor": 0
      },
      "text/plain": [
       "Downloading [qwq-32b-fp16-00015-of-00017.gguf]:   0%|          | 0.00/3.63G [00:00<?, ?B/s]"
      ]
     },
     "metadata": {},
     "output_type": "display_data"
    },
    {
     "data": {
      "application/vnd.jupyter.widget-view+json": {
       "model_id": "5be4d2fb35da49e0b2f0e80de7e11fee",
       "version_major": 2,
       "version_minor": 0
      },
      "text/plain": [
       "Downloading [qwq-32b-fp16-00016-of-00017.gguf]:   0%|          | 0.00/3.63G [00:00<?, ?B/s]"
      ]
     },
     "metadata": {},
     "output_type": "display_data"
    },
    {
     "data": {
      "application/vnd.jupyter.widget-view+json": {
       "model_id": "e5aba0c33aa44fd299f0e0722483f6d4",
       "version_major": 2,
       "version_minor": 0
      },
      "text/plain": [
       "Downloading [qwq-32b-fp16-00017-of-00017.gguf]:   0%|          | 0.00/2.89G [00:00<?, ?B/s]"
      ]
     },
     "metadata": {},
     "output_type": "display_data"
    },
    {
     "data": {
      "application/vnd.jupyter.widget-view+json": {
       "model_id": "070922bc727246229f5e710b7917a61b",
       "version_major": 2,
       "version_minor": 0
      },
      "text/plain": [
       "Downloading [qwq-32b-q2_k-00001-of-00004.gguf]:   0%|          | 0.00/3.73G [00:00<?, ?B/s]"
      ]
     },
     "metadata": {},
     "output_type": "display_data"
    },
    {
     "data": {
      "application/vnd.jupyter.widget-view+json": {
       "model_id": "31cfe63813e84f14a515785beb250f0e",
       "version_major": 2,
       "version_minor": 0
      },
      "text/plain": [
       "Downloading [qwq-32b-q2_k-00002-of-00004.gguf]:   0%|          | 0.00/3.71G [00:00<?, ?B/s]"
      ]
     },
     "metadata": {},
     "output_type": "display_data"
    },
    {
     "data": {
      "application/vnd.jupyter.widget-view+json": {
       "model_id": "f9ee88c472da431ba43db2ce6be89845",
       "version_major": 2,
       "version_minor": 0
      },
      "text/plain": [
       "Downloading [qwq-32b-q2_k-00003-of-00004.gguf]:   0%|          | 0.00/3.17G [00:00<?, ?B/s]"
      ]
     },
     "metadata": {},
     "output_type": "display_data"
    },
    {
     "data": {
      "application/vnd.jupyter.widget-view+json": {
       "model_id": "dac612d0f91e46658e6aa625b08f7626",
       "version_major": 2,
       "version_minor": 0
      },
      "text/plain": [
       "Downloading [qwq-32b-q2_k-00004-of-00004.gguf]:   0%|          | 0.00/882M [00:00<?, ?B/s]"
      ]
     },
     "metadata": {},
     "output_type": "display_data"
    },
    {
     "data": {
      "application/vnd.jupyter.widget-view+json": {
       "model_id": "f140c8dd22ca426a8bee9be51bb98fde",
       "version_major": 2,
       "version_minor": 0
      },
      "text/plain": [
       "Downloading [qwq-32b-q2_k.gguf]:   0%|          | 0.00/11.5G [00:00<?, ?B/s]"
      ]
     },
     "metadata": {},
     "output_type": "display_data"
    },
    {
     "data": {
      "application/vnd.jupyter.widget-view+json": {
       "model_id": "7477d9056ad34877ae2567839ef6baa9",
       "version_major": 2,
       "version_minor": 0
      },
      "text/plain": [
       "Downloading [qwq-32b-q3_k_m-00001-of-00005.gguf]:   0%|          | 0.00/3.71G [00:00<?, ?B/s]"
      ]
     },
     "metadata": {},
     "output_type": "display_data"
    },
    {
     "data": {
      "application/vnd.jupyter.widget-view+json": {
       "model_id": "03f1b57fbae54d1c8d00c5471578f3bb",
       "version_major": 2,
       "version_minor": 0
      },
      "text/plain": [
       "Downloading [qwq-32b-q3_k_m-00002-of-00005.gguf]:   0%|          | 0.00/3.68G [00:00<?, ?B/s]"
      ]
     },
     "metadata": {},
     "output_type": "display_data"
    },
    {
     "data": {
      "application/vnd.jupyter.widget-view+json": {
       "model_id": "d67876737767449e9d75a437a9d84070",
       "version_major": 2,
       "version_minor": 0
      },
      "text/plain": [
       "Downloading [qwq-32b-q3_k_m-00003-of-00005.gguf]:   0%|          | 0.00/3.68G [00:00<?, ?B/s]"
      ]
     },
     "metadata": {},
     "output_type": "display_data"
    },
    {
     "data": {
      "application/vnd.jupyter.widget-view+json": {
       "model_id": "ab41fcfd85774f83bf8d28f81bdb14ff",
       "version_major": 2,
       "version_minor": 0
      },
      "text/plain": [
       "Downloading [qwq-32b-q3_k_m-00004-of-00005.gguf]:   0%|          | 0.00/3.68G [00:00<?, ?B/s]"
      ]
     },
     "metadata": {},
     "output_type": "display_data"
    },
    {
     "data": {
      "application/vnd.jupyter.widget-view+json": {
       "model_id": "8a7e8285dcf94d19a8c218d3570f0bcc",
       "version_major": 2,
       "version_minor": 0
      },
      "text/plain": [
       "Downloading [qwq-32b-q3_k_m-00005-of-00005.gguf]:   0%|          | 0.00/87.8M [00:00<?, ?B/s]"
      ]
     },
     "metadata": {},
     "output_type": "display_data"
    },
    {
     "data": {
      "application/vnd.jupyter.widget-view+json": {
       "model_id": "6c736d4286b74c1bbde59dfe5afaea27",
       "version_major": 2,
       "version_minor": 0
      },
      "text/plain": [
       "Downloading [qwq-32b-q3_k_m.gguf]:   0%|          | 0.00/14.8G [00:00<?, ?B/s]"
      ]
     },
     "metadata": {},
     "output_type": "display_data"
    },
    {
     "data": {
      "application/vnd.jupyter.widget-view+json": {
       "model_id": "dbc892bfbb054b5aa9a972d6ab2be5cd",
       "version_major": 2,
       "version_minor": 0
      },
      "text/plain": [
       "Downloading [qwq-32b-q4_0-00001-of-00005.gguf]:   0%|          | 0.00/3.72G [00:00<?, ?B/s]"
      ]
     },
     "metadata": {},
     "output_type": "display_data"
    },
    {
     "data": {
      "application/vnd.jupyter.widget-view+json": {
       "model_id": "6895a8cd1d4843799218e2ab77d0b4c2",
       "version_major": 2,
       "version_minor": 0
      },
      "text/plain": [
       "Downloading [qwq-32b-q4_0-00002-of-00005.gguf]:   0%|          | 0.00/3.67G [00:00<?, ?B/s]"
      ]
     },
     "metadata": {},
     "output_type": "display_data"
    },
    {
     "data": {
      "application/vnd.jupyter.widget-view+json": {
       "model_id": "8572ae4ad5d04f5693357bc1ef2bb689",
       "version_major": 2,
       "version_minor": 0
      },
      "text/plain": [
       "Downloading [qwq-32b-q4_0-00003-of-00005.gguf]:   0%|          | 0.00/3.73G [00:00<?, ?B/s]"
      ]
     },
     "metadata": {},
     "output_type": "display_data"
    },
    {
     "data": {
      "application/vnd.jupyter.widget-view+json": {
       "model_id": "86807220c1c4437b8e925c7a2076e43e",
       "version_major": 2,
       "version_minor": 0
      },
      "text/plain": [
       "Downloading [qwq-32b-q4_0-00004-of-00005.gguf]:   0%|          | 0.00/3.68G [00:00<?, ?B/s]"
      ]
     },
     "metadata": {},
     "output_type": "display_data"
    },
    {
     "data": {
      "application/vnd.jupyter.widget-view+json": {
       "model_id": "270ff2b27a3941189953907743dcdd0a",
       "version_major": 2,
       "version_minor": 0
      },
      "text/plain": [
       "Downloading [qwq-32b-q4_0-00005-of-00005.gguf]:   0%|          | 0.00/2.56G [00:00<?, ?B/s]"
      ]
     },
     "metadata": {},
     "output_type": "display_data"
    },
    {
     "data": {
      "application/vnd.jupyter.widget-view+json": {
       "model_id": "ddf691f763e1473cbf354ca871dbf5d9",
       "version_major": 2,
       "version_minor": 0
      },
      "text/plain": [
       "Downloading [qwq-32b-q4_0.gguf]:   0%|          | 0.00/17.4G [00:00<?, ?B/s]"
      ]
     },
     "metadata": {},
     "output_type": "display_data"
    },
    {
     "data": {
      "application/vnd.jupyter.widget-view+json": {
       "model_id": "5d48e91c2da04be7a7865d84bbdb7add",
       "version_major": 2,
       "version_minor": 0
      },
      "text/plain": [
       "Downloading [qwq-32b-q4_k_m-00001-of-00005.gguf]:   0%|          | 0.00/3.69G [00:00<?, ?B/s]"
      ]
     },
     "metadata": {},
     "output_type": "display_data"
    },
    {
     "data": {
      "application/vnd.jupyter.widget-view+json": {
       "model_id": "84818015611741f48f1b6f9bfe3522cb",
       "version_major": 2,
       "version_minor": 0
      },
      "text/plain": [
       "Downloading [qwq-32b-q4_k_m-00002-of-00005.gguf]:   0%|          | 0.00/3.68G [00:00<?, ?B/s]"
      ]
     },
     "metadata": {},
     "output_type": "display_data"
    },
    {
     "data": {
      "application/vnd.jupyter.widget-view+json": {
       "model_id": "9d5a91e4509f4d9ea31aa787089543f0",
       "version_major": 2,
       "version_minor": 0
      },
      "text/plain": [
       "Downloading [qwq-32b-q4_k_m-00003-of-00005.gguf]:   0%|          | 0.00/3.72G [00:00<?, ?B/s]"
      ]
     },
     "metadata": {},
     "output_type": "display_data"
    },
    {
     "data": {
      "application/vnd.jupyter.widget-view+json": {
       "model_id": "95f3e578834648c5a1f28e89d066127e",
       "version_major": 2,
       "version_minor": 0
      },
      "text/plain": [
       "Downloading [qwq-32b-q4_k_m-00004-of-00005.gguf]:   0%|          | 0.00/3.68G [00:00<?, ?B/s]"
      ]
     },
     "metadata": {},
     "output_type": "display_data"
    },
    {
     "data": {
      "application/vnd.jupyter.widget-view+json": {
       "model_id": "e23db385008e4ea797a2b91699142711",
       "version_major": 2,
       "version_minor": 0
      },
      "text/plain": [
       "Downloading [qwq-32b-q4_k_m-00005-of-00005.gguf]:   0%|          | 0.00/3.72G [00:00<?, ?B/s]"
      ]
     },
     "metadata": {},
     "output_type": "display_data"
    },
    {
     "data": {
      "application/vnd.jupyter.widget-view+json": {
       "model_id": "ab0ff70711e847a78aa4363d651f4e3c",
       "version_major": 2,
       "version_minor": 0
      },
      "text/plain": [
       "Downloading [qwq-32b-q4_k_m.gguf]:   0%|          | 0.00/18.5G [00:00<?, ?B/s]"
      ]
     },
     "metadata": {},
     "output_type": "display_data"
    },
    {
     "data": {
      "application/vnd.jupyter.widget-view+json": {
       "model_id": "830d1c1cf2f843cda609c3f23e4b53fc",
       "version_major": 2,
       "version_minor": 0
      },
      "text/plain": [
       "Downloading [qwq-32b-q5_0-00001-of-00006.gguf]:   0%|          | 0.00/3.72G [00:00<?, ?B/s]"
      ]
     },
     "metadata": {},
     "output_type": "display_data"
    },
    {
     "data": {
      "application/vnd.jupyter.widget-view+json": {
       "model_id": "646f1e5fe9fa439b86cc6c7be6eb29a3",
       "version_major": 2,
       "version_minor": 0
      },
      "text/plain": [
       "Downloading [qwq-32b-q5_0-00002-of-00006.gguf]:   0%|          | 0.00/3.65G [00:00<?, ?B/s]"
      ]
     },
     "metadata": {},
     "output_type": "display_data"
    },
    {
     "data": {
      "application/vnd.jupyter.widget-view+json": {
       "model_id": "50ed5db9e2504e5bb23bb14f069c4794",
       "version_major": 2,
       "version_minor": 0
      },
      "text/plain": [
       "Downloading [qwq-32b-q5_0-00003-of-00006.gguf]:   0%|          | 0.00/3.71G [00:00<?, ?B/s]"
      ]
     },
     "metadata": {},
     "output_type": "display_data"
    },
    {
     "data": {
      "application/vnd.jupyter.widget-view+json": {
       "model_id": "85ff672ae2e145be9bbab4553dfb6d16",
       "version_major": 2,
       "version_minor": 0
      },
      "text/plain": [
       "Downloading [qwq-32b-q5_0-00004-of-00006.gguf]:   0%|          | 0.00/3.65G [00:00<?, ?B/s]"
      ]
     },
     "metadata": {},
     "output_type": "display_data"
    },
    {
     "data": {
      "application/vnd.jupyter.widget-view+json": {
       "model_id": "66264edabc084f638818eb99c9854e8a",
       "version_major": 2,
       "version_minor": 0
      },
      "text/plain": [
       "Downloading [qwq-32b-q5_0-00005-of-00006.gguf]:   0%|          | 0.00/3.66G [00:00<?, ?B/s]"
      ]
     },
     "metadata": {},
     "output_type": "display_data"
    },
    {
     "data": {
      "application/vnd.jupyter.widget-view+json": {
       "model_id": "9fab861653ec4359bd66f47c3ba0ae06",
       "version_major": 2,
       "version_minor": 0
      },
      "text/plain": [
       "Downloading [qwq-32b-q5_0-00006-of-00006.gguf]:   0%|          | 0.00/2.69G [00:00<?, ?B/s]"
      ]
     },
     "metadata": {},
     "output_type": "display_data"
    },
    {
     "data": {
      "application/vnd.jupyter.widget-view+json": {
       "model_id": "4e532771ea5e46ffb19f99e6cbf80440",
       "version_major": 2,
       "version_minor": 0
      },
      "text/plain": [
       "Downloading [qwq-32b-q5_0.gguf]:   0%|          | 0.00/21.1G [00:00<?, ?B/s]"
      ]
     },
     "metadata": {},
     "output_type": "display_data"
    },
    {
     "data": {
      "application/vnd.jupyter.widget-view+json": {
       "model_id": "23a2ad4ead2448ad86dc33bb64c00d72",
       "version_major": 2,
       "version_minor": 0
      },
      "text/plain": [
       "Downloading [qwq-32b-q5_k_m-00001-of-00006.gguf]:   0%|          | 0.00/3.68G [00:00<?, ?B/s]"
      ]
     },
     "metadata": {},
     "output_type": "display_data"
    },
    {
     "data": {
      "application/vnd.jupyter.widget-view+json": {
       "model_id": "d24cdc16d6e24308b87d2dc22f9bbcf7",
       "version_major": 2,
       "version_minor": 0
      },
      "text/plain": [
       "Downloading [qwq-32b-q5_k_m-00002-of-00006.gguf]:   0%|          | 0.00/3.69G [00:00<?, ?B/s]"
      ]
     },
     "metadata": {},
     "output_type": "display_data"
    },
    {
     "data": {
      "application/vnd.jupyter.widget-view+json": {
       "model_id": "52755c3fedd246bb9134338435313fa6",
       "version_major": 2,
       "version_minor": 0
      },
      "text/plain": [
       "Downloading [qwq-32b-q5_k_m-00003-of-00006.gguf]:   0%|          | 0.00/3.71G [00:00<?, ?B/s]"
      ]
     },
     "metadata": {},
     "output_type": "display_data"
    },
    {
     "data": {
      "application/vnd.jupyter.widget-view+json": {
       "model_id": "d9a96b23494f461992d5a5e2bab6c1af",
       "version_major": 2,
       "version_minor": 0
      },
      "text/plain": [
       "Downloading [qwq-32b-q5_k_m-00004-of-00006.gguf]:   0%|          | 0.00/3.71G [00:00<?, ?B/s]"
      ]
     },
     "metadata": {},
     "output_type": "display_data"
    },
    {
     "data": {
      "application/vnd.jupyter.widget-view+json": {
       "model_id": "e2fdea0186c64a94bf8cff03e1cba65f",
       "version_major": 2,
       "version_minor": 0
      },
      "text/plain": [
       "Downloading [qwq-32b-q5_k_m-00005-of-00006.gguf]:   0%|          | 0.00/3.64G [00:00<?, ?B/s]"
      ]
     },
     "metadata": {},
     "output_type": "display_data"
    },
    {
     "data": {
      "application/vnd.jupyter.widget-view+json": {
       "model_id": "6bc5cd8a0f654b0c83e5cb8efba0e65e",
       "version_major": 2,
       "version_minor": 0
      },
      "text/plain": [
       "Downloading [qwq-32b-q5_k_m-00006-of-00006.gguf]:   0%|          | 0.00/3.24G [00:00<?, ?B/s]"
      ]
     },
     "metadata": {},
     "output_type": "display_data"
    },
    {
     "data": {
      "application/vnd.jupyter.widget-view+json": {
       "model_id": "f6d33b49131643db99dba083efe971a0",
       "version_major": 2,
       "version_minor": 0
      },
      "text/plain": [
       "Downloading [qwq-32b-q5_k_m.gguf]:   0%|          | 0.00/21.7G [00:00<?, ?B/s]"
      ]
     },
     "metadata": {},
     "output_type": "display_data"
    },
    {
     "data": {
      "application/vnd.jupyter.widget-view+json": {
       "model_id": "be542d551f5b4536b8a1786a1a68eccf",
       "version_major": 2,
       "version_minor": 0
      },
      "text/plain": [
       "Downloading [qwq-32b-q6_k-00001-of-00007.gguf]:   0%|          | 0.00/3.71G [00:00<?, ?B/s]"
      ]
     },
     "metadata": {},
     "output_type": "display_data"
    },
    {
     "data": {
      "application/vnd.jupyter.widget-view+json": {
       "model_id": "e0d4ce5dc5404fd8903901bada768699",
       "version_major": 2,
       "version_minor": 0
      },
      "text/plain": [
       "Downloading [qwq-32b-q6_k-00002-of-00007.gguf]:   0%|          | 0.00/3.71G [00:00<?, ?B/s]"
      ]
     },
     "metadata": {},
     "output_type": "display_data"
    },
    {
     "data": {
      "application/vnd.jupyter.widget-view+json": {
       "model_id": "b605d075b47843199dfdd3912dc4527c",
       "version_major": 2,
       "version_minor": 0
      },
      "text/plain": [
       "Downloading [qwq-32b-q6_k-00003-of-00007.gguf]:   0%|          | 0.00/3.72G [00:00<?, ?B/s]"
      ]
     },
     "metadata": {},
     "output_type": "display_data"
    },
    {
     "data": {
      "application/vnd.jupyter.widget-view+json": {
       "model_id": "80ab2c0c98254b22b43c7c8416373a94",
       "version_major": 2,
       "version_minor": 0
      },
      "text/plain": [
       "Downloading [qwq-32b-q6_k-00004-of-00007.gguf]:   0%|          | 0.00/3.62G [00:00<?, ?B/s]"
      ]
     },
     "metadata": {},
     "output_type": "display_data"
    },
    {
     "data": {
      "application/vnd.jupyter.widget-view+json": {
       "model_id": "438e02f780ab4f7e8320c862f77d3822",
       "version_major": 2,
       "version_minor": 0
      },
      "text/plain": [
       "Downloading [qwq-32b-q6_k-00005-of-00007.gguf]:   0%|          | 0.00/3.72G [00:00<?, ?B/s]"
      ]
     },
     "metadata": {},
     "output_type": "display_data"
    },
    {
     "data": {
      "application/vnd.jupyter.widget-view+json": {
       "model_id": "1203c1f4e7444ad380ac67b134542459",
       "version_major": 2,
       "version_minor": 0
      },
      "text/plain": [
       "Downloading [qwq-32b-q6_k-00006-of-00007.gguf]:   0%|          | 0.00/3.71G [00:00<?, ?B/s]"
      ]
     },
     "metadata": {},
     "output_type": "display_data"
    },
    {
     "data": {
      "application/vnd.jupyter.widget-view+json": {
       "model_id": "fddcfd258c664a45923ce62384c326da",
       "version_major": 2,
       "version_minor": 0
      },
      "text/plain": [
       "Downloading [qwq-32b-q6_k-00007-of-00007.gguf]:   0%|          | 0.00/2.85G [00:00<?, ?B/s]"
      ]
     },
     "metadata": {},
     "output_type": "display_data"
    },
    {
     "data": {
      "application/vnd.jupyter.widget-view+json": {
       "model_id": "5814c8f11fce4207b78f84314e7210b9",
       "version_major": 2,
       "version_minor": 0
      },
      "text/plain": [
       "Downloading [qwq-32b-q6_k-00004-of-00007.gguf]:   0%|          | 0.00/3.62G [00:00<?, ?B/s]"
      ]
     },
     "metadata": {},
     "output_type": "display_data"
    },
    {
     "data": {
      "application/vnd.jupyter.widget-view+json": {
       "model_id": "3031bb59c70b4835b412fb559fddacfa",
       "version_major": 2,
       "version_minor": 0
      },
      "text/plain": [
       "Downloading [qwq-32b-q5_0.gguf]:   0%|          | 0.00/21.1G [00:00<?, ?B/s]"
      ]
     },
     "metadata": {},
     "output_type": "display_data"
    },
    {
     "data": {
      "application/vnd.jupyter.widget-view+json": {
       "model_id": "59cfe191b31b429f82f65a6433a15fce",
       "version_major": 2,
       "version_minor": 0
      },
      "text/plain": [
       "Downloading [qwq-32b-q6_k-00005-of-00007.gguf]:   0%|          | 0.00/3.72G [00:00<?, ?B/s]"
      ]
     },
     "metadata": {},
     "output_type": "display_data"
    },
    {
     "data": {
      "application/vnd.jupyter.widget-view+json": {
       "model_id": "9ce004d45cfc4c2a8e4721edbaacbd2f",
       "version_major": 2,
       "version_minor": 0
      },
      "text/plain": [
       "Downloading [qwq-32b-q6_k-00003-of-00007.gguf]:   0%|          | 0.00/3.72G [00:00<?, ?B/s]"
      ]
     },
     "metadata": {},
     "output_type": "display_data"
    },
    {
     "data": {
      "application/vnd.jupyter.widget-view+json": {
       "model_id": "f213391b41744ee4979156c0a4e62858",
       "version_major": 2,
       "version_minor": 0
      },
      "text/plain": [
       "Downloading [qwq-32b-q6_k-00007-of-00007.gguf]:   0%|          | 0.00/2.85G [00:00<?, ?B/s]"
      ]
     },
     "metadata": {},
     "output_type": "display_data"
    },
    {
     "data": {
      "application/vnd.jupyter.widget-view+json": {
       "model_id": "0a7edba17c5b483a874f50d96da9792b",
       "version_major": 2,
       "version_minor": 0
      },
      "text/plain": [
       "Downloading [qwq-32b-q5_k_m.gguf]:   0%|          | 0.00/21.7G [00:00<?, ?B/s]"
      ]
     },
     "metadata": {},
     "output_type": "display_data"
    },
    {
     "data": {
      "application/vnd.jupyter.widget-view+json": {
       "model_id": "852b59dddb144eaab48a780add085e36",
       "version_major": 2,
       "version_minor": 0
      },
      "text/plain": [
       "Downloading [qwq-32b-q6_k-00002-of-00007.gguf]:   0%|          | 0.00/3.71G [00:00<?, ?B/s]"
      ]
     },
     "metadata": {},
     "output_type": "display_data"
    },
    {
     "data": {
      "application/vnd.jupyter.widget-view+json": {
       "model_id": "57bf3e6ad6b94f86b707810223704615",
       "version_major": 2,
       "version_minor": 0
      },
      "text/plain": [
       "Downloading [qwq-32b-q6_k-00006-of-00007.gguf]:   0%|          | 0.00/3.71G [00:00<?, ?B/s]"
      ]
     },
     "metadata": {},
     "output_type": "display_data"
    },
    {
     "data": {
      "application/vnd.jupyter.widget-view+json": {
       "model_id": "1bdf7acb9ef34a6fa948620b260efb9e",
       "version_major": 2,
       "version_minor": 0
      },
      "text/plain": [
       "Downloading [qwq-32b-q6_k-00004-of-00007.gguf]:   0%|          | 0.00/3.62G [00:00<?, ?B/s]"
      ]
     },
     "metadata": {},
     "output_type": "display_data"
    },
    {
     "data": {
      "application/vnd.jupyter.widget-view+json": {
       "model_id": "68dfd8eb22eb421f918414a8114ce2b1",
       "version_major": 2,
       "version_minor": 0
      },
      "text/plain": [
       "Downloading [qwq-32b-q5_0.gguf]:   0%|          | 0.00/21.1G [00:00<?, ?B/s]"
      ]
     },
     "metadata": {},
     "output_type": "display_data"
    },
    {
     "data": {
      "application/vnd.jupyter.widget-view+json": {
       "model_id": "048e0c454afd45ff82d5a64807824b13",
       "version_major": 2,
       "version_minor": 0
      },
      "text/plain": [
       "Downloading [qwq-32b-q6_k-00005-of-00007.gguf]:   0%|          | 0.00/3.72G [00:00<?, ?B/s]"
      ]
     },
     "metadata": {},
     "output_type": "display_data"
    },
    {
     "data": {
      "application/vnd.jupyter.widget-view+json": {
       "model_id": "40824dba80be43a3b4ce903d6af6953c",
       "version_major": 2,
       "version_minor": 0
      },
      "text/plain": [
       "Downloading [qwq-32b-q6_k-00002-of-00007.gguf]:   0%|          | 0.00/3.71G [00:00<?, ?B/s]"
      ]
     },
     "metadata": {},
     "output_type": "display_data"
    },
    {
     "data": {
      "application/vnd.jupyter.widget-view+json": {
       "model_id": "e73b8a34017f4c118a8e81fb84b8adc6",
       "version_major": 2,
       "version_minor": 0
      },
      "text/plain": [
       "Downloading [qwq-32b-q6_k-00006-of-00007.gguf]:   0%|          | 0.00/3.71G [00:00<?, ?B/s]"
      ]
     },
     "metadata": {},
     "output_type": "display_data"
    },
    {
     "data": {
      "application/vnd.jupyter.widget-view+json": {
       "model_id": "e05ac4000ef940b6bd7ef4b47bed48cd",
       "version_major": 2,
       "version_minor": 0
      },
      "text/plain": [
       "Downloading [qwq-32b-q6_k-00007-of-00007.gguf]:   0%|          | 0.00/2.85G [00:00<?, ?B/s]"
      ]
     },
     "metadata": {},
     "output_type": "display_data"
    },
    {
     "data": {
      "application/vnd.jupyter.widget-view+json": {
       "model_id": "6eaca93db8a0406b86928e422f5edbc2",
       "version_major": 2,
       "version_minor": 0
      },
      "text/plain": [
       "Downloading [qwq-32b-q5_k_m.gguf]:   0%|          | 0.00/21.7G [00:00<?, ?B/s]"
      ]
     },
     "metadata": {},
     "output_type": "display_data"
    },
    {
     "data": {
      "application/vnd.jupyter.widget-view+json": {
       "model_id": "daa914a56a254423a222f2de77e31e74",
       "version_major": 2,
       "version_minor": 0
      },
      "text/plain": [
       "Downloading [qwq-32b-q6_k-00003-of-00007.gguf]:   0%|          | 0.00/3.72G [00:00<?, ?B/s]"
      ]
     },
     "metadata": {},
     "output_type": "display_data"
    },
    {
     "data": {
      "application/vnd.jupyter.widget-view+json": {
       "model_id": "263738a863104526a5c012db260ade1d",
       "version_major": 2,
       "version_minor": 0
      },
      "text/plain": [
       "Downloading [qwq-32b-q6_k-00005-of-00007.gguf]:   0%|          | 0.00/3.72G [00:00<?, ?B/s]"
      ]
     },
     "metadata": {},
     "output_type": "display_data"
    },
    {
     "data": {
      "application/vnd.jupyter.widget-view+json": {
       "model_id": "aae4c77c0a024f3f965a8202326f0c72",
       "version_major": 2,
       "version_minor": 0
      },
      "text/plain": [
       "Downloading [qwq-32b-q6_k-00004-of-00007.gguf]:   0%|          | 0.00/3.62G [00:00<?, ?B/s]"
      ]
     },
     "metadata": {},
     "output_type": "display_data"
    },
    {
     "data": {
      "application/vnd.jupyter.widget-view+json": {
       "model_id": "2138ddd53bfd43ddbd107d269bbc4df2",
       "version_major": 2,
       "version_minor": 0
      },
      "text/plain": [
       "Downloading [qwq-32b-q5_0.gguf]:   0%|          | 0.00/21.1G [00:00<?, ?B/s]"
      ]
     },
     "metadata": {},
     "output_type": "display_data"
    },
    {
     "data": {
      "application/vnd.jupyter.widget-view+json": {
       "model_id": "094f0828e57c4f839be472ba0243f751",
       "version_major": 2,
       "version_minor": 0
      },
      "text/plain": [
       "Downloading [qwq-32b-q6_k-00002-of-00007.gguf]:   0%|          | 0.00/3.71G [00:00<?, ?B/s]"
      ]
     },
     "metadata": {},
     "output_type": "display_data"
    },
    {
     "data": {
      "application/vnd.jupyter.widget-view+json": {
       "model_id": "f6ff694588af497784afdaaac1c126d3",
       "version_major": 2,
       "version_minor": 0
      },
      "text/plain": [
       "Downloading [qwq-32b-q6_k-00006-of-00007.gguf]:   0%|          | 0.00/3.71G [00:00<?, ?B/s]"
      ]
     },
     "metadata": {},
     "output_type": "display_data"
    },
    {
     "data": {
      "application/vnd.jupyter.widget-view+json": {
       "model_id": "f270135a3e8c4da0a6cbd28f72c12f61",
       "version_major": 2,
       "version_minor": 0
      },
      "text/plain": [
       "Downloading [qwq-32b-q5_k_m.gguf]:   0%|          | 0.00/21.7G [00:00<?, ?B/s]"
      ]
     },
     "metadata": {},
     "output_type": "display_data"
    },
    {
     "data": {
      "application/vnd.jupyter.widget-view+json": {
       "model_id": "2440e01727984195bb5d96356bea934a",
       "version_major": 2,
       "version_minor": 0
      },
      "text/plain": [
       "Downloading [qwq-32b-q6_k-00003-of-00007.gguf]:   0%|          | 0.00/3.72G [00:00<?, ?B/s]"
      ]
     },
     "metadata": {},
     "output_type": "display_data"
    },
    {
     "data": {
      "application/vnd.jupyter.widget-view+json": {
       "model_id": "6385e02cfe9c4d9fb445ba0501276910",
       "version_major": 2,
       "version_minor": 0
      },
      "text/plain": [
       "Downloading [qwq-32b-q6_k-00007-of-00007.gguf]:   0%|          | 0.00/2.85G [00:00<?, ?B/s]"
      ]
     },
     "metadata": {},
     "output_type": "display_data"
    },
    {
     "data": {
      "application/vnd.jupyter.widget-view+json": {
       "model_id": "62fc264d5cc340efaa62a9353c5d87b8",
       "version_major": 2,
       "version_minor": 0
      },
      "text/plain": [
       "Downloading [qwq-32b-q6_k-00007-of-00007.gguf]:   0%|          | 0.00/2.85G [00:00<?, ?B/s]"
      ]
     },
     "metadata": {},
     "output_type": "display_data"
    },
    {
     "data": {
      "application/vnd.jupyter.widget-view+json": {
       "model_id": "dd5c2b56ad814fea9ab62790e0672d00",
       "version_major": 2,
       "version_minor": 0
      },
      "text/plain": [
       "Downloading [qwq-32b-q6_k-00004-of-00007.gguf]:   0%|          | 0.00/3.62G [00:00<?, ?B/s]"
      ]
     },
     "metadata": {},
     "output_type": "display_data"
    },
    {
     "data": {
      "application/vnd.jupyter.widget-view+json": {
       "model_id": "68f29aff58a74a5d9d74421b113f8fe6",
       "version_major": 2,
       "version_minor": 0
      },
      "text/plain": [
       "Downloading [qwq-32b-q5_0.gguf]:   0%|          | 0.00/21.1G [00:00<?, ?B/s]"
      ]
     },
     "metadata": {},
     "output_type": "display_data"
    },
    {
     "data": {
      "application/vnd.jupyter.widget-view+json": {
       "model_id": "009e72ba720b42e38c5368021b89f122",
       "version_major": 2,
       "version_minor": 0
      },
      "text/plain": [
       "Downloading [qwq-32b-q5_k_m.gguf]:   0%|          | 0.00/21.7G [00:00<?, ?B/s]"
      ]
     },
     "metadata": {},
     "output_type": "display_data"
    },
    {
     "data": {
      "application/vnd.jupyter.widget-view+json": {
       "model_id": "5a0fe631b81647bdb22c99f8606e6315",
       "version_major": 2,
       "version_minor": 0
      },
      "text/plain": [
       "Downloading [qwq-32b-q6_k-00005-of-00007.gguf]:   0%|          | 0.00/3.72G [00:00<?, ?B/s]"
      ]
     },
     "metadata": {},
     "output_type": "display_data"
    },
    {
     "data": {
      "application/vnd.jupyter.widget-view+json": {
       "model_id": "879c2686015a43ffab4f91ad00cba0f6",
       "version_major": 2,
       "version_minor": 0
      },
      "text/plain": [
       "Downloading [qwq-32b-q6_k-00006-of-00007.gguf]:   0%|          | 0.00/3.71G [00:00<?, ?B/s]"
      ]
     },
     "metadata": {},
     "output_type": "display_data"
    },
    {
     "data": {
      "application/vnd.jupyter.widget-view+json": {
       "model_id": "325ece89426f4257bba878430b938cba",
       "version_major": 2,
       "version_minor": 0
      },
      "text/plain": [
       "Downloading [qwq-32b-q6_k-00003-of-00007.gguf]:   0%|          | 0.00/3.72G [00:00<?, ?B/s]"
      ]
     },
     "metadata": {},
     "output_type": "display_data"
    },
    {
     "data": {
      "application/vnd.jupyter.widget-view+json": {
       "model_id": "6eec6d7e731e4bd3a07e71565e2563b1",
       "version_major": 2,
       "version_minor": 0
      },
      "text/plain": [
       "Downloading [qwq-32b-q6_k-00002-of-00007.gguf]:   0%|          | 0.00/3.71G [00:00<?, ?B/s]"
      ]
     },
     "metadata": {},
     "output_type": "display_data"
    },
    {
     "data": {
      "application/vnd.jupyter.widget-view+json": {
       "model_id": "7b1bfb8f893945c491cb55e081941813",
       "version_major": 2,
       "version_minor": 0
      },
      "text/plain": [
       "Downloading [qwq-32b-q6_k-00007-of-00007.gguf]:   0%|          | 0.00/2.85G [00:00<?, ?B/s]"
      ]
     },
     "metadata": {},
     "output_type": "display_data"
    },
    {
     "data": {
      "application/vnd.jupyter.widget-view+json": {
       "model_id": "1bf69b3757734c2f8a1e1f9b090c9df1",
       "version_major": 2,
       "version_minor": 0
      },
      "text/plain": [
       "Downloading [qwq-32b-q5_0.gguf]:   0%|          | 0.00/21.1G [00:00<?, ?B/s]"
      ]
     },
     "metadata": {},
     "output_type": "display_data"
    },
    {
     "data": {
      "application/vnd.jupyter.widget-view+json": {
       "model_id": "5831e5b1368546969c5b12197eeaebc7",
       "version_major": 2,
       "version_minor": 0
      },
      "text/plain": [
       "Downloading [qwq-32b-q6_k-00004-of-00007.gguf]:   0%|          | 0.00/3.62G [00:00<?, ?B/s]"
      ]
     },
     "metadata": {},
     "output_type": "display_data"
    },
    {
     "data": {
      "application/vnd.jupyter.widget-view+json": {
       "model_id": "932487d6494e431aae50ad2c59eb80eb",
       "version_major": 2,
       "version_minor": 0
      },
      "text/plain": [
       "Downloading [qwq-32b-q5_k_m.gguf]:   0%|          | 0.00/21.7G [00:00<?, ?B/s]"
      ]
     },
     "metadata": {},
     "output_type": "display_data"
    },
    {
     "data": {
      "application/vnd.jupyter.widget-view+json": {
       "model_id": "0e005428263d49a3b896c96089f86b19",
       "version_major": 2,
       "version_minor": 0
      },
      "text/plain": [
       "Downloading [qwq-32b-q6_k-00006-of-00007.gguf]:   0%|          | 0.00/3.71G [00:00<?, ?B/s]"
      ]
     },
     "metadata": {},
     "output_type": "display_data"
    },
    {
     "data": {
      "application/vnd.jupyter.widget-view+json": {
       "model_id": "a6cfdb95b0ee4ffaa3c158b9738f8b02",
       "version_major": 2,
       "version_minor": 0
      },
      "text/plain": [
       "Downloading [qwq-32b-q6_k-00005-of-00007.gguf]:   0%|          | 0.00/3.72G [00:00<?, ?B/s]"
      ]
     },
     "metadata": {},
     "output_type": "display_data"
    },
    {
     "data": {
      "application/vnd.jupyter.widget-view+json": {
       "model_id": "d3e944879fcb4616ab98548684e6ac8d",
       "version_major": 2,
       "version_minor": 0
      },
      "text/plain": [
       "Downloading [qwq-32b-q6_k-00003-of-00007.gguf]:   0%|          | 0.00/3.72G [00:00<?, ?B/s]"
      ]
     },
     "metadata": {},
     "output_type": "display_data"
    },
    {
     "data": {
      "application/vnd.jupyter.widget-view+json": {
       "model_id": "b905ca4427014d0e95f4fd73e44274f1",
       "version_major": 2,
       "version_minor": 0
      },
      "text/plain": [
       "Downloading [qwq-32b-q6_k-00002-of-00007.gguf]:   0%|          | 0.00/3.71G [00:00<?, ?B/s]"
      ]
     },
     "metadata": {},
     "output_type": "display_data"
    },
    {
     "data": {
      "application/vnd.jupyter.widget-view+json": {
       "model_id": "6d37e0a0452644dbbef6eaea95f8604a",
       "version_major": 2,
       "version_minor": 0
      },
      "text/plain": [
       "Downloading [qwq-32b-q6_k.gguf]:   0%|          | 0.00/25.0G [00:00<?, ?B/s]"
      ]
     },
     "metadata": {},
     "output_type": "display_data"
    },
    {
     "data": {
      "application/vnd.jupyter.widget-view+json": {
       "model_id": "333ef116dc3d493fa071ae0b60e94ab0",
       "version_major": 2,
       "version_minor": 0
      },
      "text/plain": [
       "Downloading [qwq-32b-q8_0-00001-of-00009.gguf]:   0%|          | 0.00/3.67G [00:00<?, ?B/s]"
      ]
     },
     "metadata": {},
     "output_type": "display_data"
    },
    {
     "data": {
      "application/vnd.jupyter.widget-view+json": {
       "model_id": "a82ebd3b0f9b4f8d872106d350521349",
       "version_major": 2,
       "version_minor": 0
      },
      "text/plain": [
       "Downloading [qwq-32b-q8_0-00002-of-00009.gguf]:   0%|          | 0.00/3.66G [00:00<?, ?B/s]"
      ]
     },
     "metadata": {},
     "output_type": "display_data"
    },
    {
     "data": {
      "application/vnd.jupyter.widget-view+json": {
       "model_id": "6a6ec251a5824b00a2c4b5a78799891c",
       "version_major": 2,
       "version_minor": 0
      },
      "text/plain": [
       "Downloading [qwq-32b-q8_0-00003-of-00009.gguf]:   0%|          | 0.00/3.72G [00:00<?, ?B/s]"
      ]
     },
     "metadata": {},
     "output_type": "display_data"
    },
    {
     "data": {
      "application/vnd.jupyter.widget-view+json": {
       "model_id": "13f4b9f383254dd495d6e2028e8719f7",
       "version_major": 2,
       "version_minor": 0
      },
      "text/plain": [
       "Downloading [qwq-32b-q8_0-00004-of-00009.gguf]:   0%|          | 0.00/3.72G [00:00<?, ?B/s]"
      ]
     },
     "metadata": {},
     "output_type": "display_data"
    },
    {
     "data": {
      "application/vnd.jupyter.widget-view+json": {
       "model_id": "6320ad2b70384b13b24b002d3f4681e1",
       "version_major": 2,
       "version_minor": 0
      },
      "text/plain": [
       "Downloading [qwq-32b-q8_0-00005-of-00009.gguf]:   0%|          | 0.00/3.66G [00:00<?, ?B/s]"
      ]
     },
     "metadata": {},
     "output_type": "display_data"
    },
    {
     "data": {
      "application/vnd.jupyter.widget-view+json": {
       "model_id": "8e19f3bfa9194f6eb9af6b5ddb845a35",
       "version_major": 2,
       "version_minor": 0
      },
      "text/plain": [
       "Downloading [qwq-32b-q8_0-00006-of-00009.gguf]:   0%|          | 0.00/3.72G [00:00<?, ?B/s]"
      ]
     },
     "metadata": {},
     "output_type": "display_data"
    },
    {
     "data": {
      "application/vnd.jupyter.widget-view+json": {
       "model_id": "179545249bf0488394e1a6a0961f8cc9",
       "version_major": 2,
       "version_minor": 0
      },
      "text/plain": [
       "Downloading [qwq-32b-q6_k.gguf]:   0%|          | 0.00/25.0G [00:00<?, ?B/s]"
      ]
     },
     "metadata": {},
     "output_type": "display_data"
    },
    {
     "data": {
      "application/vnd.jupyter.widget-view+json": {
       "model_id": "d65bca817798441699d6b40af66785f5",
       "version_major": 2,
       "version_minor": 0
      },
      "text/plain": [
       "Downloading [qwq-32b-q8_0-00001-of-00009.gguf]:   0%|          | 0.00/3.67G [00:00<?, ?B/s]"
      ]
     },
     "metadata": {},
     "output_type": "display_data"
    },
    {
     "data": {
      "application/vnd.jupyter.widget-view+json": {
       "model_id": "efda3c9c44064faa8f603493be806e54",
       "version_major": 2,
       "version_minor": 0
      },
      "text/plain": [
       "Downloading [qwq-32b-q8_0-00002-of-00009.gguf]:   0%|          | 0.00/3.66G [00:00<?, ?B/s]"
      ]
     },
     "metadata": {},
     "output_type": "display_data"
    },
    {
     "data": {
      "application/vnd.jupyter.widget-view+json": {
       "model_id": "ecf912a96a144b538c13cdc427a4cf15",
       "version_major": 2,
       "version_minor": 0
      },
      "text/plain": [
       "Downloading [qwq-32b-q8_0-00007-of-00009.gguf]:   0%|          | 0.00/3.72G [00:00<?, ?B/s]"
      ]
     },
     "metadata": {},
     "output_type": "display_data"
    },
    {
     "data": {
      "application/vnd.jupyter.widget-view+json": {
       "model_id": "35767126d20b4dbfb12235270ba3dde0",
       "version_major": 2,
       "version_minor": 0
      },
      "text/plain": [
       "Downloading [qwq-32b-q8_0-00003-of-00009.gguf]:   0%|          | 0.00/3.72G [00:00<?, ?B/s]"
      ]
     },
     "metadata": {},
     "output_type": "display_data"
    },
    {
     "data": {
      "application/vnd.jupyter.widget-view+json": {
       "model_id": "16ccf81a7e894a0dab63163cb72cb543",
       "version_major": 2,
       "version_minor": 0
      },
      "text/plain": [
       "Downloading [qwq-32b-q8_0-00004-of-00009.gguf]:   0%|          | 0.00/3.72G [00:00<?, ?B/s]"
      ]
     },
     "metadata": {},
     "output_type": "display_data"
    },
    {
     "data": {
      "application/vnd.jupyter.widget-view+json": {
       "model_id": "df5a1066b6334ff7802bb78a51465ba9",
       "version_major": 2,
       "version_minor": 0
      },
      "text/plain": [
       "Downloading [qwq-32b-q8_0-00006-of-00009.gguf]:   0%|          | 0.00/3.72G [00:00<?, ?B/s]"
      ]
     },
     "metadata": {},
     "output_type": "display_data"
    },
    {
     "data": {
      "application/vnd.jupyter.widget-view+json": {
       "model_id": "9a141025d86a47aea177722d933f7ef7",
       "version_major": 2,
       "version_minor": 0
      },
      "text/plain": [
       "Downloading [qwq-32b-q8_0-00005-of-00009.gguf]:   0%|          | 0.00/3.66G [00:00<?, ?B/s]"
      ]
     },
     "metadata": {},
     "output_type": "display_data"
    },
    {
     "data": {
      "application/vnd.jupyter.widget-view+json": {
       "model_id": "3023bf99f27a4370ae8a92d2c8de5400",
       "version_major": 2,
       "version_minor": 0
      },
      "text/plain": [
       "Downloading [qwq-32b-q8_0-00007-of-00009.gguf]:   0%|          | 0.00/3.72G [00:00<?, ?B/s]"
      ]
     },
     "metadata": {},
     "output_type": "display_data"
    },
    {
     "data": {
      "application/vnd.jupyter.widget-view+json": {
       "model_id": "8373d426b7b44ef0aee0bfb784019371",
       "version_major": 2,
       "version_minor": 0
      },
      "text/plain": [
       "Downloading [qwq-32b-q8_0-00003-of-00009.gguf]:   0%|          | 0.00/3.72G [00:00<?, ?B/s]"
      ]
     },
     "metadata": {},
     "output_type": "display_data"
    },
    {
     "data": {
      "application/vnd.jupyter.widget-view+json": {
       "model_id": "0f6903a71e5445d1ae7b872edf1a9797",
       "version_major": 2,
       "version_minor": 0
      },
      "text/plain": [
       "Downloading [qwq-32b-q8_0-00002-of-00009.gguf]:   0%|          | 0.00/3.66G [00:00<?, ?B/s]"
      ]
     },
     "metadata": {},
     "output_type": "display_data"
    },
    {
     "data": {
      "application/vnd.jupyter.widget-view+json": {
       "model_id": "f4ec7368dc124b42acd85893f0233fcb",
       "version_major": 2,
       "version_minor": 0
      },
      "text/plain": [
       "Downloading [qwq-32b-q8_0-00005-of-00009.gguf]:   0%|          | 0.00/3.66G [00:00<?, ?B/s]"
      ]
     },
     "metadata": {},
     "output_type": "display_data"
    },
    {
     "data": {
      "application/vnd.jupyter.widget-view+json": {
       "model_id": "058c509db8424beca73ff259f508fb5c",
       "version_major": 2,
       "version_minor": 0
      },
      "text/plain": [
       "Downloading [qwq-32b-q8_0-00001-of-00009.gguf]:   0%|          | 0.00/3.67G [00:00<?, ?B/s]"
      ]
     },
     "metadata": {},
     "output_type": "display_data"
    },
    {
     "data": {
      "application/vnd.jupyter.widget-view+json": {
       "model_id": "5f502576dfad4d1081dd12c65399159d",
       "version_major": 2,
       "version_minor": 0
      },
      "text/plain": [
       "Downloading [qwq-32b-q8_0-00004-of-00009.gguf]:   0%|          | 0.00/3.72G [00:00<?, ?B/s]"
      ]
     },
     "metadata": {},
     "output_type": "display_data"
    },
    {
     "data": {
      "application/vnd.jupyter.widget-view+json": {
       "model_id": "759f13027d25486d9d36a88ed97cd468",
       "version_major": 2,
       "version_minor": 0
      },
      "text/plain": [
       "Downloading [qwq-32b-q6_k.gguf]:   0%|          | 0.00/25.0G [00:00<?, ?B/s]"
      ]
     },
     "metadata": {},
     "output_type": "display_data"
    },
    {
     "data": {
      "application/vnd.jupyter.widget-view+json": {
       "model_id": "ad371603c76b479cb55e3f77f558058d",
       "version_major": 2,
       "version_minor": 0
      },
      "text/plain": [
       "Downloading [qwq-32b-q8_0-00006-of-00009.gguf]:   0%|          | 0.00/3.72G [00:00<?, ?B/s]"
      ]
     },
     "metadata": {},
     "output_type": "display_data"
    },
    {
     "data": {
      "application/vnd.jupyter.widget-view+json": {
       "model_id": "52fc15303a5b4380987d2a08018cea0b",
       "version_major": 2,
       "version_minor": 0
      },
      "text/plain": [
       "Downloading [qwq-32b-q8_0-00007-of-00009.gguf]:   0%|          | 0.00/3.72G [00:00<?, ?B/s]"
      ]
     },
     "metadata": {},
     "output_type": "display_data"
    },
    {
     "data": {
      "application/vnd.jupyter.widget-view+json": {
       "model_id": "939ee784e52640b09ca996968b60947d",
       "version_major": 2,
       "version_minor": 0
      },
      "text/plain": [
       "Downloading [qwq-32b-q8_0-00004-of-00009.gguf]:   0%|          | 0.00/3.72G [00:00<?, ?B/s]"
      ]
     },
     "metadata": {},
     "output_type": "display_data"
    },
    {
     "data": {
      "application/vnd.jupyter.widget-view+json": {
       "model_id": "24533892c9454523a3cb68a2e93fe3fc",
       "version_major": 2,
       "version_minor": 0
      },
      "text/plain": [
       "Downloading [qwq-32b-q8_0-00002-of-00009.gguf]:   0%|          | 0.00/3.66G [00:00<?, ?B/s]"
      ]
     },
     "metadata": {},
     "output_type": "display_data"
    },
    {
     "data": {
      "application/vnd.jupyter.widget-view+json": {
       "model_id": "d91fda9e75264ac5997ff92be2c974d3",
       "version_major": 2,
       "version_minor": 0
      },
      "text/plain": [
       "Downloading [qwq-32b-q8_0-00005-of-00009.gguf]:   0%|          | 0.00/3.66G [00:00<?, ?B/s]"
      ]
     },
     "metadata": {},
     "output_type": "display_data"
    },
    {
     "data": {
      "application/vnd.jupyter.widget-view+json": {
       "model_id": "1354db901abb425ea71f6acf316a7624",
       "version_major": 2,
       "version_minor": 0
      },
      "text/plain": [
       "Downloading [qwq-32b-q8_0-00001-of-00009.gguf]:   0%|          | 0.00/3.67G [00:00<?, ?B/s]"
      ]
     },
     "metadata": {},
     "output_type": "display_data"
    },
    {
     "data": {
      "application/vnd.jupyter.widget-view+json": {
       "model_id": "a0be6dd42c4341b7b343f2f3905afdba",
       "version_major": 2,
       "version_minor": 0
      },
      "text/plain": [
       "Downloading [qwq-32b-q6_k.gguf]:   0%|          | 0.00/25.0G [00:00<?, ?B/s]"
      ]
     },
     "metadata": {},
     "output_type": "display_data"
    },
    {
     "data": {
      "application/vnd.jupyter.widget-view+json": {
       "model_id": "5a9c111b932f439a8460736957dce2fb",
       "version_major": 2,
       "version_minor": 0
      },
      "text/plain": [
       "Downloading [qwq-32b-q8_0-00006-of-00009.gguf]:   0%|          | 0.00/3.72G [00:00<?, ?B/s]"
      ]
     },
     "metadata": {},
     "output_type": "display_data"
    },
    {
     "data": {
      "application/vnd.jupyter.widget-view+json": {
       "model_id": "d27a6ebeb7a04825a5106cd4cfde6a18",
       "version_major": 2,
       "version_minor": 0
      },
      "text/plain": [
       "Downloading [qwq-32b-q8_0-00003-of-00009.gguf]:   0%|          | 0.00/3.72G [00:00<?, ?B/s]"
      ]
     },
     "metadata": {},
     "output_type": "display_data"
    },
    {
     "data": {
      "application/vnd.jupyter.widget-view+json": {
       "model_id": "8bebe6008007431cb9d2505cd649805c",
       "version_major": 2,
       "version_minor": 0
      },
      "text/plain": [
       "Downloading [qwq-32b-q8_0-00007-of-00009.gguf]:   0%|          | 0.00/3.72G [00:00<?, ?B/s]"
      ]
     },
     "metadata": {},
     "output_type": "display_data"
    },
    {
     "data": {
      "application/vnd.jupyter.widget-view+json": {
       "model_id": "4df8047c301f4a478843828beae0925d",
       "version_major": 2,
       "version_minor": 0
      },
      "text/plain": [
       "Downloading [qwq-32b-q8_0-00004-of-00009.gguf]:   0%|          | 0.00/3.72G [00:00<?, ?B/s]"
      ]
     },
     "metadata": {},
     "output_type": "display_data"
    },
    {
     "data": {
      "application/vnd.jupyter.widget-view+json": {
       "model_id": "752a5324de934346be0e120f7fd18500",
       "version_major": 2,
       "version_minor": 0
      },
      "text/plain": [
       "Downloading [qwq-32b-q8_0-00001-of-00009.gguf]:   0%|          | 0.00/3.67G [00:00<?, ?B/s]"
      ]
     },
     "metadata": {},
     "output_type": "display_data"
    },
    {
     "data": {
      "application/vnd.jupyter.widget-view+json": {
       "model_id": "3b3d72b14fe745198b03d28cd25e5da7",
       "version_major": 2,
       "version_minor": 0
      },
      "text/plain": [
       "Downloading [qwq-32b-q8_0-00005-of-00009.gguf]:   0%|          | 0.00/3.66G [00:00<?, ?B/s]"
      ]
     },
     "metadata": {},
     "output_type": "display_data"
    },
    {
     "data": {
      "application/vnd.jupyter.widget-view+json": {
       "model_id": "138ebdafac464596ab2a1d6f802dbf40",
       "version_major": 2,
       "version_minor": 0
      },
      "text/plain": [
       "Downloading [qwq-32b-q6_k.gguf]:   0%|          | 0.00/25.0G [00:00<?, ?B/s]"
      ]
     },
     "metadata": {},
     "output_type": "display_data"
    },
    {
     "data": {
      "application/vnd.jupyter.widget-view+json": {
       "model_id": "6c5ba32e116b466ca132c6f4a72213ee",
       "version_major": 2,
       "version_minor": 0
      },
      "text/plain": [
       "Downloading [qwq-32b-q8_0-00002-of-00009.gguf]:   0%|          | 0.00/3.66G [00:00<?, ?B/s]"
      ]
     },
     "metadata": {},
     "output_type": "display_data"
    },
    {
     "data": {
      "application/vnd.jupyter.widget-view+json": {
       "model_id": "7c996298f2514e29a485567bd79e1f5c",
       "version_major": 2,
       "version_minor": 0
      },
      "text/plain": [
       "Downloading [qwq-32b-q8_0-00006-of-00009.gguf]:   0%|          | 0.00/3.72G [00:00<?, ?B/s]"
      ]
     },
     "metadata": {},
     "output_type": "display_data"
    },
    {
     "data": {
      "application/vnd.jupyter.widget-view+json": {
       "model_id": "6a2cb0ada1844190b37e83a947a2f9c6",
       "version_major": 2,
       "version_minor": 0
      },
      "text/plain": [
       "Downloading [qwq-32b-q8_0-00003-of-00009.gguf]:   0%|          | 0.00/3.72G [00:00<?, ?B/s]"
      ]
     },
     "metadata": {},
     "output_type": "display_data"
    },
    {
     "data": {
      "application/vnd.jupyter.widget-view+json": {
       "model_id": "ff56220f25b748199191a127b0fc208e",
       "version_major": 2,
       "version_minor": 0
      },
      "text/plain": [
       "Downloading [qwq-32b-q8_0-00007-of-00009.gguf]:   0%|          | 0.00/3.72G [00:00<?, ?B/s]"
      ]
     },
     "metadata": {},
     "output_type": "display_data"
    },
    {
     "data": {
      "application/vnd.jupyter.widget-view+json": {
       "model_id": "13096a2ba5fe42a9882acfc2862b79cc",
       "version_major": 2,
       "version_minor": 0
      },
      "text/plain": [
       "Downloading [qwq-32b-q8_0-00005-of-00009.gguf]:   0%|          | 0.00/3.66G [00:00<?, ?B/s]"
      ]
     },
     "metadata": {},
     "output_type": "display_data"
    },
    {
     "data": {
      "application/vnd.jupyter.widget-view+json": {
       "model_id": "fc3ee2e21e894906ad5feedada38f281",
       "version_major": 2,
       "version_minor": 0
      },
      "text/plain": [
       "Downloading [qwq-32b-q6_k.gguf]:   0%|          | 0.00/25.0G [00:00<?, ?B/s]"
      ]
     },
     "metadata": {},
     "output_type": "display_data"
    },
    {
     "data": {
      "application/vnd.jupyter.widget-view+json": {
       "model_id": "2307121ab10e47faa6327606d8ad7775",
       "version_major": 2,
       "version_minor": 0
      },
      "text/plain": [
       "Downloading [qwq-32b-q8_0-00001-of-00009.gguf]:   0%|          | 0.00/3.67G [00:00<?, ?B/s]"
      ]
     },
     "metadata": {},
     "output_type": "display_data"
    },
    {
     "data": {
      "application/vnd.jupyter.widget-view+json": {
       "model_id": "f92fa735ae474c5db81f557a018830d8",
       "version_major": 2,
       "version_minor": 0
      },
      "text/plain": [
       "Downloading [qwq-32b-q8_0-00008-of-00009.gguf]:   0%|          | 0.00/3.66G [00:00<?, ?B/s]"
      ]
     },
     "metadata": {},
     "output_type": "display_data"
    },
    {
     "data": {
      "application/vnd.jupyter.widget-view+json": {
       "model_id": "38642d17630f42559c809b2e27273adb",
       "version_major": 2,
       "version_minor": 0
      },
      "text/plain": [
       "Downloading [qwq-32b-q8_0-00006-of-00009.gguf]:   0%|          | 0.00/3.72G [00:00<?, ?B/s]"
      ]
     },
     "metadata": {},
     "output_type": "display_data"
    },
    {
     "data": {
      "application/vnd.jupyter.widget-view+json": {
       "model_id": "b242a2e8af274b45b3b3ce73ed9a443f",
       "version_major": 2,
       "version_minor": 0
      },
      "text/plain": [
       "Downloading [qwq-32b-q8_0-00009-of-00009.gguf]:   0%|          | 0.00/2.90G [00:00<?, ?B/s]"
      ]
     },
     "metadata": {},
     "output_type": "display_data"
    },
    {
     "data": {
      "application/vnd.jupyter.widget-view+json": {
       "model_id": "16c1f83861c14cbf841331ed7189cce8",
       "version_major": 2,
       "version_minor": 0
      },
      "text/plain": [
       "Downloading [qwq-32b-q8_0.gguf]:   0%|          | 0.00/32.4G [00:00<?, ?B/s]"
      ]
     },
     "metadata": {},
     "output_type": "display_data"
    },
    {
     "data": {
      "application/vnd.jupyter.widget-view+json": {
       "model_id": "2750bc53f45544f0927510722381b622",
       "version_major": 2,
       "version_minor": 0
      },
      "text/plain": [
       "Downloading [qwq-32b-q8_0-00002-of-00009.gguf]:   0%|          | 0.00/3.66G [00:00<?, ?B/s]"
      ]
     },
     "metadata": {},
     "output_type": "display_data"
    },
    {
     "data": {
      "application/vnd.jupyter.widget-view+json": {
       "model_id": "957189a344ee4b60800a0d0e7715cf1d",
       "version_major": 2,
       "version_minor": 0
      },
      "text/plain": [
       "Downloading [qwq-32b-q8_0-00003-of-00009.gguf]:   0%|          | 0.00/3.72G [00:00<?, ?B/s]"
      ]
     },
     "metadata": {},
     "output_type": "display_data"
    },
    {
     "data": {
      "application/vnd.jupyter.widget-view+json": {
       "model_id": "e0a7e890687f4ccbbc716a21a5ea10d5",
       "version_major": 2,
       "version_minor": 0
      },
      "text/plain": [
       "Downloading [qwq-32b-q8_0-00004-of-00009.gguf]:   0%|          | 0.00/3.72G [00:00<?, ?B/s]"
      ]
     },
     "metadata": {},
     "output_type": "display_data"
    },
    {
     "data": {
      "application/vnd.jupyter.widget-view+json": {
       "model_id": "b2ddd88fa11b472da9e33b62382608b1",
       "version_major": 2,
       "version_minor": 0
      },
      "text/plain": [
       "Downloading [qwq-32b-q8_0-00008-of-00009.gguf]:   0%|          | 0.00/3.66G [00:00<?, ?B/s]"
      ]
     },
     "metadata": {},
     "output_type": "display_data"
    },
    {
     "data": {
      "application/vnd.jupyter.widget-view+json": {
       "model_id": "d81a09ae06cb40e39b2ac75be7791466",
       "version_major": 2,
       "version_minor": 0
      },
      "text/plain": [
       "Downloading [README.md]:   0%|          | 0.00/6.59k [00:00<?, ?B/s]"
      ]
     },
     "metadata": {},
     "output_type": "display_data"
    },
    {
     "data": {
      "application/vnd.jupyter.widget-view+json": {
       "model_id": "fef9a35982ec486db6032b91ff8dd3f4",
       "version_major": 2,
       "version_minor": 0
      },
      "text/plain": [
       "Downloading [qwq-32b-q8_0-00007-of-00009.gguf]:   0%|          | 0.00/3.72G [00:00<?, ?B/s]"
      ]
     },
     "metadata": {},
     "output_type": "display_data"
    },
    {
     "data": {
      "application/vnd.jupyter.widget-view+json": {
       "model_id": "c4183934e0ab4bfab0436b7acdc9de48",
       "version_major": 2,
       "version_minor": 0
      },
      "text/plain": [
       "Downloading [qwq-32b-q8_0-00009-of-00009.gguf]:   0%|          | 0.00/2.90G [00:00<?, ?B/s]"
      ]
     },
     "metadata": {},
     "output_type": "display_data"
    },
    {
     "data": {
      "application/vnd.jupyter.widget-view+json": {
       "model_id": "f2522c396455415299c8ad8a05b89268",
       "version_major": 2,
       "version_minor": 0
      },
      "text/plain": [
       "Downloading [qwq-32b-q8_0.gguf]:   0%|          | 0.00/32.4G [00:00<?, ?B/s]"
      ]
     },
     "metadata": {},
     "output_type": "display_data"
    },
    {
     "data": {
      "application/vnd.jupyter.widget-view+json": {
       "model_id": "30a0de542fca4c108c9e318a454ee866",
       "version_major": 2,
       "version_minor": 0
      },
      "text/plain": [
       "Downloading [README.md]:   0%|          | 0.00/6.59k [00:00<?, ?B/s]"
      ]
     },
     "metadata": {},
     "output_type": "display_data"
    },
    {
     "data": {
      "application/vnd.jupyter.widget-view+json": {
       "model_id": "1b7a17a09bb0481d800b3a087780357e",
       "version_major": 2,
       "version_minor": 0
      },
      "text/plain": [
       "Downloading [README.md]:   0%|          | 0.00/6.59k [00:00<?, ?B/s]"
      ]
     },
     "metadata": {},
     "output_type": "display_data"
    },
    {
     "data": {
      "application/vnd.jupyter.widget-view+json": {
       "model_id": "dccca9568fd74774bb59e75a611b34d0",
       "version_major": 2,
       "version_minor": 0
      },
      "text/plain": [
       "Downloading [qwq-32b-q8_0-00008-of-00009.gguf]:   0%|          | 0.00/3.66G [00:00<?, ?B/s]"
      ]
     },
     "metadata": {},
     "output_type": "display_data"
    },
    {
     "data": {
      "application/vnd.jupyter.widget-view+json": {
       "model_id": "6b69710709944283bfcd2bc7dad55503",
       "version_major": 2,
       "version_minor": 0
      },
      "text/plain": [
       "Downloading [qwq-32b-q8_0-00009-of-00009.gguf]:   0%|          | 0.00/2.90G [00:00<?, ?B/s]"
      ]
     },
     "metadata": {},
     "output_type": "display_data"
    },
    {
     "data": {
      "application/vnd.jupyter.widget-view+json": {
       "model_id": "378489c8ea3f4df2b454358ffb64b45d",
       "version_major": 2,
       "version_minor": 0
      },
      "text/plain": [
       "Downloading [qwq-32b-q8_0.gguf]:   0%|          | 0.00/32.4G [00:00<?, ?B/s]"
      ]
     },
     "metadata": {},
     "output_type": "display_data"
    },
    {
     "data": {
      "application/vnd.jupyter.widget-view+json": {
       "model_id": "4ea9835e9d764726bb39a067bcb33276",
       "version_major": 2,
       "version_minor": 0
      },
      "text/plain": [
       "Downloading [README.md]:   0%|          | 0.00/6.59k [00:00<?, ?B/s]"
      ]
     },
     "metadata": {},
     "output_type": "display_data"
    },
    {
     "data": {
      "application/vnd.jupyter.widget-view+json": {
       "model_id": "c8e88333a44548478919548ea9f23958",
       "version_major": 2,
       "version_minor": 0
      },
      "text/plain": [
       "Downloading [qwq-32b-q8_0-00008-of-00009.gguf]:   0%|          | 0.00/3.66G [00:00<?, ?B/s]"
      ]
     },
     "metadata": {},
     "output_type": "display_data"
    },
    {
     "data": {
      "application/vnd.jupyter.widget-view+json": {
       "model_id": "eb2bd1ffdb6348faaf247abf13a4ff69",
       "version_major": 2,
       "version_minor": 0
      },
      "text/plain": [
       "Downloading [qwq-32b-q8_0-00009-of-00009.gguf]:   0%|          | 0.00/2.90G [00:00<?, ?B/s]"
      ]
     },
     "metadata": {},
     "output_type": "display_data"
    },
    {
     "data": {
      "application/vnd.jupyter.widget-view+json": {
       "model_id": "714fd2eb5d8346449b58b32aaace62e8",
       "version_major": 2,
       "version_minor": 0
      },
      "text/plain": [
       "Downloading [qwq-32b-q8_0.gguf]:   0%|          | 0.00/32.4G [00:00<?, ?B/s]"
      ]
     },
     "metadata": {},
     "output_type": "display_data"
    },
    {
     "data": {
      "application/vnd.jupyter.widget-view+json": {
       "model_id": "510cd2da68b04929be099e0a55f90c59",
       "version_major": 2,
       "version_minor": 0
      },
      "text/plain": [
       "Downloading [README.md]:   0%|          | 0.00/6.59k [00:00<?, ?B/s]"
      ]
     },
     "metadata": {},
     "output_type": "display_data"
    },
    {
     "data": {
      "application/vnd.jupyter.widget-view+json": {
       "model_id": "39185b02ae684c058be33816389c2bd2",
       "version_major": 2,
       "version_minor": 0
      },
      "text/plain": [
       "Downloading [qwq-32b-q8_0-00008-of-00009.gguf]:   0%|          | 0.00/3.66G [00:00<?, ?B/s]"
      ]
     },
     "metadata": {},
     "output_type": "display_data"
    },
    {
     "data": {
      "application/vnd.jupyter.widget-view+json": {
       "model_id": "3d28b1114f144d0a9752247fd8b0a6c3",
       "version_major": 2,
       "version_minor": 0
      },
      "text/plain": [
       "Downloading [qwq-32b-q8_0.gguf]:   0%|          | 0.00/32.4G [00:00<?, ?B/s]"
      ]
     },
     "metadata": {},
     "output_type": "display_data"
    },
    {
     "data": {
      "application/vnd.jupyter.widget-view+json": {
       "model_id": "6b06120d8d354458a67e9399b5279a41",
       "version_major": 2,
       "version_minor": 0
      },
      "text/plain": [
       "Downloading [qwq-32b-q8_0-00009-of-00009.gguf]:   0%|          | 0.00/2.90G [00:00<?, ?B/s]"
      ]
     },
     "metadata": {},
     "output_type": "display_data"
    },
    {
     "data": {
      "application/vnd.jupyter.widget-view+json": {
       "model_id": "0507818e9ffb4d66908834ce3216d279",
       "version_major": 2,
       "version_minor": 0
      },
      "text/plain": [
       "Downloading [README.md]:   0%|          | 0.00/6.59k [00:00<?, ?B/s]"
      ]
     },
     "metadata": {},
     "output_type": "display_data"
    },
    {
     "data": {
      "application/vnd.jupyter.widget-view+json": {
       "model_id": "74bff465b315410baf66763bec26d84a",
       "version_major": 2,
       "version_minor": 0
      },
      "text/plain": [
       "Downloading [qwq-32b-q8_0-00008-of-00009.gguf]:   0%|          | 0.00/3.66G [00:00<?, ?B/s]"
      ]
     },
     "metadata": {},
     "output_type": "display_data"
    },
    {
     "data": {
      "application/vnd.jupyter.widget-view+json": {
       "model_id": "fe7b00415b264d4d9f712408cd93980e",
       "version_major": 2,
       "version_minor": 0
      },
      "text/plain": [
       "Downloading [qwq-32b-q8_0.gguf]:   0%|          | 0.00/32.4G [00:00<?, ?B/s]"
      ]
     },
     "metadata": {},
     "output_type": "display_data"
    },
    {
     "data": {
      "application/vnd.jupyter.widget-view+json": {
       "model_id": "0ea68a87eea54f52bfab445ff66fd399",
       "version_major": 2,
       "version_minor": 0
      },
      "text/plain": [
       "Downloading [qwq-32b-q8_0-00009-of-00009.gguf]:   0%|          | 0.00/2.90G [00:00<?, ?B/s]"
      ]
     },
     "metadata": {},
     "output_type": "display_data"
    },
    {
     "ename": "MaxRetryError",
     "evalue": "None: Max retries exceeded with url: https://www.modelscope.cn/api/v1/models/Qwen/QwQ-32B-GGUF/repo?Revision=master&FilePath=qwq-32b-q5_0.gguf (Caused by OSError(28, 'No space left on device'))",
     "output_type": "error",
     "traceback": [
      "\u001b[0;31m---------------------------------------------------------------------------\u001b[0m",
      "\u001b[0;31mOSError\u001b[0m                                   Traceback (most recent call last)",
      "File \u001b[0;32m~/miniconda3/envs/unsloth_env/lib/python3.11/site-packages/modelscope/hub/file_download.py:565\u001b[0m, in \u001b[0;36mhttp_get_model_file\u001b[0;34m(url, local_dir, file_name, file_size, cookies, headers, disable_tqdm)\u001b[0m\n\u001b[1;32m    564\u001b[0m progress\u001b[38;5;241m.\u001b[39mupdate(\u001b[38;5;28mlen\u001b[39m(chunk))\n\u001b[0;32m--> 565\u001b[0m f\u001b[38;5;241m.\u001b[39mwrite(chunk)\n\u001b[1;32m    566\u001b[0m \u001b[38;5;66;03m# hash would be discarded in retry case anyway\u001b[39;00m\n",
      "\u001b[0;31mOSError\u001b[0m: [Errno 28] No space left on device",
      "\nThe above exception was the direct cause of the following exception:\n",
      "\u001b[0;31mMaxRetryError\u001b[0m                             Traceback (most recent call last)",
      "Cell \u001b[0;32mIn[1], line 9\u001b[0m\n\u001b[1;32m      6\u001b[0m load_in_4bit \u001b[38;5;241m=\u001b[39m \u001b[38;5;28;01mTrue\u001b[39;00m \n\u001b[1;32m      8\u001b[0m \u001b[38;5;66;03m#have： qwen/Qwen2-7B，\u001b[39;00m\n\u001b[0;32m----> 9\u001b[0m model_dir\u001b[38;5;241m=\u001b[39m\u001b[43msnapshot_download\u001b[49m\u001b[43m(\u001b[49m\u001b[38;5;124;43m\"\u001b[39;49m\u001b[38;5;124;43mQwen/QwQ-32B-GGUF\u001b[39;49m\u001b[38;5;124;43m\"\u001b[39;49m\u001b[43m,\u001b[49m\u001b[43m \u001b[49m\u001b[43mcache_dir\u001b[49m\u001b[38;5;241;43m=\u001b[39;49m\u001b[38;5;124;43m\"\u001b[39;49m\u001b[38;5;124;43m/home/juan/modelscope\u001b[39;49m\u001b[38;5;124;43m\"\u001b[39;49m\u001b[43m)\u001b[49m\n\u001b[1;32m     10\u001b[0m model, tokenizer \u001b[38;5;241m=\u001b[39m FastLanguageModel\u001b[38;5;241m.\u001b[39mfrom_pretrained(\n\u001b[1;32m     11\u001b[0m     model_name \u001b[38;5;241m=\u001b[39m model_dir, \n\u001b[1;32m     12\u001b[0m     max_seq_length \u001b[38;5;241m=\u001b[39m max_seq_length,\n\u001b[1;32m     13\u001b[0m     dtype \u001b[38;5;241m=\u001b[39m dtype,\n\u001b[1;32m     14\u001b[0m     load_in_4bit \u001b[38;5;241m=\u001b[39m load_in_4bit,\n\u001b[1;32m     15\u001b[0m )\n",
      "File \u001b[0;32m~/miniconda3/envs/unsloth_env/lib/python3.11/site-packages/modelscope/hub/snapshot_download.py:107\u001b[0m, in \u001b[0;36msnapshot_download\u001b[0;34m(model_id, revision, cache_dir, user_agent, local_files_only, cookies, ignore_file_pattern, allow_file_pattern, local_dir, allow_patterns, ignore_patterns, max_workers, repo_id, repo_type)\u001b[0m\n\u001b[1;32m    104\u001b[0m \u001b[38;5;28;01mif\u001b[39;00m revision \u001b[38;5;129;01mis\u001b[39;00m \u001b[38;5;28;01mNone\u001b[39;00m:\n\u001b[1;32m    105\u001b[0m     revision \u001b[38;5;241m=\u001b[39m DEFAULT_DATASET_REVISION \u001b[38;5;28;01mif\u001b[39;00m repo_type \u001b[38;5;241m==\u001b[39m REPO_TYPE_DATASET \u001b[38;5;28;01melse\u001b[39;00m DEFAULT_MODEL_REVISION\n\u001b[0;32m--> 107\u001b[0m \u001b[38;5;28;01mreturn\u001b[39;00m \u001b[43m_snapshot_download\u001b[49m\u001b[43m(\u001b[49m\n\u001b[1;32m    108\u001b[0m \u001b[43m    \u001b[49m\u001b[43mrepo_id\u001b[49m\u001b[43m,\u001b[49m\n\u001b[1;32m    109\u001b[0m \u001b[43m    \u001b[49m\u001b[43mrepo_type\u001b[49m\u001b[38;5;241;43m=\u001b[39;49m\u001b[43mrepo_type\u001b[49m\u001b[43m,\u001b[49m\n\u001b[1;32m    110\u001b[0m \u001b[43m    \u001b[49m\u001b[43mrevision\u001b[49m\u001b[38;5;241;43m=\u001b[39;49m\u001b[43mrevision\u001b[49m\u001b[43m,\u001b[49m\n\u001b[1;32m    111\u001b[0m \u001b[43m    \u001b[49m\u001b[43mcache_dir\u001b[49m\u001b[38;5;241;43m=\u001b[39;49m\u001b[43mcache_dir\u001b[49m\u001b[43m,\u001b[49m\n\u001b[1;32m    112\u001b[0m \u001b[43m    \u001b[49m\u001b[43muser_agent\u001b[49m\u001b[38;5;241;43m=\u001b[39;49m\u001b[43muser_agent\u001b[49m\u001b[43m,\u001b[49m\n\u001b[1;32m    113\u001b[0m \u001b[43m    \u001b[49m\u001b[43mlocal_files_only\u001b[49m\u001b[38;5;241;43m=\u001b[39;49m\u001b[43mlocal_files_only\u001b[49m\u001b[43m,\u001b[49m\n\u001b[1;32m    114\u001b[0m \u001b[43m    \u001b[49m\u001b[43mcookies\u001b[49m\u001b[38;5;241;43m=\u001b[39;49m\u001b[43mcookies\u001b[49m\u001b[43m,\u001b[49m\n\u001b[1;32m    115\u001b[0m \u001b[43m    \u001b[49m\u001b[43mignore_file_pattern\u001b[49m\u001b[38;5;241;43m=\u001b[39;49m\u001b[43mignore_file_pattern\u001b[49m\u001b[43m,\u001b[49m\n\u001b[1;32m    116\u001b[0m \u001b[43m    \u001b[49m\u001b[43mallow_file_pattern\u001b[49m\u001b[38;5;241;43m=\u001b[39;49m\u001b[43mallow_file_pattern\u001b[49m\u001b[43m,\u001b[49m\n\u001b[1;32m    117\u001b[0m \u001b[43m    \u001b[49m\u001b[43mlocal_dir\u001b[49m\u001b[38;5;241;43m=\u001b[39;49m\u001b[43mlocal_dir\u001b[49m\u001b[43m,\u001b[49m\n\u001b[1;32m    118\u001b[0m \u001b[43m    \u001b[49m\u001b[43mignore_patterns\u001b[49m\u001b[38;5;241;43m=\u001b[39;49m\u001b[43mignore_patterns\u001b[49m\u001b[43m,\u001b[49m\n\u001b[1;32m    119\u001b[0m \u001b[43m    \u001b[49m\u001b[43mallow_patterns\u001b[49m\u001b[38;5;241;43m=\u001b[39;49m\u001b[43mallow_patterns\u001b[49m\u001b[43m,\u001b[49m\n\u001b[1;32m    120\u001b[0m \u001b[43m    \u001b[49m\u001b[43mmax_workers\u001b[49m\u001b[38;5;241;43m=\u001b[39;49m\u001b[43mmax_workers\u001b[49m\u001b[43m)\u001b[49m\n",
      "File \u001b[0;32m~/miniconda3/envs/unsloth_env/lib/python3.11/site-packages/modelscope/hub/snapshot_download.py:278\u001b[0m, in \u001b[0;36m_snapshot_download\u001b[0;34m(repo_id, repo_type, revision, cache_dir, user_agent, local_files_only, cookies, ignore_file_pattern, allow_file_pattern, local_dir, allow_patterns, ignore_patterns, max_workers)\u001b[0m\n\u001b[1;32m    268\u001b[0m     snapshot_header[\n\u001b[1;32m    269\u001b[0m         \u001b[38;5;124m'\u001b[39m\u001b[38;5;124mcached_model_revision\u001b[39m\u001b[38;5;124m'\u001b[39m] \u001b[38;5;241m=\u001b[39m cache\u001b[38;5;241m.\u001b[39mcached_model_revision\n\u001b[1;32m    271\u001b[0m repo_files \u001b[38;5;241m=\u001b[39m _api\u001b[38;5;241m.\u001b[39mget_model_files(\n\u001b[1;32m    272\u001b[0m     model_id\u001b[38;5;241m=\u001b[39mrepo_id,\n\u001b[1;32m    273\u001b[0m     revision\u001b[38;5;241m=\u001b[39mrevision,\n\u001b[0;32m   (...)\u001b[0m\n\u001b[1;32m    276\u001b[0m     headers\u001b[38;5;241m=\u001b[39msnapshot_header,\n\u001b[1;32m    277\u001b[0m )\n\u001b[0;32m--> 278\u001b[0m \u001b[43m_download_file_lists\u001b[49m\u001b[43m(\u001b[49m\n\u001b[1;32m    279\u001b[0m \u001b[43m    \u001b[49m\u001b[43mrepo_files\u001b[49m\u001b[43m,\u001b[49m\n\u001b[1;32m    280\u001b[0m \u001b[43m    \u001b[49m\u001b[43mcache\u001b[49m\u001b[43m,\u001b[49m\n\u001b[1;32m    281\u001b[0m \u001b[43m    \u001b[49m\u001b[43mtemporary_cache_dir\u001b[49m\u001b[43m,\u001b[49m\n\u001b[1;32m    282\u001b[0m \u001b[43m    \u001b[49m\u001b[43mrepo_id\u001b[49m\u001b[43m,\u001b[49m\n\u001b[1;32m    283\u001b[0m \u001b[43m    \u001b[49m\u001b[43m_api\u001b[49m\u001b[43m,\u001b[49m\n\u001b[1;32m    284\u001b[0m \u001b[43m    \u001b[49m\u001b[38;5;28;43;01mNone\u001b[39;49;00m\u001b[43m,\u001b[49m\n\u001b[1;32m    285\u001b[0m \u001b[43m    \u001b[49m\u001b[38;5;28;43;01mNone\u001b[39;49;00m\u001b[43m,\u001b[49m\n\u001b[1;32m    286\u001b[0m \u001b[43m    \u001b[49m\u001b[43mheaders\u001b[49m\u001b[43m,\u001b[49m\n\u001b[1;32m    287\u001b[0m \u001b[43m    \u001b[49m\u001b[43mrepo_type\u001b[49m\u001b[38;5;241;43m=\u001b[39;49m\u001b[43mrepo_type\u001b[49m\u001b[43m,\u001b[49m\n\u001b[1;32m    288\u001b[0m \u001b[43m    \u001b[49m\u001b[43mrevision\u001b[49m\u001b[38;5;241;43m=\u001b[39;49m\u001b[43mrevision\u001b[49m\u001b[43m,\u001b[49m\n\u001b[1;32m    289\u001b[0m \u001b[43m    \u001b[49m\u001b[43mcookies\u001b[49m\u001b[38;5;241;43m=\u001b[39;49m\u001b[43mcookies\u001b[49m\u001b[43m,\u001b[49m\n\u001b[1;32m    290\u001b[0m \u001b[43m    \u001b[49m\u001b[43mignore_file_pattern\u001b[49m\u001b[38;5;241;43m=\u001b[39;49m\u001b[43mignore_file_pattern\u001b[49m\u001b[43m,\u001b[49m\n\u001b[1;32m    291\u001b[0m \u001b[43m    \u001b[49m\u001b[43mallow_file_pattern\u001b[49m\u001b[38;5;241;43m=\u001b[39;49m\u001b[43mallow_file_pattern\u001b[49m\u001b[43m,\u001b[49m\n\u001b[1;32m    292\u001b[0m \u001b[43m    \u001b[49m\u001b[43mignore_patterns\u001b[49m\u001b[38;5;241;43m=\u001b[39;49m\u001b[43mignore_patterns\u001b[49m\u001b[43m,\u001b[49m\n\u001b[1;32m    293\u001b[0m \u001b[43m    \u001b[49m\u001b[43mallow_patterns\u001b[49m\u001b[38;5;241;43m=\u001b[39;49m\u001b[43mallow_patterns\u001b[49m\u001b[43m,\u001b[49m\n\u001b[1;32m    294\u001b[0m \u001b[43m    \u001b[49m\u001b[43mmax_workers\u001b[49m\u001b[38;5;241;43m=\u001b[39;49m\u001b[43mmax_workers\u001b[49m\u001b[43m)\u001b[49m\n\u001b[1;32m    295\u001b[0m \u001b[38;5;28;01mif\u001b[39;00m \u001b[38;5;124m'\u001b[39m\u001b[38;5;124m.\u001b[39m\u001b[38;5;124m'\u001b[39m \u001b[38;5;129;01min\u001b[39;00m repo_id:\n\u001b[1;32m    296\u001b[0m     masked_directory \u001b[38;5;241m=\u001b[39m get_model_masked_directory(\n\u001b[1;32m    297\u001b[0m         directory, repo_id)\n",
      "File \u001b[0;32m~/miniconda3/envs/unsloth_env/lib/python3.11/site-packages/modelscope/hub/snapshot_download.py:520\u001b[0m, in \u001b[0;36m_download_file_lists\u001b[0;34m(repo_files, cache, temporary_cache_dir, repo_id, api, name, group_or_owner, headers, repo_type, revision, cookies, ignore_file_pattern, allow_file_pattern, allow_patterns, ignore_patterns, max_workers)\u001b[0m\n\u001b[1;32m    517\u001b[0m \u001b[38;5;28;01mif\u001b[39;00m \u001b[38;5;28mlen\u001b[39m(filtered_repo_files) \u001b[38;5;241m>\u001b[39m \u001b[38;5;241m0\u001b[39m:\n\u001b[1;32m    518\u001b[0m     logger\u001b[38;5;241m.\u001b[39minfo(\n\u001b[1;32m    519\u001b[0m         \u001b[38;5;124mf\u001b[39m\u001b[38;5;124m'\u001b[39m\u001b[38;5;124mGot \u001b[39m\u001b[38;5;132;01m{\u001b[39;00m\u001b[38;5;28mlen\u001b[39m(filtered_repo_files)\u001b[38;5;132;01m}\u001b[39;00m\u001b[38;5;124m files, start to download ...\u001b[39m\u001b[38;5;124m'\u001b[39m)\n\u001b[0;32m--> 520\u001b[0m     \u001b[43m_download_single_file\u001b[49m\u001b[43m(\u001b[49m\u001b[43mfiltered_repo_files\u001b[49m\u001b[43m)\u001b[49m\n\u001b[1;32m    521\u001b[0m     logger\u001b[38;5;241m.\u001b[39minfo(\u001b[38;5;124mf\u001b[39m\u001b[38;5;124m\"\u001b[39m\u001b[38;5;124mDownload \u001b[39m\u001b[38;5;132;01m{\u001b[39;00mrepo_type\u001b[38;5;132;01m}\u001b[39;00m\u001b[38;5;124m \u001b[39m\u001b[38;5;124m'\u001b[39m\u001b[38;5;132;01m{\u001b[39;00mrepo_id\u001b[38;5;132;01m}\u001b[39;00m\u001b[38;5;124m'\u001b[39m\u001b[38;5;124m successfully.\u001b[39m\u001b[38;5;124m\"\u001b[39m)\n",
      "File \u001b[0;32m~/miniconda3/envs/unsloth_env/lib/python3.11/site-packages/modelscope/utils/thread_utils.py:66\u001b[0m, in \u001b[0;36mthread_executor.<locals>.decorator.<locals>.wrapper\u001b[0;34m(iterable, *args, **kwargs)\u001b[0m\n\u001b[1;32m     64\u001b[0m         \u001b[38;5;28;01mfor\u001b[39;00m future \u001b[38;5;129;01min\u001b[39;00m as_completed(futures):\n\u001b[1;32m     65\u001b[0m             pbar\u001b[38;5;241m.\u001b[39mupdate(\u001b[38;5;241m1\u001b[39m)\n\u001b[0;32m---> 66\u001b[0m             results\u001b[38;5;241m.\u001b[39mappend(\u001b[43mfuture\u001b[49m\u001b[38;5;241;43m.\u001b[39;49m\u001b[43mresult\u001b[49m\u001b[43m(\u001b[49m\u001b[43m)\u001b[49m)\n\u001b[1;32m     67\u001b[0m \u001b[38;5;28;01mreturn\u001b[39;00m results\n",
      "File \u001b[0;32m~/miniconda3/envs/unsloth_env/lib/python3.11/concurrent/futures/_base.py:449\u001b[0m, in \u001b[0;36mFuture.result\u001b[0;34m(self, timeout)\u001b[0m\n\u001b[1;32m    447\u001b[0m     \u001b[38;5;28;01mraise\u001b[39;00m CancelledError()\n\u001b[1;32m    448\u001b[0m \u001b[38;5;28;01melif\u001b[39;00m \u001b[38;5;28mself\u001b[39m\u001b[38;5;241m.\u001b[39m_state \u001b[38;5;241m==\u001b[39m FINISHED:\n\u001b[0;32m--> 449\u001b[0m     \u001b[38;5;28;01mreturn\u001b[39;00m \u001b[38;5;28;43mself\u001b[39;49m\u001b[38;5;241;43m.\u001b[39;49m\u001b[43m__get_result\u001b[49m\u001b[43m(\u001b[49m\u001b[43m)\u001b[49m\n\u001b[1;32m    451\u001b[0m \u001b[38;5;28mself\u001b[39m\u001b[38;5;241m.\u001b[39m_condition\u001b[38;5;241m.\u001b[39mwait(timeout)\n\u001b[1;32m    453\u001b[0m \u001b[38;5;28;01mif\u001b[39;00m \u001b[38;5;28mself\u001b[39m\u001b[38;5;241m.\u001b[39m_state \u001b[38;5;129;01min\u001b[39;00m [CANCELLED, CANCELLED_AND_NOTIFIED]:\n",
      "File \u001b[0;32m~/miniconda3/envs/unsloth_env/lib/python3.11/concurrent/futures/_base.py:401\u001b[0m, in \u001b[0;36mFuture.__get_result\u001b[0;34m(self)\u001b[0m\n\u001b[1;32m    399\u001b[0m \u001b[38;5;28;01mif\u001b[39;00m \u001b[38;5;28mself\u001b[39m\u001b[38;5;241m.\u001b[39m_exception:\n\u001b[1;32m    400\u001b[0m     \u001b[38;5;28;01mtry\u001b[39;00m:\n\u001b[0;32m--> 401\u001b[0m         \u001b[38;5;28;01mraise\u001b[39;00m \u001b[38;5;28mself\u001b[39m\u001b[38;5;241m.\u001b[39m_exception\n\u001b[1;32m    402\u001b[0m     \u001b[38;5;28;01mfinally\u001b[39;00m:\n\u001b[1;32m    403\u001b[0m         \u001b[38;5;66;03m# Break a reference cycle with the exception in self._exception\u001b[39;00m\n\u001b[1;32m    404\u001b[0m         \u001b[38;5;28mself\u001b[39m \u001b[38;5;241m=\u001b[39m \u001b[38;5;28;01mNone\u001b[39;00m\n",
      "File \u001b[0;32m~/miniconda3/envs/unsloth_env/lib/python3.11/concurrent/futures/thread.py:58\u001b[0m, in \u001b[0;36m_WorkItem.run\u001b[0;34m(self)\u001b[0m\n\u001b[1;32m     55\u001b[0m     \u001b[38;5;28;01mreturn\u001b[39;00m\n\u001b[1;32m     57\u001b[0m \u001b[38;5;28;01mtry\u001b[39;00m:\n\u001b[0;32m---> 58\u001b[0m     result \u001b[38;5;241m=\u001b[39m \u001b[38;5;28;43mself\u001b[39;49m\u001b[38;5;241;43m.\u001b[39;49m\u001b[43mfn\u001b[49m\u001b[43m(\u001b[49m\u001b[38;5;241;43m*\u001b[39;49m\u001b[38;5;28;43mself\u001b[39;49m\u001b[38;5;241;43m.\u001b[39;49m\u001b[43margs\u001b[49m\u001b[43m,\u001b[49m\u001b[43m \u001b[49m\u001b[38;5;241;43m*\u001b[39;49m\u001b[38;5;241;43m*\u001b[39;49m\u001b[38;5;28;43mself\u001b[39;49m\u001b[38;5;241;43m.\u001b[39;49m\u001b[43mkwargs\u001b[49m\u001b[43m)\u001b[49m\n\u001b[1;32m     59\u001b[0m \u001b[38;5;28;01mexcept\u001b[39;00m \u001b[38;5;167;01mBaseException\u001b[39;00m \u001b[38;5;28;01mas\u001b[39;00m exc:\n\u001b[1;32m     60\u001b[0m     \u001b[38;5;28mself\u001b[39m\u001b[38;5;241m.\u001b[39mfuture\u001b[38;5;241m.\u001b[39mset_exception(exc)\n",
      "File \u001b[0;32m~/miniconda3/envs/unsloth_env/lib/python3.11/site-packages/modelscope/hub/snapshot_download.py:507\u001b[0m, in \u001b[0;36m_download_file_lists.<locals>._download_single_file\u001b[0;34m(repo_file)\u001b[0m\n\u001b[1;32m    502\u001b[0m \u001b[38;5;28;01melse\u001b[39;00m:\n\u001b[1;32m    503\u001b[0m     \u001b[38;5;28;01mraise\u001b[39;00m InvalidParameter(\n\u001b[1;32m    504\u001b[0m         \u001b[38;5;124mf\u001b[39m\u001b[38;5;124m'\u001b[39m\u001b[38;5;124mInvalid repo type: \u001b[39m\u001b[38;5;132;01m{\u001b[39;00mrepo_type\u001b[38;5;132;01m}\u001b[39;00m\u001b[38;5;124m, supported types: \u001b[39m\u001b[38;5;132;01m{\u001b[39;00mREPO_TYPE_SUPPORT\u001b[38;5;132;01m}\u001b[39;00m\u001b[38;5;124m'\u001b[39m\n\u001b[1;32m    505\u001b[0m     )\n\u001b[0;32m--> 507\u001b[0m \u001b[43mdownload_file\u001b[49m\u001b[43m(\u001b[49m\n\u001b[1;32m    508\u001b[0m \u001b[43m    \u001b[49m\u001b[43murl\u001b[49m\u001b[43m,\u001b[49m\n\u001b[1;32m    509\u001b[0m \u001b[43m    \u001b[49m\u001b[43mrepo_file\u001b[49m\u001b[43m,\u001b[49m\n\u001b[1;32m    510\u001b[0m \u001b[43m    \u001b[49m\u001b[43mtemporary_cache_dir\u001b[49m\u001b[43m,\u001b[49m\n\u001b[1;32m    511\u001b[0m \u001b[43m    \u001b[49m\u001b[43mcache\u001b[49m\u001b[43m,\u001b[49m\n\u001b[1;32m    512\u001b[0m \u001b[43m    \u001b[49m\u001b[43mheaders\u001b[49m\u001b[43m,\u001b[49m\n\u001b[1;32m    513\u001b[0m \u001b[43m    \u001b[49m\u001b[43mcookies\u001b[49m\u001b[43m,\u001b[49m\n\u001b[1;32m    514\u001b[0m \u001b[43m    \u001b[49m\u001b[43mdisable_tqdm\u001b[49m\u001b[38;5;241;43m=\u001b[39;49m\u001b[38;5;28;43;01mFalse\u001b[39;49;00m\u001b[43m,\u001b[49m\n\u001b[1;32m    515\u001b[0m \u001b[43m\u001b[49m\u001b[43m)\u001b[49m\n",
      "File \u001b[0;32m~/miniconda3/envs/unsloth_env/lib/python3.11/site-packages/modelscope/hub/file_download.py:681\u001b[0m, in \u001b[0;36mdownload_file\u001b[0;34m(url, file_meta, temporary_cache_dir, cache, headers, cookies, disable_tqdm)\u001b[0m\n\u001b[1;32m    671\u001b[0m     file_digest \u001b[38;5;241m=\u001b[39m parallel_download(\n\u001b[1;32m    672\u001b[0m         url,\n\u001b[1;32m    673\u001b[0m         temporary_cache_dir,\n\u001b[0;32m   (...)\u001b[0m\n\u001b[1;32m    678\u001b[0m         disable_tqdm\u001b[38;5;241m=\u001b[39mdisable_tqdm,\n\u001b[1;32m    679\u001b[0m     )\n\u001b[1;32m    680\u001b[0m \u001b[38;5;28;01melse\u001b[39;00m:\n\u001b[0;32m--> 681\u001b[0m     file_digest \u001b[38;5;241m=\u001b[39m \u001b[43mhttp_get_model_file\u001b[49m\u001b[43m(\u001b[49m\n\u001b[1;32m    682\u001b[0m \u001b[43m        \u001b[49m\u001b[43murl\u001b[49m\u001b[43m,\u001b[49m\n\u001b[1;32m    683\u001b[0m \u001b[43m        \u001b[49m\u001b[43mtemporary_cache_dir\u001b[49m\u001b[43m,\u001b[49m\n\u001b[1;32m    684\u001b[0m \u001b[43m        \u001b[49m\u001b[43mfile_meta\u001b[49m\u001b[43m[\u001b[49m\u001b[38;5;124;43m'\u001b[39;49m\u001b[38;5;124;43mPath\u001b[39;49m\u001b[38;5;124;43m'\u001b[39;49m\u001b[43m]\u001b[49m\u001b[43m,\u001b[49m\n\u001b[1;32m    685\u001b[0m \u001b[43m        \u001b[49m\u001b[43mfile_size\u001b[49m\u001b[38;5;241;43m=\u001b[39;49m\u001b[43mfile_meta\u001b[49m\u001b[43m[\u001b[49m\u001b[38;5;124;43m'\u001b[39;49m\u001b[38;5;124;43mSize\u001b[39;49m\u001b[38;5;124;43m'\u001b[39;49m\u001b[43m]\u001b[49m\u001b[43m,\u001b[49m\n\u001b[1;32m    686\u001b[0m \u001b[43m        \u001b[49m\u001b[43mheaders\u001b[49m\u001b[38;5;241;43m=\u001b[39;49m\u001b[43mheaders\u001b[49m\u001b[43m,\u001b[49m\n\u001b[1;32m    687\u001b[0m \u001b[43m        \u001b[49m\u001b[43mcookies\u001b[49m\u001b[38;5;241;43m=\u001b[39;49m\u001b[43mcookies\u001b[49m\u001b[43m,\u001b[49m\n\u001b[1;32m    688\u001b[0m \u001b[43m        \u001b[49m\u001b[43mdisable_tqdm\u001b[49m\u001b[38;5;241;43m=\u001b[39;49m\u001b[43mdisable_tqdm\u001b[49m\u001b[43m,\u001b[49m\n\u001b[1;32m    689\u001b[0m \u001b[43m    \u001b[49m\u001b[43m)\u001b[49m\n\u001b[1;32m    691\u001b[0m \u001b[38;5;66;03m# check file integrity\u001b[39;00m\n\u001b[1;32m    692\u001b[0m temp_file \u001b[38;5;241m=\u001b[39m os\u001b[38;5;241m.\u001b[39mpath\u001b[38;5;241m.\u001b[39mjoin(temporary_cache_dir, file_meta[\u001b[38;5;124m'\u001b[39m\u001b[38;5;124mPath\u001b[39m\u001b[38;5;124m'\u001b[39m])\n",
      "File \u001b[0;32m~/miniconda3/envs/unsloth_env/lib/python3.11/site-packages/modelscope/hub/file_download.py:572\u001b[0m, in \u001b[0;36mhttp_get_model_file\u001b[0;34m(url, local_dir, file_name, file_size, cookies, headers, disable_tqdm)\u001b[0m\n\u001b[1;32m    570\u001b[0m     \u001b[38;5;28;01mexcept\u001b[39;00m \u001b[38;5;167;01mException\u001b[39;00m \u001b[38;5;28;01mas\u001b[39;00m e:  \u001b[38;5;66;03m# no matter what happen, we will retry.\u001b[39;00m\n\u001b[1;32m    571\u001b[0m         has_retry \u001b[38;5;241m=\u001b[39m \u001b[38;5;28;01mTrue\u001b[39;00m\n\u001b[0;32m--> 572\u001b[0m         retry \u001b[38;5;241m=\u001b[39m \u001b[43mretry\u001b[49m\u001b[38;5;241;43m.\u001b[39;49m\u001b[43mincrement\u001b[49m\u001b[43m(\u001b[49m\u001b[38;5;124;43m'\u001b[39;49m\u001b[38;5;124;43mGET\u001b[39;49m\u001b[38;5;124;43m'\u001b[39;49m\u001b[43m,\u001b[49m\u001b[43m \u001b[49m\u001b[43murl\u001b[49m\u001b[43m,\u001b[49m\u001b[43m \u001b[49m\u001b[43merror\u001b[49m\u001b[38;5;241;43m=\u001b[39;49m\u001b[43me\u001b[49m\u001b[43m)\u001b[49m\n\u001b[1;32m    573\u001b[0m         retry\u001b[38;5;241m.\u001b[39msleep()\n\u001b[1;32m    574\u001b[0m \u001b[38;5;66;03m# if anything went wrong, we would discard the real-time computed hash and return None\u001b[39;00m\n",
      "File \u001b[0;32m~/miniconda3/envs/unsloth_env/lib/python3.11/site-packages/urllib3/util/retry.py:519\u001b[0m, in \u001b[0;36mRetry.increment\u001b[0;34m(self, method, url, response, error, _pool, _stacktrace)\u001b[0m\n\u001b[1;32m    517\u001b[0m \u001b[38;5;28;01mif\u001b[39;00m new_retry\u001b[38;5;241m.\u001b[39mis_exhausted():\n\u001b[1;32m    518\u001b[0m     reason \u001b[38;5;241m=\u001b[39m error \u001b[38;5;129;01mor\u001b[39;00m ResponseError(cause)\n\u001b[0;32m--> 519\u001b[0m     \u001b[38;5;28;01mraise\u001b[39;00m MaxRetryError(_pool, url, reason) \u001b[38;5;28;01mfrom\u001b[39;00m\u001b[38;5;250m \u001b[39m\u001b[38;5;21;01mreason\u001b[39;00m  \u001b[38;5;66;03m# type: ignore[arg-type]\u001b[39;00m\n\u001b[1;32m    521\u001b[0m log\u001b[38;5;241m.\u001b[39mdebug(\u001b[38;5;124m\"\u001b[39m\u001b[38;5;124mIncremented Retry for (url=\u001b[39m\u001b[38;5;124m'\u001b[39m\u001b[38;5;132;01m%s\u001b[39;00m\u001b[38;5;124m'\u001b[39m\u001b[38;5;124m): \u001b[39m\u001b[38;5;132;01m%r\u001b[39;00m\u001b[38;5;124m\"\u001b[39m, url, new_retry)\n\u001b[1;32m    523\u001b[0m \u001b[38;5;28;01mreturn\u001b[39;00m new_retry\n",
      "\u001b[0;31mMaxRetryError\u001b[0m: None: Max retries exceeded with url: https://www.modelscope.cn/api/v1/models/Qwen/QwQ-32B-GGUF/repo?Revision=master&FilePath=qwq-32b-q5_0.gguf (Caused by OSError(28, 'No space left on device'))"
     ]
    },
    {
     "ename": "",
     "evalue": "",
     "output_type": "error",
     "traceback": [
      "\u001b[1;31mThe Kernel crashed while executing code in the current cell or a previous cell. \n",
      "\u001b[1;31mPlease review the code in the cell(s) to identify a possible cause of the failure. \n",
      "\u001b[1;31mClick <a href='https://aka.ms/vscodeJupyterKernelCrash'>here</a> for more info. \n",
      "\u001b[1;31mView Jupyter <a href='command:jupyter.viewOutput'>log</a> for further details."
     ]
    }
   ],
   "source": [
    "from unsloth import FastLanguageModel\n",
    "import torch\n",
    "from modelscope import snapshot_download\n",
    "max_seq_length = 2048 \n",
    "dtype = torch.bfloat16\n",
    "load_in_4bit = True \n",
    "\n",
    "#have： qwen/Qwen2-7B，\n",
    "model_dir=snapshot_download(\"Qwen/QwQ-32B-GGUF\", cache_dir=\"/home/juan/modelscope\")\n",
    "model, tokenizer = FastLanguageModel.from_pretrained(\n",
    "    model_name = model_dir, \n",
    "    max_seq_length = max_seq_length,\n",
    "    dtype = dtype,\n",
    "    load_in_4bit = load_in_4bit,\n",
    ")"
   ]
  },
  {
   "cell_type": "code",
   "execution_count": 3,
   "metadata": {},
   "outputs": [
    {
     "name": "stderr",
     "output_type": "stream",
     "text": [
      "Unsloth 2025.3.5 patched 28 layers with 28 QKV layers, 28 O layers and 28 MLP layers.\n"
     ]
    }
   ],
   "source": [
    "model = FastLanguageModel.get_peft_model(\n",
    "    model,\n",
    "    r = 16, # Choose any number > 0 ! Suggested 8, 16, 32, 64, 128\n",
    "    target_modules = [\"q_proj\", \"k_proj\", \"v_proj\", \"o_proj\",\n",
    "                      \"gate_proj\", \"up_proj\", \"down_proj\",],\n",
    "    lora_alpha = 16, # Choose any number > 0 ! Suggested 8, 16, 32, 64, 128\n",
    "    lora_dropout = 0, # Supports any, but = 0 is optimized\n",
    "    bias = \"none\",    # Supports any, but = \"none\" is optimized\n",
    "    # [NEW] \"unsloth\" uses 30% less VRAM, fits 2x larger batch sizes!\n",
    "    use_gradient_checkpointing = \"unsloth\", # True or \"unsloth\" for very long context\n",
    "    random_state = 3407,\n",
    "    use_rslora = False,  # We support rank stabilized LoRA\n",
    "    loftq_config = None, # And LoftQ\n",
    ")"
   ]
  },
  {
   "cell_type": "code",
   "execution_count": 7,
   "metadata": {},
   "outputs": [
    {
     "name": "stderr",
     "output_type": "stream",
     "text": [
      "2025-03-07 12:03:49,266 - modelscope - WARNING - Use trust_remote_code=True. Will invoke codes from gsm8k. Please make sure that you can trust the external codes.\n",
      "2025-03-07 12:03:49,267 - modelscope - WARNING - Use trust_remote_code=True. Will invoke codes from gsm8k. Please make sure that you can trust the external codes.\n"
     ]
    }
   ],
   "source": [
    "from unsloth.chat_templates import get_chat_template\n",
    "from modelscope.msdatasets import MsDataset\n",
    "\n",
    "tokenizer = get_chat_template(\n",
    "    tokenizer,\n",
    "    chat_template = \"chatml\", # Supports zephyr, chatml, mistral, llama, alpaca, vicuna, vicuna_old, unsloth\n",
    "    mapping = {\"role\" : \"from\", \"content\" : \"value\", \"user\" : \"human\", \"assistant\" : \"gpt\"}, # ShareGPT style\n",
    ")\n",
    "\n",
    "def formatting_prompts_func(examples):\n",
    "    convos = examples[\"conversations\"]\n",
    "    texts = [tokenizer.apply_chat_template(convo, tokenize = False, add_generation_prompt = False) for convo in convos]\n",
    "    return { \"text\" : texts, }\n",
    "pass\n",
    "\n",
    "\n",
    "dataset =  MsDataset.load('openai-mirror/gsm8k', split = \"train\")\n"
   ]
  },
  {
   "cell_type": "code",
   "execution_count": 11,
   "metadata": {},
   "outputs": [
    {
     "name": "stdout",
     "output_type": "stream",
     "text": [
      "Ken created a care package to send to his brother, who was away at boarding school.  Ken placed a box on a scale, and then he poured into the box enough jelly beans to bring the weight to 2 pounds.  Then, he added enough brownies to cause the weight to triple.  Next, he added another 2 pounds of jelly beans.  And finally, he added enough gummy worms to double the weight once again.  What was the final weight of the box of goodies, in pounds?\n"
     ]
    },
    {
     "data": {
      "text/plain": [
       "'To the initial 2 pounds of jelly beans, he added enough brownies to cause the weight to triple, bringing the weight to 2*3=<<2*3=6>>6 pounds.\\nNext, he added another 2 pounds of jelly beans, bringing the weight to 6+2=<<6+2=8>>8 pounds.\\nAnd finally, he added enough gummy worms to double the weight once again, to a final weight of 8*2=<<8*2=16>>16 pounds.\\n#### 16'"
      ]
     },
     "execution_count": 11,
     "metadata": {},
     "output_type": "execute_result"
    }
   ],
   "source": [
    "print(dataset[7][\"question\"])\n",
    "dataset[7][\"answer\"]"
   ]
  },
  {
   "cell_type": "code",
   "execution_count": null,
   "metadata": {},
   "outputs": [
    {
     "data": {
      "application/vnd.jupyter.widget-view+json": {
       "model_id": "ad17f9a0ddc944b3a3f88bb3d0e280ad",
       "version_major": 2,
       "version_minor": 0
      },
      "text/plain": [
       "Converting train dataset to ChatML (num_proc=2):   0%|          | 0/9033 [00:00<?, ? examples/s]"
      ]
     },
     "metadata": {},
     "output_type": "display_data"
    },
    {
     "data": {
      "application/vnd.jupyter.widget-view+json": {
       "model_id": "2c5880b3102d454ab9b2f67b4a2b9e55",
       "version_major": 2,
       "version_minor": 0
      },
      "text/plain": [
       "Applying chat template to train dataset (num_proc=2):   0%|          | 0/9033 [00:00<?, ? examples/s]"
      ]
     },
     "metadata": {},
     "output_type": "display_data"
    },
    {
     "data": {
      "application/vnd.jupyter.widget-view+json": {
       "model_id": "afddbffe48144ebe87b28e01b8f08083",
       "version_major": 2,
       "version_minor": 0
      },
      "text/plain": [
       "Tokenizing train dataset (num_proc=2):   0%|          | 0/9033 [00:00<?, ? examples/s]"
      ]
     },
     "metadata": {},
     "output_type": "display_data"
    },
    {
     "data": {
      "application/vnd.jupyter.widget-view+json": {
       "model_id": "fa6fa8b271a9429d9edbf92b54c88cc4",
       "version_major": 2,
       "version_minor": 0
      },
      "text/plain": [
       "Truncating train dataset (num_proc=2):   0%|          | 0/9033 [00:00<?, ? examples/s]"
      ]
     },
     "metadata": {},
     "output_type": "display_data"
    }
   ],
   "source": [
    "from trl import SFTTrainer\n",
    "from transformers import TrainingArguments\n",
    "from unsloth import is_bfloat16_supported\n",
    "\n",
    "trainer = SFTTrainer(\n",
    "    model = model,\n",
    "    tokenizer = tokenizer,\n",
    "    train_dataset = dataset,\n",
    "    dataset_text_field = \"text\",\n",
    "    max_seq_length = max_seq_length,\n",
    "    dataset_num_proc = 2,\n",
    "    packing = False, # Can make training 5x faster for short sequences.\n",
    "    args = TrainingArguments(\n",
    "        per_device_train_batch_size = 2,\n",
    "        gradient_accumulation_steps = 4,\n",
    "        warmup_steps = 5,\n",
    "        max_steps = 60,# num_train_epochs = 1,\n",
    "        learning_rate = 2e-4,\n",
    "        fp16 = not is_bfloat16_supported(),\n",
    "        bf16 = is_bfloat16_supported(),\n",
    "        logging_steps = 1,\n",
    "        optim = \"adamw_8bit\",\n",
    "        weight_decay = 0.01,\n",
    "        lr_scheduler_type = \"linear\",\n",
    "        seed = 3407,\n",
    "        output_dir = \"outputs\",\n",
    "    ),\n",
    ")"
   ]
  },
  {
   "cell_type": "code",
   "execution_count": 9,
   "metadata": {},
   "outputs": [
    {
     "name": "stderr",
     "output_type": "stream",
     "text": [
      "==((====))==  Unsloth - 2x faster free finetuning | Num GPUs = 1\n",
      "   \\\\   /|    Num examples = 9,033 | Num Epochs = 1\n",
      "O^O/ \\_/ \\    Batch size per device = 2 | Gradient Accumulation steps = 4\n",
      "\\        /    Total batch size = 8 | Total steps = 60\n",
      " \"-____-\"     Number of trainable parameters = 40,370,176\n"
     ]
    },
    {
     "data": {
      "text/html": [
       "\n",
       "    <div>\n",
       "      \n",
       "      <progress value='60' max='60' style='width:300px; height:20px; vertical-align: middle;'></progress>\n",
       "      [60/60 01:59, Epoch 0/1]\n",
       "    </div>\n",
       "    <table border=\"1\" class=\"dataframe\">\n",
       "  <thead>\n",
       " <tr style=\"text-align: left;\">\n",
       "      <th>Step</th>\n",
       "      <th>Training Loss</th>\n",
       "    </tr>\n",
       "  </thead>\n",
       "  <tbody>\n",
       "    <tr>\n",
       "      <td>1</td>\n",
       "      <td>1.831500</td>\n",
       "    </tr>\n",
       "    <tr>\n",
       "      <td>2</td>\n",
       "      <td>1.271700</td>\n",
       "    </tr>\n",
       "    <tr>\n",
       "      <td>3</td>\n",
       "      <td>1.189600</td>\n",
       "    </tr>\n",
       "    <tr>\n",
       "      <td>4</td>\n",
       "      <td>1.392300</td>\n",
       "    </tr>\n",
       "    <tr>\n",
       "      <td>5</td>\n",
       "      <td>1.165000</td>\n",
       "    </tr>\n",
       "    <tr>\n",
       "      <td>6</td>\n",
       "      <td>1.242700</td>\n",
       "    </tr>\n",
       "    <tr>\n",
       "      <td>7</td>\n",
       "      <td>1.007300</td>\n",
       "    </tr>\n",
       "    <tr>\n",
       "      <td>8</td>\n",
       "      <td>1.404600</td>\n",
       "    </tr>\n",
       "    <tr>\n",
       "      <td>9</td>\n",
       "      <td>1.455800</td>\n",
       "    </tr>\n",
       "    <tr>\n",
       "      <td>10</td>\n",
       "      <td>1.195800</td>\n",
       "    </tr>\n",
       "    <tr>\n",
       "      <td>11</td>\n",
       "      <td>1.232900</td>\n",
       "    </tr>\n",
       "    <tr>\n",
       "      <td>12</td>\n",
       "      <td>1.135000</td>\n",
       "    </tr>\n",
       "    <tr>\n",
       "      <td>13</td>\n",
       "      <td>1.300700</td>\n",
       "    </tr>\n",
       "    <tr>\n",
       "      <td>14</td>\n",
       "      <td>1.370800</td>\n",
       "    </tr>\n",
       "    <tr>\n",
       "      <td>15</td>\n",
       "      <td>1.114600</td>\n",
       "    </tr>\n",
       "    <tr>\n",
       "      <td>16</td>\n",
       "      <td>0.875000</td>\n",
       "    </tr>\n",
       "    <tr>\n",
       "      <td>17</td>\n",
       "      <td>0.952000</td>\n",
       "    </tr>\n",
       "    <tr>\n",
       "      <td>18</td>\n",
       "      <td>0.873300</td>\n",
       "    </tr>\n",
       "    <tr>\n",
       "      <td>19</td>\n",
       "      <td>1.092700</td>\n",
       "    </tr>\n",
       "    <tr>\n",
       "      <td>20</td>\n",
       "      <td>1.270400</td>\n",
       "    </tr>\n",
       "    <tr>\n",
       "      <td>21</td>\n",
       "      <td>1.062700</td>\n",
       "    </tr>\n",
       "    <tr>\n",
       "      <td>22</td>\n",
       "      <td>1.053600</td>\n",
       "    </tr>\n",
       "    <tr>\n",
       "      <td>23</td>\n",
       "      <td>1.205000</td>\n",
       "    </tr>\n",
       "    <tr>\n",
       "      <td>24</td>\n",
       "      <td>0.850800</td>\n",
       "    </tr>\n",
       "    <tr>\n",
       "      <td>25</td>\n",
       "      <td>1.101700</td>\n",
       "    </tr>\n",
       "    <tr>\n",
       "      <td>26</td>\n",
       "      <td>1.207700</td>\n",
       "    </tr>\n",
       "    <tr>\n",
       "      <td>27</td>\n",
       "      <td>0.993600</td>\n",
       "    </tr>\n",
       "    <tr>\n",
       "      <td>28</td>\n",
       "      <td>1.203900</td>\n",
       "    </tr>\n",
       "    <tr>\n",
       "      <td>29</td>\n",
       "      <td>1.181500</td>\n",
       "    </tr>\n",
       "    <tr>\n",
       "      <td>30</td>\n",
       "      <td>1.023200</td>\n",
       "    </tr>\n",
       "    <tr>\n",
       "      <td>31</td>\n",
       "      <td>1.131700</td>\n",
       "    </tr>\n",
       "    <tr>\n",
       "      <td>32</td>\n",
       "      <td>1.297000</td>\n",
       "    </tr>\n",
       "    <tr>\n",
       "      <td>33</td>\n",
       "      <td>1.029600</td>\n",
       "    </tr>\n",
       "    <tr>\n",
       "      <td>34</td>\n",
       "      <td>1.385600</td>\n",
       "    </tr>\n",
       "    <tr>\n",
       "      <td>35</td>\n",
       "      <td>1.281500</td>\n",
       "    </tr>\n",
       "    <tr>\n",
       "      <td>36</td>\n",
       "      <td>1.157800</td>\n",
       "    </tr>\n",
       "    <tr>\n",
       "      <td>37</td>\n",
       "      <td>0.965500</td>\n",
       "    </tr>\n",
       "    <tr>\n",
       "      <td>38</td>\n",
       "      <td>1.120300</td>\n",
       "    </tr>\n",
       "    <tr>\n",
       "      <td>39</td>\n",
       "      <td>1.367100</td>\n",
       "    </tr>\n",
       "    <tr>\n",
       "      <td>40</td>\n",
       "      <td>1.222400</td>\n",
       "    </tr>\n",
       "    <tr>\n",
       "      <td>41</td>\n",
       "      <td>0.982700</td>\n",
       "    </tr>\n",
       "    <tr>\n",
       "      <td>42</td>\n",
       "      <td>1.071000</td>\n",
       "    </tr>\n",
       "    <tr>\n",
       "      <td>43</td>\n",
       "      <td>1.218700</td>\n",
       "    </tr>\n",
       "    <tr>\n",
       "      <td>44</td>\n",
       "      <td>1.181000</td>\n",
       "    </tr>\n",
       "    <tr>\n",
       "      <td>45</td>\n",
       "      <td>1.300700</td>\n",
       "    </tr>\n",
       "    <tr>\n",
       "      <td>46</td>\n",
       "      <td>1.262100</td>\n",
       "    </tr>\n",
       "    <tr>\n",
       "      <td>47</td>\n",
       "      <td>1.220600</td>\n",
       "    </tr>\n",
       "    <tr>\n",
       "      <td>48</td>\n",
       "      <td>1.211800</td>\n",
       "    </tr>\n",
       "    <tr>\n",
       "      <td>49</td>\n",
       "      <td>1.476000</td>\n",
       "    </tr>\n",
       "    <tr>\n",
       "      <td>50</td>\n",
       "      <td>1.306500</td>\n",
       "    </tr>\n",
       "    <tr>\n",
       "      <td>51</td>\n",
       "      <td>1.521100</td>\n",
       "    </tr>\n",
       "    <tr>\n",
       "      <td>52</td>\n",
       "      <td>1.263000</td>\n",
       "    </tr>\n",
       "    <tr>\n",
       "      <td>53</td>\n",
       "      <td>1.182600</td>\n",
       "    </tr>\n",
       "    <tr>\n",
       "      <td>54</td>\n",
       "      <td>1.238200</td>\n",
       "    </tr>\n",
       "    <tr>\n",
       "      <td>55</td>\n",
       "      <td>0.820900</td>\n",
       "    </tr>\n",
       "    <tr>\n",
       "      <td>56</td>\n",
       "      <td>1.567500</td>\n",
       "    </tr>\n",
       "    <tr>\n",
       "      <td>57</td>\n",
       "      <td>1.143600</td>\n",
       "    </tr>\n",
       "    <tr>\n",
       "      <td>58</td>\n",
       "      <td>1.746400</td>\n",
       "    </tr>\n",
       "    <tr>\n",
       "      <td>59</td>\n",
       "      <td>0.917000</td>\n",
       "    </tr>\n",
       "    <tr>\n",
       "      <td>60</td>\n",
       "      <td>1.010600</td>\n",
       "    </tr>\n",
       "  </tbody>\n",
       "</table><p>"
      ],
      "text/plain": [
       "<IPython.core.display.HTML object>"
      ]
     },
     "metadata": {},
     "output_type": "display_data"
    }
   ],
   "source": [
    "trainer_stats = trainer.train()"
   ]
  },
  {
   "cell_type": "code",
   "execution_count": 10,
   "metadata": {},
   "outputs": [
    {
     "name": "stderr",
     "output_type": "stream",
     "text": [
      "Unsloth: Will map <|im_end|> to EOS = <|im_end|>.\n",
      "The attention mask is not set and cannot be inferred from input because pad token is same as eos token. As a consequence, you may observe unexpected behavior. Please pass your input's `attention_mask` to obtain reliable results.\n"
     ]
    },
    {
     "data": {
      "text/plain": [
       "['<|im_start|>user\\n杭州的省会在哪里？<|im_end|>\\n<|im_start|>assistant\\n杭州是浙江省的省会，位于中国东部沿海地区。<|im_end|>']"
      ]
     },
     "execution_count": 10,
     "metadata": {},
     "output_type": "execute_result"
    }
   ],
   "source": [
    "from unsloth.chat_templates import get_chat_template\n",
    "\n",
    "tokenizer = get_chat_template(\n",
    "    tokenizer,\n",
    "    chat_template = \"chatml\", # Supports zephyr, chatml, mistral, llama, alpaca, vicuna, vicuna_old, unsloth\n",
    "    mapping = {\"role\" : \"from\", \"content\" : \"value\", \"user\" : \"human\", \"assistant\" : \"gpt\"}, # ShareGPT style\n",
    ")\n",
    "\n",
    "FastLanguageModel.for_inference(model) # Enable native 2x faster inference\n",
    "\n",
    "messages = [\n",
    "    {\"from\": \"human\", \"value\": \"杭州的省会在哪里？\"},\n",
    "]\n",
    "inputs = tokenizer.apply_chat_template(\n",
    "    messages,\n",
    "    tokenize = True,\n",
    "    add_generation_prompt = True, # Must add for generation\n",
    "    return_tensors = \"pt\",\n",
    ").to(\"cuda\")\n",
    "\n",
    "outputs = model.generate(input_ids = inputs, max_new_tokens = 64, use_cache = True)\n",
    "tokenizer.batch_decode(outputs)"
   ]
  },
  {
   "cell_type": "code",
   "execution_count": 11,
   "metadata": {},
   "outputs": [
    {
     "name": "stdout",
     "output_type": "stream",
     "text": [
      "杭州是浙江省的省会，位于中国东部沿海地区。<|im_end|>\n"
     ]
    }
   ],
   "source": [
    "FastLanguageModel.for_inference(model) # Enable native 2x faster inference\n",
    "\n",
    "messages = [\n",
    "    {\"from\": \"human\", \"value\": \"杭州的省会在哪里？\"},\n",
    "]\n",
    "inputs = tokenizer.apply_chat_template(\n",
    "    messages,\n",
    "    tokenize = True,\n",
    "    add_generation_prompt = True, # Must add for generation\n",
    "    return_tensors = \"pt\",\n",
    ").to(\"cuda\")\n",
    "\n",
    "from transformers import TextStreamer\n",
    "text_streamer = TextStreamer(tokenizer, skip_prompt = True)\n",
    "_ = model.generate(input_ids = inputs, streamer = text_streamer, max_new_tokens = 128, use_cache = True)"
   ]
  },
  {
   "cell_type": "code",
   "execution_count": 12,
   "metadata": {},
   "outputs": [
    {
     "data": {
      "text/plain": [
       "('lora_model/tokenizer_config.json',\n",
       " 'lora_model/special_tokens_map.json',\n",
       " 'lora_model/vocab.json',\n",
       " 'lora_model/merges.txt',\n",
       " 'lora_model/added_tokens.json',\n",
       " 'lora_model/tokenizer.json')"
      ]
     },
     "execution_count": 12,
     "metadata": {},
     "output_type": "execute_result"
    }
   ],
   "source": [
    "model.save_pretrained(\"lora_model\") # Local saving\n",
    "tokenizer.save_pretrained(\"lora_model\")"
   ]
  },
  {
   "cell_type": "code",
   "execution_count": 15,
   "metadata": {},
   "outputs": [
    {
     "name": "stderr",
     "output_type": "stream",
     "text": [
      "make: *** llama.cpp: No such file or directory.  Stop.\n",
      "\u001b[0mCMake Error: The source directory \"/home/juan/Documents/unsloth/llama.cpp\" does not exist.\n",
      "Specify --help for usage, or press the help button on the CMake GUI.\u001b[0m\n"
     ]
    },
    {
     "ename": "RuntimeError",
     "evalue": "*** Unsloth: Failed compiling llama.cpp using os.system(...) with error 256. Please report this ASAP!",
     "output_type": "error",
     "traceback": [
      "\u001b[0;31m---------------------------------------------------------------------------\u001b[0m",
      "\u001b[0;31mRuntimeError\u001b[0m                              Traceback (most recent call last)",
      "Cell \u001b[0;32mIn[15], line 1\u001b[0m\n\u001b[0;32m----> 1\u001b[0m \u001b[43mmodel\u001b[49m\u001b[38;5;241;43m.\u001b[39;49m\u001b[43msave_pretrained_gguf\u001b[49m\u001b[43m(\u001b[49m\u001b[38;5;124;43m\"\u001b[39;49m\u001b[38;5;124;43mmodel\u001b[39;49m\u001b[38;5;124;43m\"\u001b[39;49m\u001b[43m,\u001b[49m\u001b[43m \u001b[49m\u001b[43mtokenizer\u001b[49m\u001b[43m,\u001b[49m\u001b[43m \u001b[49m\u001b[43mquantization_method\u001b[49m\u001b[43m \u001b[49m\u001b[38;5;241;43m=\u001b[39;49m\u001b[43m \u001b[49m\u001b[38;5;124;43m\"\u001b[39;49m\u001b[38;5;124;43mq4_k_m\u001b[39;49m\u001b[38;5;124;43m\"\u001b[39;49m\u001b[43m)\u001b[49m \u001b[38;5;66;03m#create llama.cpp\u001b[39;00m\n",
      "File \u001b[0;32m~/miniconda3/envs/unsloth_env/lib/python3.11/site-packages/unsloth/save.py:1697\u001b[0m, in \u001b[0;36munsloth_save_pretrained_gguf\u001b[0;34m(self, save_directory, tokenizer, quantization_method, first_conversion, push_to_hub, token, private, is_main_process, state_dict, save_function, max_shard_size, safe_serialization, variant, save_peft_format, tags, temporary_location, maximum_memory_usage)\u001b[0m\n\u001b[1;32m   1695\u001b[0m python_install \u001b[38;5;241m=\u001b[39m install_python_non_blocking([\u001b[38;5;124m\"\u001b[39m\u001b[38;5;124mgguf\u001b[39m\u001b[38;5;124m\"\u001b[39m, \u001b[38;5;124m\"\u001b[39m\u001b[38;5;124mprotobuf\u001b[39m\u001b[38;5;124m\"\u001b[39m])\n\u001b[1;32m   1696\u001b[0m git_clone\u001b[38;5;241m.\u001b[39mwait()\n\u001b[0;32m-> 1697\u001b[0m makefile \u001b[38;5;241m=\u001b[39m \u001b[43minstall_llama_cpp_make_non_blocking\u001b[49m\u001b[43m(\u001b[49m\u001b[43m)\u001b[49m\n\u001b[1;32m   1698\u001b[0m new_save_directory, old_username \u001b[38;5;241m=\u001b[39m unsloth_save_model(\u001b[38;5;241m*\u001b[39m\u001b[38;5;241m*\u001b[39marguments)\n\u001b[1;32m   1699\u001b[0m python_install\u001b[38;5;241m.\u001b[39mwait()\n",
      "File \u001b[0;32m~/miniconda3/envs/unsloth_env/lib/python3.11/site-packages/unsloth/save.py:783\u001b[0m, in \u001b[0;36minstall_llama_cpp_make_non_blocking\u001b[0;34m()\u001b[0m\n\u001b[1;32m    781\u001b[0m check \u001b[38;5;241m=\u001b[39m os\u001b[38;5;241m.\u001b[39msystem(\u001b[38;5;124m\"\u001b[39m\u001b[38;5;124mcmake llama.cpp -B llama.cpp/build -DBUILD_SHARED_LIBS=OFF -DGGML_CUDA=OFF -DLLAMA_CURL=ON\u001b[39m\u001b[38;5;124m\"\u001b[39m)\n\u001b[1;32m    782\u001b[0m \u001b[38;5;28;01mif\u001b[39;00m check \u001b[38;5;241m!=\u001b[39m \u001b[38;5;241m0\u001b[39m:\n\u001b[0;32m--> 783\u001b[0m     \u001b[38;5;28;01mraise\u001b[39;00m \u001b[38;5;167;01mRuntimeError\u001b[39;00m(\u001b[38;5;124mf\u001b[39m\u001b[38;5;124m\"\u001b[39m\u001b[38;5;124m*** Unsloth: Failed compiling llama.cpp using os.system(...) with error \u001b[39m\u001b[38;5;132;01m{\u001b[39;00mcheck\u001b[38;5;132;01m}\u001b[39;00m\u001b[38;5;124m. Please report this ASAP!\u001b[39m\u001b[38;5;124m\"\u001b[39m)\n\u001b[1;32m    784\u001b[0m \u001b[38;5;28;01mpass\u001b[39;00m\n\u001b[1;32m    785\u001b[0m \u001b[38;5;66;03m# f\"cmake --build llama.cpp/build --config Release -j{psutil.cpu_count()*2} --clean-first --target {' '.join(LLAMA_CPP_TARGETS)}\",\u001b[39;00m\n",
      "\u001b[0;31mRuntimeError\u001b[0m: *** Unsloth: Failed compiling llama.cpp using os.system(...) with error 256. Please report this ASAP!"
     ]
    }
   ],
   "source": [
    "model.save_pretrained_gguf(\"model\", tokenizer, quantization_method = \"q4_k_m\") #create llama.cpp"
   ]
  },
  {
   "cell_type": "code",
   "execution_count": null,
   "metadata": {},
   "outputs": [],
   "source": [
    "print(tokenizer._ollama_modelfile)"
   ]
  },
  {
   "cell_type": "code",
   "execution_count": null,
   "metadata": {},
   "outputs": [],
   "source": [
    "git clone https://www.modelscope.cn/modelscope/ollama-linux.git\n",
    "cd ollama-linux\n",
    "sudo chmod 777 ./ollama-modelscope-install.sh\n",
    "./ollama-modelscope-install.sh\n",
    "ollama serve\n",
    "!ollama create unsloth_qwen2 -f /mnt/workspace/model/Modelfile\n",
    "ollama run unsloth_qwen2"
   ]
  },
  {
   "cell_type": "code",
   "execution_count": 1,
   "metadata": {},
   "outputs": [
    {
     "name": "stderr",
     "output_type": "stream",
     "text": [
      "2025-03-06 13:16:01,195 - modelscope - WARNING - Use trust_remote_code=True. Will invoke codes from gsm8k. Please make sure that you can trust the external codes.\n",
      "2025-03-06 13:16:01,196 - modelscope - WARNING - Use trust_remote_code=True. Will invoke codes from gsm8k. Please make sure that you can trust the external codes.\n"
     ]
    },
    {
     "data": {
      "application/vnd.jupyter.widget-view+json": {
       "model_id": "512ef5cd0ef24786999d7eb16b9c6309",
       "version_major": 2,
       "version_minor": 0
      },
      "text/plain": [
       "Generating train split:   0%|          | 0/7473 [00:00<?, ? examples/s]"
      ]
     },
     "metadata": {},
     "output_type": "display_data"
    },
    {
     "data": {
      "application/vnd.jupyter.widget-view+json": {
       "model_id": "525ec5fe0b9d44cbb897f96e24bd8bd8",
       "version_major": 2,
       "version_minor": 0
      },
      "text/plain": [
       "Generating test split:   0%|          | 0/1319 [00:00<?, ? examples/s]"
      ]
     },
     "metadata": {},
     "output_type": "display_data"
    }
   ],
   "source": [
    "from modelscope.msdatasets import MsDataset\n",
    "ds =  MsDataset.load('modelscope/gsm8k', subset_name='main', split='train')"
   ]
  }
 ],
 "metadata": {
  "kernelspec": {
   "display_name": "unsloth_env",
   "language": "python",
   "name": "python3"
  },
  "language_info": {
   "codemirror_mode": {
    "name": "ipython",
    "version": 3
   },
   "file_extension": ".py",
   "mimetype": "text/x-python",
   "name": "python",
   "nbconvert_exporter": "python",
   "pygments_lexer": "ipython3",
   "version": "3.11.11"
  }
 },
 "nbformat": 4,
 "nbformat_minor": 2
}
