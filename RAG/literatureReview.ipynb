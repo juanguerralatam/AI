{
 "cells": [
  {
   "cell_type": "code",
   "execution_count": null,
   "metadata": {},
   "outputs": [
    {
     "name": "stdout",
     "output_type": "stream",
     "text": [
      "Requirement already satisfied: bibtexparser in /home/juan/miniconda3/envs/juan/lib/python3.10/site-packages (1.4.3)\n",
      "Requirement already satisfied: pyparsing>=2.0.3 in /home/juan/miniconda3/envs/juan/lib/python3.10/site-packages (from bibtexparser) (3.2.1)\n"
     ]
    }
   ],
   "source": [
    "\" / * chose the main atributies from our bibtex file*/ \"\n",
    "\n",
    "#!pip install bibtexparser\n",
    "\n",
    "import bibtexparser\n",
    "import json\n",
    "\n",
    "# Read the .bib file\n",
    "with open('raw/extra.bib', 'r') as bib_file:\n",
    "    bib_database = bibtexparser.load(bib_file)\n",
    "\n",
    "# Extract the required fields\n",
    "articles = []\n",
    "for entry in bib_database.entries:\n",
    "    if entry['ENTRYTYPE'] == 'article':\n",
    "        article = {\n",
    "            'ID': entry['ID'],\n",
    "            'title': entry.get('title', ''),\n",
    "            'abstract': entry.get('abstract', ''),\n",
    "            'journal': entry.get('journaltitle', ''),\n",
    "            'author': entry.get('author', ''),\n",
    "            'keywords': entry.get('keywords', '')\n",
    "        }\n",
    "        articles.append(article)\n",
    "\n",
    "# Write to .json file\n",
    "with open('raw/extra.json', 'w') as json_file:\n",
    "    json.dump(articles, json_file, indent=4)"
   ]
  },
  {
   "cell_type": "code",
   "execution_count": null,
   "metadata": {},
   "outputs": [],
   "source": []
  },
  {
   "cell_type": "code",
   "execution_count": null,
   "metadata": {},
   "outputs": [],
   "source": [
    "\" / * generate a list of keywords to make a cluster of research direction*/ \"\n",
    "\n",
    "import json\n",
    "from openai import OpenAI\n",
    "\n",
    "\n",
    "client = OpenAI(api_key=\"xxxx\", base_url=\"https://api.deepseek.com\")\n",
    "\n",
    "with open('raw/extra_mini.json', 'r') as json_file:\n",
    "    articles = json.load(json_file)\n",
    "\n",
    "def generate_keywords(abstract):\n",
    "    response = client.chat.completions.create(\n",
    "        model=\"deepseek-chat\",\n",
    "        messages=[\n",
    "            {\"role\": \"system\", \"content\": \"You are a strategy management professor \"},\n",
    "            {\"role\": \"user\", \"content\": f\"Generate 5 keywords for the following abstract:\\n\\n{abstract}\\n\\nKeywords:\"},\n",
    "        ],\n",
    "        stream=False\n",
    "    )\n",
    "    keywords_text = response.choices[0].message.content\n",
    "    keywords = [keyword.strip() for keyword in keywords_text.split('\\n') if keyword.strip()]\n",
    "    return keywords\n",
    "\n",
    "def generate_main_purpose(abstract):\n",
    "    response = client.chat.completions.create(\n",
    "        model=\"deepseek-chat\",\n",
    "        messages=[\n",
    "            {\"role\": \"system\", \"content\": \"You are a strategy management professor\"},\n",
    "            {\"role\": \"user\", \"content\": f\"Summarize the main purpose of the following research in one sentence, removing extra information:\\n\\n{abstract}\\n\\nMain Purpose:\"},\n",
    "        ],\n",
    "        stream=False\n",
    "    )\n",
    "    main_purpose = response.choices[0].message.content.strip()\n",
    "    return main_purpose\n",
    "\n",
    "\n",
    "for article in articles:\n",
    "    abstract = article.get('abstract', '')\n",
    "    if abstract:\n",
    "        keywords = generate_keywords(abstract)\n",
    "        main_purpose = generate_main_purpose(abstract)\n",
    "        article['keywords'] = keywords\n",
    "        article['main_purpose'] = main_purpose\n",
    "\n",
    "# Write the updated articles back to the JSON file\n",
    "with open('raw/extra.json', 'w') as json_file:\n",
    "    json.dump(articles, json_file, indent=4)"
   ]
  },
  {
   "cell_type": "code",
   "execution_count": null,
   "metadata": {},
   "outputs": [],
   "source": []
  }
 ],
 "metadata": {
  "kernelspec": {
   "display_name": "juan",
   "language": "python",
   "name": "python3"
  },
  "language_info": {
   "codemirror_mode": {
    "name": "ipython",
    "version": 3
   },
   "file_extension": ".py",
   "mimetype": "text/x-python",
   "name": "python",
   "nbconvert_exporter": "python",
   "pygments_lexer": "ipython3",
   "version": "3.10.16"
  }
 },
 "nbformat": 4,
 "nbformat_minor": 2
}
